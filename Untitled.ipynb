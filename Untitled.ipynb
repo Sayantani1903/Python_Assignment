{
 "cells": [
  {
   "cell_type": "code",
   "execution_count": null,
   "id": "18f0442a-3589-444c-9633-8c5f38039b40",
   "metadata": {},
   "outputs": [],
   "source": [
    "#Explain the key features of python that make it a populer choice for programming? \n",
    "\"\"\"\n",
    "Answer : Python is widely regarded as one of the most popular programming languages for some key features that make it highly appealing for both beginners and experienced developers.\n",
    "These feauters include:\n",
    "1. Simplicity & Readibility : Python's syntax is clean straightforward & similar to plain english which makes it easy to learn and use\n",
    "2. Extensive libraries & Framework : Python has a vast collection of libraries and frameworks that extend its functionality across various field. Libararies like NumPy, Pandas & Scipy\n",
    "are widely used for data science and scientific computing while Django and Flask are \n",
    "\n",
    "    \n"
   ]
  }
 ],
 "metadata": {
  "kernelspec": {
   "display_name": "Python 3 (ipykernel)",
   "language": "python",
   "name": "python3"
  },
  "language_info": {
   "codemirror_mode": {
    "name": "ipython",
    "version": 3
   },
   "file_extension": ".py",
   "mimetype": "text/x-python",
   "name": "python",
   "nbconvert_exporter": "python",
   "pygments_lexer": "ipython3",
   "version": "3.10.8"
  }
 },
 "nbformat": 4,
 "nbformat_minor": 5
}
