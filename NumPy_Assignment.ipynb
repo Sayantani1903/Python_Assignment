{
  "nbformat": 4,
  "nbformat_minor": 0,
  "metadata": {
    "colab": {
      "provenance": [],
      "authorship_tag": "ABX9TyNOgMT6mTLNpbo27z4tzEha",
      "include_colab_link": true
    },
    "kernelspec": {
      "name": "python3",
      "display_name": "Python 3"
    },
    "language_info": {
      "name": "python"
    }
  },
  "cells": [
    {
      "cell_type": "markdown",
      "metadata": {
        "id": "view-in-github",
        "colab_type": "text"
      },
      "source": [
        "<a href=\"https://colab.research.google.com/github/Sayantani1903/Python_Assignment/blob/main/NumPy_Assignment.ipynb\" target=\"_parent\"><img src=\"https://colab.research.google.com/assets/colab-badge.svg\" alt=\"Open In Colab\"/></a>"
      ]
    },
    {
      "cell_type": "markdown",
      "source": [
        "**Q-1 Explain the purpose and advantages of NumPy in scientific computing and Data Analysis.How does it enhance Python's capabilities for numerical operations?**"
      ],
      "metadata": {
        "id": "G9NQ4Helg9ww"
      }
    },
    {
      "cell_type": "markdown",
      "source": [
        "NumPy, which stands for Numerical Python, is a powerful library that serves as the foundation for numerical computing in Python. Its purpose and advantages in scientific computing and data analysis include:\n",
        "\n",
        "### Purpose of NumPy\n",
        "1. **Efficient Array Operations**: NumPy provides support for large, multi-dimensional arrays and matrices, along with a collection of mathematical functions to operate on these arrays.\n",
        "2. **Performance Optimization**: It allows for vectorized operations, enabling faster computation compared to traditional Python lists, especially for large datasets.\n",
        "3. **Mathematical Functions**: NumPy includes a range of mathematical functions for performing operations like linear algebra, Fourier transforms, and random number generation.\n",
        "\n",
        "### Advantages of NumPy\n",
        "1. **Speed**: NumPy’s operations are implemented in C, making them much faster than equivalent Python code, especially for large datasets.\n",
        "2. **Memory Efficiency**: It uses contiguous blocks of memory for its arrays, which can lead to better cache performance and lower memory overhead.\n",
        "3. **Convenient Syntax**: NumPy's syntax is designed for ease of use, allowing for concise and readable code. Operations on arrays can often be performed with a single line of code.\n",
        "4. **Interoperability**: NumPy integrates seamlessly with other scientific computing libraries like SciPy, pandas, and Matplotlib, allowing for comprehensive data analysis and visualization workflows.\n",
        "5. **Broadcasting**: This powerful feature allows operations between arrays of different shapes, which can simplify coding and enhance performance.\n",
        "6. **Support for Complex Data**: NumPy supports complex numbers and provides tools for complex numerical computations, which is essential in many scientific fields.\n",
        "\n",
        "### Enhancements to Python's Capabilities\n",
        "1. **Array Objects**: NumPy introduces the `ndarray` (n-dimensional array) object, which is more efficient than native Python lists for numerical operations.\n",
        "2. **Advanced Indexing and Slicing**: NumPy offers sophisticated methods for indexing and slicing arrays, allowing for efficient data manipulation and retrieval.\n",
        "3. **Mathematical Functions**: It provides a wide range of mathematical functions that can be applied to arrays, allowing for complex operations without the need for explicit loops.\n",
        "4. **Linear Algebra and Statistics**: NumPy has built-in support for linear algebra operations (like matrix multiplication) and statistical functions, making it easier to perform these tasks directly in Python.\n",
        "\n",
        "In summary, NumPy enhances Python's capabilities for numerical operations by providing efficient array handling, a wealth of mathematical functions, and features that promote performance and readability, making it an essential tool for scientific computing and data analysis."
      ],
      "metadata": {
        "id": "cOLkQ9GCihRz"
      }
    },
    {
      "cell_type": "markdown",
      "source": [
        "Q-2 **Compare and contrast no.mean() and np.average() functions in NumPy. When would you use one over the other?**"
      ],
      "metadata": {
        "id": "G71GTRygix-4"
      }
    },
    {
      "cell_type": "code",
      "source": [
        "'''The `np.mean()` and `np.average()` functions in NumPy both serve to calculate averages,\n",
        " but they have some key differences in their functionality and use cases.'''\n",
        "\n",
        "### `np.mean()`\n",
        "'''Purpose: Computes the arithmetic mean (average) of the elements along a specified axis.\n",
        "Syntax: `np.mean(a, axis=None, dtype=None, out=None, keepdims=False)`\n",
        "Default Behavior: Calculates the mean of all elements if no axis is specified.'''\n",
        "#Usage:\n",
        "'''- Ideal for straightforward mean calculations across arrays.\n",
        "  - Less flexible, as it does not accommodate weights for the elements.'''\n",
        "\n",
        "### `np.average()`\n",
        "'''Purpose: Computes the weighted average of the elements along a specified axis.\n",
        "Syntax: `np.average(a, axis=None, weights=None, returned=False)`\n",
        "Weights: Allows you to specify a weights array to give different importance to different elements in the calculation.\n",
        "Default Behavior: If weights are not specified, it behaves like `np.mean()`.'''\n",
        "#Usage:\n",
        "'''- Use when you need to calculate a weighted average, where some values contribute more significantly than others.\n",
        "  - Provides flexibility with the `weights` parameter.'''\n",
        "\n",
        "### When to Use Each\n",
        "# Use `np.mean()` when:\n",
        "'''- You want a simple average without any weighting considerations.\n",
        "  - You are performing standard mean calculations on data without the need for custom weighting.'''\n",
        "\n",
        "#Use `np.average()` when:\n",
        "'''- You need to account for the importance of different values (weighted average).\n",
        "  - You want to control how much influence each element has on the overall average.'''\n",
        "\n",
        "### Example\n",
        "\n",
        "import numpy as np\n",
        "\n",
        "data = np.array([1, 2, 3, 4])\n",
        "\n",
        "# Using np.mean\n",
        "mean_value = np.mean(data)  # Result: 2.5\n",
        "\n",
        "# Using np.average without weights\n",
        "average_value = np.average(data)  # Result: 2.5\n",
        "\n",
        "# Using np.average with weights\n",
        "weights = np.array([1, 1, 1, 4])  # Giving more weight to the last element\n",
        "weighted_average = np.average(data, weights=weights)  # Result: 3.0\n",
        "\n",
        "\n",
        "'''In summary, choose `np.mean()` for straightforward mean calculations and `np.average()` when you need to incorporate weights into your average.'''"
      ],
      "metadata": {
        "colab": {
          "base_uri": "https://localhost:8080/",
          "height": 35
        },
        "id": "zSl40uIOj025",
        "outputId": "8e8b309a-14a1-4f94-92bf-2478b23b8127"
      },
      "execution_count": null,
      "outputs": [
        {
          "output_type": "execute_result",
          "data": {
            "text/plain": [
              "'In summary, choose `np.mean()` for straightforward mean calculations and `np.average()` when you need to incorporate weights into your average.'"
            ],
            "application/vnd.google.colaboratory.intrinsic+json": {
              "type": "string"
            }
          },
          "metadata": {},
          "execution_count": 2
        }
      ]
    },
    {
      "cell_type": "markdown",
      "source": [
        "Q-3**Describe the methods for reversing a NumPy array along along different axes. Provide examples for 1D and 2D arrays.**"
      ],
      "metadata": {
        "id": "mjGZO3ZGlJLs"
      }
    },
    {
      "cell_type": "code",
      "source": [
        "'''Reversing a NumPy array can be done using slicing or the `np.flip()` function,\n",
        "both of which allow you to specify the axes along which to reverse the elements.'''\n",
        "#Here’s how to do it for both 1D and 2D arrays.\n",
        "\n",
        "### Reversing a 1D Array\n",
        "\n",
        "#### Using Slicing\n",
        "#You can reverse a 1D array by using slicing with a step of `-1`.\n",
        "\n",
        "\n",
        "import numpy as np\n",
        "\n",
        "# Create a 1D array\n",
        "arr_1d = np.array([1, 2, 3, 4, 5])\n",
        "\n",
        "# Reverse using slicing\n",
        "reversed_arr_1d = arr_1d[::-1]\n",
        "\n",
        "print(\"Original 1D array:\", arr_1d)\n",
        "print(\"Reversed 1D array:\", reversed_arr_1d)\n",
        "\n",
        "\n",
        "### Reversing a 2D Array\n",
        "\n",
        "#### Reversing Along a Specific Axis\n",
        "#1.Reversing Rows (Vertical Flip): Use `np.flip()` or slicing to reverse the order of rows.\n",
        "\n",
        "\n",
        "# Create a 2D array\n",
        "arr_2d = np.array([[1, 2, 3],\n",
        "                   [4, 5, 6],\n",
        "                   [7, 8, 9]])\n",
        "\n",
        "# Reverse along the first axis (rows)\n",
        "reversed_rows = np.flip(arr_2d, axis=0)\n",
        "# Alternatively: reversed_rows = arr_2d[::-1]\n",
        "\n",
        "print(\"Original 2D array:\")\n",
        "print(arr_2d)\n",
        "print(\"Reversed 2D array along rows:\")\n",
        "print(reversed_rows)\n",
        "\n",
        "\n",
        "#2.Reversing Columns (Horizontal Flip): You can reverse the order of columns by flipping along the second axis.\n",
        "\n",
        "\n",
        "# Reverse along the second axis (columns)\n",
        "reversed_columns = np.flip(arr_2d, axis=1)\n",
        "# Alternatively: reversed_columns = arr_2d[:, ::-1]\n",
        "\n",
        "print(\"Reversed 2D array along columns:\")\n",
        "print(reversed_columns)\n",
        "\n",
        "\n",
        "#3.Reversing Both Axes: You can reverse both rows and columns at once.\n",
        "\n",
        "\n",
        "# Reverse along both axes\n",
        "reversed_both = np.flip(arr_2d)\n",
        "\n",
        "print(\"Reversed 2D array along both axes:\")\n",
        "print(reversed_both)\n",
        "\n",
        "\n",
        "### Summary\n",
        "'''For a **1D array**, use slicing `[::-1]` to reverse.\n",
        "For a **2D array**, use `np.flip(array, axis=0)` to reverse rows, `np.flip(array, axis=1)` for columns,\n",
        "or simply use `np.flip(array)` to reverse both axes.'''\n",
        "\n",
        "#These methods provide a flexible way to manipulate and reverse arrays in NumPy efficiently."
      ],
      "metadata": {
        "colab": {
          "base_uri": "https://localhost:8080/",
          "height": 365
        },
        "id": "6XI1p1LFmNCE",
        "outputId": "dbac3830-cb55-467a-a808-0acd3f23bc06"
      },
      "execution_count": null,
      "outputs": [
        {
          "output_type": "stream",
          "name": "stdout",
          "text": [
            "Original 1D array: [1 2 3 4 5]\n",
            "Reversed 1D array: [5 4 3 2 1]\n",
            "Original 2D array:\n",
            "[[1 2 3]\n",
            " [4 5 6]\n",
            " [7 8 9]]\n",
            "Reversed 2D array along rows:\n",
            "[[7 8 9]\n",
            " [4 5 6]\n",
            " [1 2 3]]\n",
            "Reversed 2D array along columns:\n",
            "[[3 2 1]\n",
            " [6 5 4]\n",
            " [9 8 7]]\n",
            "Reversed 2D array along both axes:\n",
            "[[9 8 7]\n",
            " [6 5 4]\n",
            " [3 2 1]]\n"
          ]
        },
        {
          "output_type": "execute_result",
          "data": {
            "text/plain": [
              "'For a **1D array**, use slicing `[::-1]` to reverse.\\nFor a **2D array**, use `np.flip(array, axis=0)` to reverse rows, `np.flip(array, axis=1)` for columns,\\nor simply use `np.flip(array)` to reverse both axes.'"
            ],
            "application/vnd.google.colaboratory.intrinsic+json": {
              "type": "string"
            }
          },
          "metadata": {},
          "execution_count": 4
        }
      ]
    },
    {
      "cell_type": "markdown",
      "source": [
        "Q-4 **How can you determine the data type of elements in a NumPy array? Discuss the importance of Data types in memory management and performance.**"
      ],
      "metadata": {
        "id": "KOTZNYsJnPUZ"
      }
    },
    {
      "cell_type": "code",
      "source": [
        "'''You can determine the data type of elements in a NumPy array using the `.dtype` attribute.\n",
        "This attribute returns a `numpy.dtype` object, which describes the type of data held in the array.'''\n",
        "\n",
        "### Example of Determining Data Type\n",
        "\n",
        "\n",
        "import numpy as np\n",
        "\n",
        "# Create an array\n",
        "arr = np.array([1, 2, 3, 4])\n",
        "\n",
        "# Check the data type\n",
        "data_type = arr.dtype\n",
        "print(\"Data type of the array:\", data_type)\n",
        "\n",
        "\n",
        "### Importance of Data Types\n",
        "\n",
        "#1.Memory Management:\n",
        "'''Different data types consume different amounts of memory. For instance,\n",
        "an `int32` consumes 4 bytes, while an `int64` consumes 8 bytes.\n",
        "Using an appropriate data type can significantly reduce memory usage, especially in large arrays.\n",
        "For example, if you only need integers between 0 and 255, using `np.uint8` (1 byte) instead of `np.int64` (8 bytes) can save substantial memory.'''\n",
        "\n",
        "#2.Performance:\n",
        "'''Operations on arrays with smaller data types can be faster because less data needs to be moved and processed in memory.\n",
        "NumPy operations are optimized for specific data types. For example,\n",
        "operations on `float32` arrays are generally faster than on `float64` arrays due to lower memory bandwidth requirements.'''\n",
        "\n",
        "#3.Precision and Range:\n",
        "'''Choosing the right data type affects the precision and range of values that can be represented.\n",
        "For instance, using `float32` might lead to precision loss for very large or very small numbers compared to `float64`.\n",
        "For integer types, using `np.int16` might cause overflow if values exceed the maximum representable range.'''\n",
        "\n",
        "#4.Interoperability:\n",
        "'''Data types ensure compatibility with other libraries or systems that might expect data in specific formats. For example,\n",
        "when interfacing with C/C++ code or other scientific libraries, maintaining the correct data type is crucial.'''\n",
        "\n",
        "#Conclusion\n",
        "\n",
        "'''Understanding and properly managing data types in NumPy arrays is essential for optimizing memory usage and enhancing performance.\n",
        "By choosing appropriate data types, you can ensure efficient computation and prevent issues related to overflow or precision loss.'''"
      ],
      "metadata": {
        "colab": {
          "base_uri": "https://localhost:8080/",
          "height": 70
        },
        "id": "c4NgXWKpqXhU",
        "outputId": "c6fd7d46-f0fa-45a7-803b-913461e0f2e3"
      },
      "execution_count": null,
      "outputs": [
        {
          "output_type": "stream",
          "name": "stdout",
          "text": [
            "Data type of the array: int64\n"
          ]
        },
        {
          "output_type": "execute_result",
          "data": {
            "text/plain": [
              "'Understanding and properly managing data types in NumPy arrays is essential for optimizing memory usage and enhancing performance. \\nBy choosing appropriate data types, you can ensure efficient computation and prevent issues related to overflow or precision loss.'"
            ],
            "application/vnd.google.colaboratory.intrinsic+json": {
              "type": "string"
            }
          },
          "metadata": {},
          "execution_count": 5
        }
      ]
    },
    {
      "cell_type": "markdown",
      "source": [
        "Q-5 **Define ndarrays in NumPy and explain their key features . How do they differ from  standard Python lists?**"
      ],
      "metadata": {
        "id": "qHnMs-ScroG3"
      }
    },
    {
      "cell_type": "code",
      "source": [
        "'''NumPy arrays offer several performance benefits over standard Python lists,\n",
        "particularly when it comes to large-scale numerical operations. Here’s a detailed analysis of these advantages:'''\n",
        "\n",
        "### 1.Memory Efficiency\n",
        "'''Contiguous Memory Allocation: NumPy arrays are stored in contiguous blocks of memory,\n",
        "which reduces memory fragmentation and improves cache performance. This leads to faster access times compared to Python lists,\n",
        " which can store references to objects scattered across memory.\n",
        "Data Type Homogeneity: All elements in a NumPy array are of the same data type, allowing for optimized memory usage.\n",
        "In contrast, Python lists can hold different data types, which incurs additional overhead.'''\n",
        "\n",
        "### 2.Speed of Operations\n",
        "'''Vectorized Operations: NumPy allows for vectorized operations, meaning that operations can be applied to entire arrays\n",
        "without explicit loops.\n",
        "This can lead to significant performance improvements because the operations are executed at the C level,\n",
        "avoiding the overhead of Python’s interpreted loop execution.\n",
        "Batch Processing: Operations on arrays are performed in batches, leveraging low-level optimizations and CPU vectorization (SIMD instructions)\n",
        "to speed up computations, particularly for large datasets.'''\n",
        "\n",
        "### 3.Reduced Overhead\n",
        "'''Less Function Call Overhead: When performing operations on NumPy arrays,\n",
        "the overhead associated with function calls is minimized. This is especially beneficial in loops,\n",
        "where the cost of repeatedly calling a function can add up significantly.\n",
        "Built-in Functions: NumPy provides a rich set of optimized mathematical functions that are implemented in C,\n",
        "which can lead to performance gains over writing custom Python functions for similar tasks.'''\n",
        "\n",
        "### 4.Broadcasting\n",
        "'''Efficient Operations on Arrays of Different Shapes: NumPy’s broadcasting feature allows for arithmetic operations on arrays of\n",
        "different shapes without the need for explicit replication of data.\n",
        "This leads to more memory-efficient and faster calculations compared to manually adjusting the sizes of Python lists.'''\n",
        "\n",
        "### 5.Parallelism and Optimizations\n",
        "#Underlying Libraries:\n",
        "'''NumPy operations often leverage optimized libraries like BLAS and LAPACK,\n",
        "which are highly tuned for performance on large arrays. These libraries can utilize multi-threading and other optimizations that\n",
        "Python’s standard list operations do not.'''\n",
        "\n",
        "### 6.Ease of Integration with Other Libraries\n",
        "'''Interoperability with Scientific Libraries**: Many scientific libraries (e.g., SciPy, pandas, Matplotlib)\n",
        "are built on top of NumPy and are optimized for NumPy arrays.\n",
        "Using NumPy arrays allows for seamless integration and enhanced performance across these libraries.'''\n",
        "\n",
        "### Performance Comparison Example\n",
        "\n",
        "#Here’s a simple performance comparison between NumPy arrays and Python lists for a large-scale numerical operation:\n",
        "\n",
        "\n",
        "import numpy as np\n",
        "import time\n",
        "\n",
        "# Define the size of the array\n",
        "size = 10**6\n",
        "\n",
        "# Python list\n",
        "list_data = list(range(size))\n",
        "\n",
        "# NumPy array\n",
        "array_data = np.arange(size)\n",
        "\n",
        "# Measure time for sum operation using Python list\n",
        "start_time = time.time()\n",
        "list_sum = sum(list_data)\n",
        "print(\"Python list sum time:\", time.time() - start_time)\n",
        "\n",
        "# Measure time for sum operation using NumPy array\n",
        "start_time = time.time()\n",
        "array_sum = np.sum(array_data)\n",
        "print(\"NumPy array sum time:\", time.time() - start_time)\n",
        "\n",
        "### Conclusion\n",
        "\n",
        "'''The performance benefits of NumPy arrays over Python lists become particularly evident in large-scale numerical operations,\n",
        "where memory efficiency, speed of operations, reduced overhead, and optimized functionalities provide significant advantages.\n",
        "For tasks involving large datasets or complex mathematical computations,\n",
        "using NumPy is highly recommended to achieve better performance and efficiency.'''"
      ],
      "metadata": {
        "colab": {
          "base_uri": "https://localhost:8080/",
          "height": 105
        },
        "id": "EUcE99aCw6lY",
        "outputId": "b8bb0e23-89b9-41e7-cd81-dfdcddde23cf"
      },
      "execution_count": null,
      "outputs": [
        {
          "output_type": "stream",
          "name": "stdout",
          "text": [
            "Python list sum time: 0.007214784622192383\n",
            "NumPy array sum time: 0.0040094852447509766\n"
          ]
        },
        {
          "output_type": "execute_result",
          "data": {
            "text/plain": [
              "'The performance benefits of NumPy arrays over Python lists become particularly evident in large-scale numerical operations,\\nwhere memory efficiency, speed of operations, reduced overhead, and optimized functionalities provide significant advantages.\\nFor tasks involving large datasets or complex mathematical computations, \\nusing NumPy is highly recommended to achieve better performance and efficiency.'"
            ],
            "application/vnd.google.colaboratory.intrinsic+json": {
              "type": "string"
            }
          },
          "metadata": {},
          "execution_count": 6
        }
      ]
    },
    {
      "cell_type": "markdown",
      "source": [
        "Q-6 **Analyze the performance benefits of NumPy arrays over Python lists for large-scale numerical operations.**"
      ],
      "metadata": {
        "id": "jHXcao6_vY0m"
      }
    },
    {
      "cell_type": "code",
      "source": [
        "'''NumPy arrays offer several performance benefits over standard Python lists,\n",
        "particularly when it comes to large-scale numerical operations.'''\n",
        "#Here’s a detailed analysis of these advantages:\n",
        "\n",
        "### 1. **Memory Efficiency**\n",
        "'''Contiguous Memory Allocation: NumPy arrays are stored in contiguous blocks of memory,\n",
        "which reduces memory fragmentation and improves cache performance.\n",
        "This leads to faster access times compared to Python lists, which can store references to objects scattered across memory.\n",
        "Data Type Homogeneity: All elements in a NumPy array are of the same data type, allowing for optimized memory usage.\n",
        "In contrast, Python lists can hold different data types, which incurs additional overhead.'''\n",
        "\n",
        "### 2. **Speed of Operations**\n",
        "'''Vectorized Operations: NumPy allows for vectorized operations, meaning that operations can be applied to entire arrays\n",
        "without explicit loops. This can lead to significant performance improvements because the operations are executed at the C level,\n",
        "avoiding the overhead of Python’s interpreted loop execution.\n",
        "Batch Processing: Operations on arrays are performed in batches, leveraging low-level optimizations and CPU vectorization (SIMD instructions)\n",
        "to speed up computations, particularly for large datasets.'''\n",
        "\n",
        "### 3. **Reduced Overhead**\n",
        "'''Less Function Call Overhead: When performing operations on NumPy arrays, the overhead associated with function calls is minimized.\n",
        "This is especially beneficial in loops, where the cost of repeatedly calling a function can add up significantly.\n",
        "Built-in Functions: NumPy provides a rich set of optimized mathematical functions that are implemented in C,\n",
        "which can lead to performance gains over writing custom Python functions for similar tasks.'''\n",
        "\n",
        "### 4. **Broadcasting**\n",
        "'''Efficient Operations on Arrays of Different Shapes:\n",
        "NumPy’s broadcasting feature allows for arithmetic operations on arrays of different shapes without the need for explicit replication of data.\n",
        "This leads to more memory-efficient and faster calculations compared to manually adjusting the sizes of Python lists.'''\n",
        "\n",
        "### 5. **Parallelism and Optimizations**\n",
        "'''Underlying Libraries: NumPy operations often leverage optimized libraries like BLAS and LAPACK,\n",
        "which are highly tuned for performance on large arrays.\n",
        "These libraries can utilize multi-threading and other optimizations that Python’s standard list operations do not.'''\n",
        "\n",
        "### 6.Ease of Integration with Other Libraries\n",
        "'''Interoperability with Scientific Libraries:\n",
        "Many scientific libraries (e.g., SciPy, pandas, Matplotlib) are built on top of NumPy and are optimized for NumPy arrays.\n",
        "Using NumPy arrays allows for seamless integration and enhanced performance across these libraries.'''\n",
        "\n",
        "### Performance Comparison Example\n",
        "\n",
        "#Here’s a simple performance comparison between NumPy arrays and Python lists for a large-scale numerical operation:\n",
        "\n",
        "import numpy as np\n",
        "import time\n",
        "\n",
        "# Define the size of the array\n",
        "size = 10**6\n",
        "\n",
        "# Python list\n",
        "list_data = list(range(size))\n",
        "\n",
        "# NumPy array\n",
        "array_data = np.arange(size)\n",
        "\n",
        "# Measure time for sum operation using Python list\n",
        "start_time = time.time()\n",
        "list_sum = sum(list_data)\n",
        "print(\"Python list sum time:\", time.time() - start_time)\n",
        "\n",
        "# Measure time for sum operation using NumPy array\n",
        "start_time = time.time()\n",
        "array_sum = np.sum(array_data)\n",
        "print(\"NumPy array sum time:\", time.time() - start_time)\n",
        "\n",
        "### Conclusion\n",
        "\n",
        "'''The performance benefits of NumPy arrays over Python lists become particularly evident in large-scale numerical operations,\n",
        "where memory efficiency, speed of operations, reduced overhead, and optimized functionalities provide significant advantages.\n",
        "For tasks involving large datasets or complex mathematical computations,\n",
        "using NumPy is highly recommended to achieve better performance and efficiency.'''"
      ],
      "metadata": {
        "colab": {
          "base_uri": "https://localhost:8080/",
          "height": 105
        },
        "id": "QxqtTZFT1cry",
        "outputId": "89d1b966-4a4d-41e2-bb7d-6f03a7750e97"
      },
      "execution_count": null,
      "outputs": [
        {
          "output_type": "stream",
          "name": "stdout",
          "text": [
            "Python list sum time: 0.008241415023803711\n",
            "NumPy array sum time: 0.001764535903930664\n"
          ]
        },
        {
          "output_type": "execute_result",
          "data": {
            "text/plain": [
              "'The performance benefits of NumPy arrays over Python lists become particularly evident in large-scale numerical operations, \\nwhere memory efficiency, speed of operations, reduced overhead, and optimized functionalities provide significant advantages.\\nFor tasks involving large datasets or complex mathematical computations, \\nusing NumPy is highly recommended to achieve better performance and efficiency.'"
            ],
            "application/vnd.google.colaboratory.intrinsic+json": {
              "type": "string"
            }
          },
          "metadata": {},
          "execution_count": 7
        }
      ]
    },
    {
      "cell_type": "markdown",
      "source": [
        "Q-7 **Compare vstack() and hstack() functions in NumPy. Provide examples demonstrating their usage and output.**"
      ],
      "metadata": {
        "id": "-uOO17IS3VjA"
      }
    },
    {
      "cell_type": "code",
      "source": [
        "'''In NumPy, `vstack()` and `hstack()` are functions used to stack arrays vertically and horizontally, respectively.\n",
        "Here's a breakdown of each function, along with examples demonstrating their usage.'''\n",
        "\n",
        "### `vstack()`\n",
        "'''Purpose: Stacks arrays vertically (row-wise).\n",
        "Input: Arrays must have the same number of columns.'''\n",
        "\n",
        "#### Example:\n",
        "import numpy as np\n",
        "\n",
        "# Create two 2D arrays\n",
        "array1 = np.array([[1, 2], [3, 4]])\n",
        "array2 = np.array([[5, 6], [7, 8]])\n",
        "\n",
        "# Stack arrays vertically\n",
        "result_vstack = np.vstack((array1, array2))\n",
        "\n",
        "print(\"vstack result:\")\n",
        "print(result_vstack)\n",
        "\n",
        "\n",
        "\n",
        "### `hstack()`\n",
        "'''Purpose: Stacks arrays horizontally (column-wise).\n",
        "Input: Arrays must have the same number of rows.'''\n",
        "\n",
        "#### Example:\n",
        "\n",
        "# Create two 2D arrays\n",
        "array1 = np.array([[1, 2], [3, 4]])\n",
        "array2 = np.array([[5, 6], [7, 8]])\n",
        "\n",
        "# Stack arrays horizontally\n",
        "result_hstack = np.hstack((array1, array2))\n",
        "\n",
        "print(\"hstack result:\")\n",
        "print(result_hstack)\n",
        "\n",
        "\n",
        "### Summary\n",
        "'''`vstack()`combines arrays by adding rows, producing more rows and the same number of columns.\n",
        "`hstack()`combines arrays by adding columns, producing more columns and the same number of rows.'''\n",
        "\n",
        "#Both functions are useful for combining datasets in different orientations based on your needs."
      ],
      "metadata": {
        "colab": {
          "base_uri": "https://localhost:8080/",
          "height": 192
        },
        "id": "ZRH2Wp-H762-",
        "outputId": "b838e62e-2b6f-4360-d9de-c8f2a889d603"
      },
      "execution_count": null,
      "outputs": [
        {
          "output_type": "stream",
          "name": "stdout",
          "text": [
            "vstack result:\n",
            "[[1 2]\n",
            " [3 4]\n",
            " [5 6]\n",
            " [7 8]]\n",
            "hstack result:\n",
            "[[1 2 5 6]\n",
            " [3 4 7 8]]\n"
          ]
        },
        {
          "output_type": "execute_result",
          "data": {
            "text/plain": [
              "'`vstack()`combines arrays by adding rows, producing more rows and the same number of columns.\\n`hstack()`combines arrays by adding columns, producing more columns and the same number of rows.'"
            ],
            "application/vnd.google.colaboratory.intrinsic+json": {
              "type": "string"
            }
          },
          "metadata": {},
          "execution_count": 21
        }
      ]
    },
    {
      "cell_type": "markdown",
      "source": [
        "Q-8 **Explain the differences between fliplr() and flipud() methods in NumPy including their effects on various array dimensons.**"
      ],
      "metadata": {
        "id": "uvf-k209A4uP"
      }
    },
    {
      "cell_type": "code",
      "source": [
        "#In NumPy, `fliplr()` and `flipud()` are functions used to flip arrays in different directions:\n",
        "\n",
        "### `fliplr()`\n",
        "'''Purpose: Flips an array from left to right (horizontal flip).\n",
        "Input: Works on 2D arrays (matrices) and can be applied to higher-dimensional arrays as well, flipping the last axis.'''\n",
        "\n",
        "#### Example:\n",
        "import numpy as np\n",
        "\n",
        "# Create a 2D array\n",
        "array_2d = np.array([[1, 2, 3],\n",
        "                     [4, 5, 6],\n",
        "                     [7, 8, 9]])\n",
        "\n",
        "# Flip left to right\n",
        "flipped_lr = np.fliplr(array_2d)\n",
        "\n",
        "print(\"Original Array:\")\n",
        "print(array_2d)\n",
        "\n",
        "print(\"\\nFlipped Left to Right:\")\n",
        "print(flipped_lr)\n",
        "\n",
        "\n",
        "#### Output:\n",
        "'''\n",
        "Original Array:\n",
        "[[1 2 3]\n",
        " [4 5 6]\n",
        " [7 8 9]]\n",
        "\n",
        "Flipped Left to Right:\n",
        "[[3 2 1]\n",
        " [6 5 4]\n",
        " [9 8 7]]\n",
        "'''\n",
        "\n",
        "###`flipud()`\n",
        "'''Purpose: Flips an array from up to down (vertical flip).\n",
        "Input: Primarily operates on 2D arrays, flipping the first axis.'''\n",
        "\n",
        "#### Example:\n",
        "# Flip up to down\n",
        "flipped_ud = np.flipud(array_2d)\n",
        "\n",
        "print(\"\\nFlipped Up to Down:\")\n",
        "print(flipped_ud)\n",
        "\n",
        "\n",
        "#### Output:\n",
        "'''\n",
        "Flipped Up to Down:\n",
        "[[7 8 9]\n",
        " [4 5 6]\n",
        " [1 2 3]]\n",
        "'''\n",
        "\n",
        "### Differences\n",
        "#1.Direction of Flip:\n",
        "'''`fliplr()`: Flips the array horizontally (left to right).\n",
        "`flipud()`: Flips the array vertically (up to down).'''\n",
        "\n",
        "#2.Effect on Array Dimensions:\n",
        "'''2D Arrays: Both functions will change the arrangement of elements, but `fliplr()` changes columns, while `flipud()` changes rows.\n",
        "1D Arrays: Neither function applies directly, but you can use `fliplr()` as a special case that effectively behaves\n",
        "like a reverse operation for a 1D array.\n",
        "Higher-Dimensional Arrays: Both functions operate on the last axis for `fliplr()` and the first axis for `flipud()`,\n",
        "meaning they can affect multi-dimensional arrays while maintaining the structure of other axes.'''\n",
        "\n",
        "### Summary\n",
        "'''Use `fliplr()` when you want to mirror an array horizontally.\n",
        "Use `flipud()` when you want to mirror an array vertically.\n",
        "Both functions are useful for data manipulation and transformation in various contexts.'''"
      ],
      "metadata": {
        "colab": {
          "base_uri": "https://localhost:8080/",
          "height": 296
        },
        "id": "y77TgFuDBwqU",
        "outputId": "433ec310-3788-4a5f-ca2f-4a8d230ab304"
      },
      "execution_count": null,
      "outputs": [
        {
          "output_type": "stream",
          "name": "stdout",
          "text": [
            "Original Array:\n",
            "[[1 2 3]\n",
            " [4 5 6]\n",
            " [7 8 9]]\n",
            "\n",
            "Flipped Left to Right:\n",
            "[[3 2 1]\n",
            " [6 5 4]\n",
            " [9 8 7]]\n",
            "\n",
            "Flipped Up to Down:\n",
            "[[7 8 9]\n",
            " [4 5 6]\n",
            " [1 2 3]]\n"
          ]
        },
        {
          "output_type": "execute_result",
          "data": {
            "text/plain": [
              "'Use `fliplr()` when you want to mirror an array horizontally.\\nUse `flipud()` when you want to mirror an array vertically.\\nBoth functions are useful for data manipulation and transformation in various contexts.'"
            ],
            "application/vnd.google.colaboratory.intrinsic+json": {
              "type": "string"
            }
          },
          "metadata": {},
          "execution_count": 23
        }
      ]
    },
    {
      "cell_type": "markdown",
      "source": [
        "Q-9 **Discuss the functionality of the array_split() method in NumPy . How does it handles uneven splits?**"
      ],
      "metadata": {
        "id": "k_HKr9_3FzSL"
      }
    },
    {
      "cell_type": "code",
      "source": [
        "'''The `array_split()` function in NumPy is used to divide an array into multiple sub-arrays.\n",
        "It provides more flexibility than the `split()` method because it allows for uneven splits.'''\n",
        "\n",
        "### Functionality of `array_split()`\n",
        "\n",
        "#Basic Syntax:\n",
        "'''numpy.array_split(ary, indices_or_sections, axis=0)\n",
        "`ary`: The input array to be split.\n",
        "`indices_or_sections`: Can be an integer (indicating the number of equal sections) or a list of indices where the array should be split.\n",
        "`axis`: The axis along which to split the array. Default is 0 (row-wise).'''\n",
        "\n",
        "### How It Handles Uneven Splits\n",
        "\n",
        "'''When using `array_split()` with an integer as `indices_or_sections`,\n",
        "NumPy will attempt to divide the array into the specified number of equal sections.\n",
        "If the array cannot be evenly divided (for example, when the length of the array is not perfectly divisible by the number of sections),\n",
        "NumPy will distribute the extra elements among the resulting sub-arrays.'''\n",
        "\n",
        "#### Example of Uneven Splits\n",
        "\n",
        "import numpy as np\n",
        "\n",
        "# Create a 1D array\n",
        "array_1d = np.array([1, 2, 3, 4, 5, 6, 7])\n",
        "\n",
        "# Split the array into 3 sections\n",
        "result = np.array_split(array_1d, 3)\n",
        "\n",
        "print(\"Original Array:\")\n",
        "print(array_1d)\n",
        "\n",
        "print(\"\\nSplit Result:\")\n",
        "for idx, arr in enumerate(result):\n",
        "    print(f\"Sub-array {idx}: {arr}\")\n",
        "\n",
        "\n",
        "### Key Points\n",
        "'''Uneven Distribution: In the example, the original array of length 7 was split into 3 parts.\n",
        "The first part received 3 elements, while the next two parts received 2 and 2 elements, respectively.\n",
        "Higher Dimensions: `array_split()` can also be used on 2D and higher-dimensional arrays,\n",
        "allowing for splitting along different axes.'''\n",
        "\n",
        "#### Example with 2D Array\n",
        "\n",
        "# Create a 2D array\n",
        "array_2d = np.array([[1, 2, 3],\n",
        "                     [4, 5, 6],\n",
        "                     [7, 8, 9],\n",
        "                     [10, 11, 12]])\n",
        "\n",
        "# Split the array into 3 sections along the first axis\n",
        "result_2d = np.array_split(array_2d, 3, axis=0)\n",
        "\n",
        "print(\"\\n2D Array Split Result:\")\n",
        "for idx, arr in enumerate(result_2d):\n",
        "    print(f\"Sub-array {idx}:\\n{arr}\")\n",
        "\n",
        "\n",
        "### Summary\n",
        "'''`array_split()` is a versatile function that allows for splitting arrays into multiple sub-arrays, even if the splits cannot be perfectly equal.\n",
        "When the total number of elements cannot be evenly divided,\n",
        "it distributes the remainder across the resulting sub-arrays,\n",
        "ensuring that all elements are included in the output.'''"
      ],
      "metadata": {
        "colab": {
          "base_uri": "https://localhost:8080/",
          "height": 348
        },
        "id": "6QA3RxZDGwPl",
        "outputId": "8f21b532-a096-4546-da5a-5f84ec25856c"
      },
      "execution_count": null,
      "outputs": [
        {
          "output_type": "stream",
          "name": "stdout",
          "text": [
            "Original Array:\n",
            "[1 2 3 4 5 6 7]\n",
            "\n",
            "Split Result:\n",
            "Sub-array 0: [1 2 3]\n",
            "Sub-array 1: [4 5]\n",
            "Sub-array 2: [6 7]\n",
            "\n",
            "2D Array Split Result:\n",
            "Sub-array 0:\n",
            "[[1 2 3]\n",
            " [4 5 6]]\n",
            "Sub-array 1:\n",
            "[[7 8 9]]\n",
            "Sub-array 2:\n",
            "[[10 11 12]]\n"
          ]
        },
        {
          "output_type": "execute_result",
          "data": {
            "text/plain": [
              "'`array_split()` is a versatile function that allows for splitting arrays into multiple sub-arrays, even if the splits cannot be perfectly equal.\\nWhen the total number of elements cannot be evenly divided, \\nit distributes the remainder across the resulting sub-arrays,\\nensuring that all elements are included in the output.'"
            ],
            "application/vnd.google.colaboratory.intrinsic+json": {
              "type": "string"
            }
          },
          "metadata": {},
          "execution_count": 30
        }
      ]
    },
    {
      "cell_type": "markdown",
      "source": [
        "Q-10 **Explain the concepts of vectorization and broadcasting in NumPy. How do they contribute to efficient array operations?**"
      ],
      "metadata": {
        "id": "o5HKc0UUIqlk"
      }
    },
    {
      "cell_type": "code",
      "source": [
        "'''Vectorization and broadcasting are two powerful concepts in NumPy that contribute significantly\n",
        "to the efficiency of array operations. Here’s a detailed look at each concept:'''\n",
        "\n",
        "### Vectorization\n",
        "\n",
        "#Definition:\n",
        "'''Vectorization refers to the process of converting operations that would typically\n",
        "be performed in a loop into array-based operations. In NumPy, this means applying operations directly to whole arrays or large chunks\n",
        "of data rather than iterating through elements one at a time.'''\n",
        "\n",
        "#Benefits:\n",
        "'''1.Performance: Vectorized operations are usually faster because they leverage low-level optimizations and are implemented in C,\n",
        " allowing for more efficient computation.\n",
        "2.Conciseness: Code is more readable and compact, as it avoids explicit loops.'''\n",
        "\n",
        "#### Example of Vectorization:\n",
        "import numpy as np\n",
        "\n",
        "# Create two arrays\n",
        "a = np.array([1, 2, 3])\n",
        "b = np.array([4, 5, 6])\n",
        "\n",
        "# Vectorized addition\n",
        "result = a + b  # No loop is needed\n",
        "\n",
        "print(result)  # Output: [5 7 9]\n",
        "\n",
        "\n",
        "#In this example, the addition operation is applied to the entire arrays at once rather than element by element.\n",
        "\n",
        "### Broadcasting\n",
        "\n",
        "#Definition:\n",
        "'''Broadcasting is a technique used in NumPy to perform arithmetic operations on arrays of different shapes.\n",
        "When two arrays have different shapes,\n",
        "NumPy automatically \"broadcasts\" the smaller array across the larger one so that they can be made compatible for element-wise operations.'''\n",
        "\n",
        "#Rules:\n",
        "'''1.If the arrays have the same number of dimensions, they must be compatible in\n",
        "all dimensions (either the dimensions are equal or one of them is 1).\n",
        "2.If the arrays have a different number of dimensions, the smaller-dimensional array is\n",
        "padded with ones on its left side until both arrays have the same number of dimensions.'''\n",
        "\n",
        "#### Example of Broadcasting:\n",
        "\n",
        "# Create a 2D array and a 1D array\n",
        "array_2d = np.array([[1, 2, 3],\n",
        "                     [4, 5, 6]])\n",
        "\n",
        "array_1d = np.array([10, 20, 30])\n",
        "\n",
        "# Broadcasting the 1D array to add to the 2D array\n",
        "result_broadcast = array_2d + array_1d\n",
        "\n",
        "print(result_broadcast)\n",
        "\n",
        "\n",
        "'''In this example, `array_1d` is broadcasted across `array_2d`.\n",
        "NumPy effectively treats the 1D array as if it were reshaped to match the shape of the 2D array, allowing for seamless addition without explicit looping.'''\n",
        "\n",
        "### Contributions to Efficient Array Operations\n",
        "\n",
        "'''1.Reduced Overhead: By eliminating the need for Python loops,\n",
        "both vectorization and broadcasting minimize the overhead associated with Python’s interpreted execution. This results in faster computations.\n",
        "\n",
        "2.Memory Efficiency: Broadcasting allows operations to be performed without creating large temporary arrays,\n",
        " which conserves memory and reduces the computational cost.\n",
        "\n",
        "3.Improved Code Readability: Both concepts lead to clearer and more maintainable code. Operations become more intuitive,\n",
        " focusing on what is being computed rather than how it is implemented.\n",
        "\n",
        "4.Optimized Libraries: NumPy's underlying implementations are highly optimized, and leveraging vectorization\n",
        "and broadcasting allows users to take full advantage of these optimizations for large datasets.'''\n",
        "\n",
        "### Summary\n",
        "'''Vectorization simplifies and accelerates array operations by applying functions to entire arrays at once.\n",
        "Broadcasting enables operations between arrays of different shapes without needing explicit reshaping, making computations more flexible and efficient.\n",
        "Together, they are fundamental to NumPy’s performance and ease of use, allowing for powerful data manipulation and analysis with minimal code.'''"
      ],
      "metadata": {
        "colab": {
          "base_uri": "https://localhost:8080/",
          "height": 122
        },
        "id": "1u1sqf_rKypd",
        "outputId": "9e8e1b8f-a804-4c36-f853-3eba3ad3ddeb"
      },
      "execution_count": null,
      "outputs": [
        {
          "output_type": "stream",
          "name": "stdout",
          "text": [
            "[5 7 9]\n",
            "[[11 22 33]\n",
            " [14 25 36]]\n"
          ]
        },
        {
          "output_type": "execute_result",
          "data": {
            "text/plain": [
              "'Vectorization simplifies and accelerates array operations by applying functions to entire arrays at once.\\nBroadcasting enables operations between arrays of different shapes without needing explicit reshaping, making computations more flexible and efficient.\\nTogether, they are fundamental to NumPy’s performance and ease of use, allowing for powerful data manipulation and analysis with minimal code.'"
            ],
            "application/vnd.google.colaboratory.intrinsic+json": {
              "type": "string"
            }
          },
          "metadata": {},
          "execution_count": 33
        }
      ]
    },
    {
      "cell_type": "markdown",
      "source": [
        "*Create a 3x3 NumPy array with random integers between 1 to 100.Then , interchange its rows and columns*"
      ],
      "metadata": {
        "id": "mkiE8tkXMv36"
      }
    },
    {
      "cell_type": "code",
      "source": [
        "import numpy as np\n",
        "\n",
        "# Create a 3x3 array with random integers between 1 and 100\n",
        "array = np.random.randint(1, 101, size=(3, 3))\n",
        "print(\"Original Array:\")\n",
        "print(array)\n",
        "\n",
        "# Interchange rows and columns (transpose the array)\n",
        "transposed_array = array.T\n",
        "print(\"\\nTransposed Array:\")\n",
        "print(transposed_array)\n"
      ],
      "metadata": {
        "colab": {
          "base_uri": "https://localhost:8080/"
        },
        "id": "2QR8-pvoQNJv",
        "outputId": "da962026-de0a-4808-b884-909fe9a78b45"
      },
      "execution_count": 34,
      "outputs": [
        {
          "output_type": "stream",
          "name": "stdout",
          "text": [
            "Original Array:\n",
            "[[ 1 91 30]\n",
            " [36 85 50]\n",
            " [48 85 50]]\n",
            "\n",
            "Transposed Array:\n",
            "[[ 1 36 48]\n",
            " [91 85 85]\n",
            " [30 50 50]]\n"
          ]
        }
      ]
    },
    {
      "cell_type": "markdown",
      "source": [
        "*Generate a 1D NumPy array with 10 elements. Reshape it into a 2x5 array , then into a 5x2 array*"
      ],
      "metadata": {
        "id": "vhNMdqMbR0kw"
      }
    },
    {
      "cell_type": "code",
      "source": [
        "import numpy as np\n",
        "\n",
        "# Generate a 1D array with 10 elements\n",
        "array_1d = np.arange(10)  # This creates an array with values from 0 to 9\n",
        "print(\"1D Array:\")\n",
        "print(array_1d)\n",
        "\n",
        "# Reshape it into a 2x5 array\n",
        "array_2x5 = array_1d.reshape(2, 5)\n",
        "print(\"\\n2x5 Array:\")\n",
        "print(array_2x5)\n",
        "\n",
        "# Reshape it into a 5x2 array\n",
        "array_5x2 = array_1d.reshape(5, 2)\n",
        "print(\"\\n5x2 Array:\")\n",
        "print(array_5x2)\n"
      ],
      "metadata": {
        "colab": {
          "base_uri": "https://localhost:8080/"
        },
        "id": "ydd08bG0SmhA",
        "outputId": "e433e825-1278-472b-8b37-d643db6a9f7d"
      },
      "execution_count": 35,
      "outputs": [
        {
          "output_type": "stream",
          "name": "stdout",
          "text": [
            "1D Array:\n",
            "[0 1 2 3 4 5 6 7 8 9]\n",
            "\n",
            "2x5 Array:\n",
            "[[0 1 2 3 4]\n",
            " [5 6 7 8 9]]\n",
            "\n",
            "5x2 Array:\n",
            "[[0 1]\n",
            " [2 3]\n",
            " [4 5]\n",
            " [6 7]\n",
            " [8 9]]\n"
          ]
        }
      ]
    },
    {
      "cell_type": "markdown",
      "source": [
        "*Create a 4x4 NumPy array with NumPy array with random float values\n",
        ". Add a border of zeros around it.resulting in a 6x6 array*"
      ],
      "metadata": {
        "id": "VakGyZWEStQT"
      }
    },
    {
      "cell_type": "code",
      "source": [
        "import numpy as np\n",
        "\n",
        "# Create a 4x4 array with random float values\n",
        "array_4x4 = np.random.rand(4, 4)\n",
        "print(\"Original 4x4 Array:\")\n",
        "print(array_4x4)\n",
        "\n",
        "# Add a border of zeros around the array\n",
        "array_with_border = np.pad(array_4x4, pad_width=1, mode='constant', constant_values=0)\n",
        "print(\"\\n6x6 Array with Border of Zeros:\")\n",
        "print(array_with_border)\n"
      ],
      "metadata": {
        "colab": {
          "base_uri": "https://localhost:8080/"
        },
        "id": "pBgr3KdbVB9N",
        "outputId": "3f68856c-1082-4931-d190-aec9731503a1"
      },
      "execution_count": 36,
      "outputs": [
        {
          "output_type": "stream",
          "name": "stdout",
          "text": [
            "Original 4x4 Array:\n",
            "[[0.3235948  0.68725596 0.03035268 0.30651149]\n",
            " [0.32381046 0.20760116 0.86964075 0.67788152]\n",
            " [0.67971678 0.73857988 0.56587166 0.99841965]\n",
            " [0.02338909 0.76801215 0.93130251 0.03073119]]\n",
            "\n",
            "6x6 Array with Border of Zeros:\n",
            "[[0.         0.         0.         0.         0.         0.        ]\n",
            " [0.         0.3235948  0.68725596 0.03035268 0.30651149 0.        ]\n",
            " [0.         0.32381046 0.20760116 0.86964075 0.67788152 0.        ]\n",
            " [0.         0.67971678 0.73857988 0.56587166 0.99841965 0.        ]\n",
            " [0.         0.02338909 0.76801215 0.93130251 0.03073119 0.        ]\n",
            " [0.         0.         0.         0.         0.         0.        ]]\n"
          ]
        }
      ]
    },
    {
      "cell_type": "markdown",
      "source": [
        "*Create a NumPy array of strings ['python' 'numpy' 'pandas'] . Apply different case transformations (uppercase,lowercase,titlecase,etc.)to each element.*"
      ],
      "metadata": {
        "id": "pxpoPxkWVSmc"
      }
    },
    {
      "cell_type": "code",
      "source": [
        "import numpy as np\n",
        "\n",
        "# Create a NumPy array of strings\n",
        "array_strings = np.array(['python', 'numpy', 'pandas'])\n",
        "\n",
        "# Apply different case transformations\n",
        "uppercase = np.char.upper(array_strings)\n",
        "lowercase = np.char.lower(array_strings)\n",
        "titlecase = np.char.title(array_strings)\n",
        "capitalize = np.char.capitalize(array_strings)\n",
        "\n",
        "# Print the results\n",
        "print(\"Original Array:\")\n",
        "print(array_strings)\n",
        "\n",
        "print(\"\\nUppercase:\")\n",
        "print(uppercase)\n",
        "\n",
        "print(\"\\nLowercase:\")\n",
        "print(lowercase)\n",
        "\n",
        "print(\"\\nTitlecase:\")\n",
        "print(titlecase)\n",
        "\n",
        "print(\"\\nCapitalized:\")\n",
        "print(capitalize)\n"
      ],
      "metadata": {
        "colab": {
          "base_uri": "https://localhost:8080/"
        },
        "id": "TSNsgC3lW-SM",
        "outputId": "50d1c4e1-be13-42f3-9fa1-a2212fe46a78"
      },
      "execution_count": 37,
      "outputs": [
        {
          "output_type": "stream",
          "name": "stdout",
          "text": [
            "Original Array:\n",
            "['python' 'numpy' 'pandas']\n",
            "\n",
            "Uppercase:\n",
            "['PYTHON' 'NUMPY' 'PANDAS']\n",
            "\n",
            "Lowercase:\n",
            "['python' 'numpy' 'pandas']\n",
            "\n",
            "Titlecase:\n",
            "['Python' 'Numpy' 'Pandas']\n",
            "\n",
            "Capitalized:\n",
            "['Python' 'Numpy' 'Pandas']\n"
          ]
        }
      ]
    },
    {
      "cell_type": "markdown",
      "source": [
        "*Generate a NumPy array of words. Insert a space between each character of every word in the arry*"
      ],
      "metadata": {
        "id": "zx2m1SxXXE91"
      }
    },
    {
      "cell_type": "code",
      "source": [
        "import numpy as np\n",
        "\n",
        "# Create a NumPy array of words\n",
        "array_words = np.array(['python', 'numpy', 'pandas'])\n",
        "\n",
        "# Insert a space between each character of every word\n",
        "spaced_words = np.char.join(' ', array_words)\n",
        "\n",
        "# Print the results\n",
        "print(\"Original Array:\")\n",
        "print(array_words)\n",
        "\n",
        "print(\"\\nArray with Spaces Between Characters:\")\n",
        "print(spaced_words)\n"
      ],
      "metadata": {
        "colab": {
          "base_uri": "https://localhost:8080/"
        },
        "id": "YdGlQp8vacgv",
        "outputId": "1482f314-bd2d-4295-a9f6-478c823ed27f"
      },
      "execution_count": 38,
      "outputs": [
        {
          "output_type": "stream",
          "name": "stdout",
          "text": [
            "Original Array:\n",
            "['python' 'numpy' 'pandas']\n",
            "\n",
            "Array with Spaces Between Characters:\n",
            "['p y t h o n' 'n u m p y' 'p a n d a s']\n"
          ]
        }
      ]
    },
    {
      "cell_type": "markdown",
      "source": [
        "*Create two 2D NumPy arrays and perform element-wise addition,substraction,multiplication,and division.*"
      ],
      "metadata": {
        "id": "LdwbISqVagh5"
      }
    },
    {
      "cell_type": "code",
      "source": [
        "import numpy as np\n",
        "\n",
        "# Create two 2D NumPy arrays\n",
        "array1 = np.array([[1, 2, 3],\n",
        "                   [4, 5, 6]])\n",
        "\n",
        "array2 = np.array([[7, 8, 9],\n",
        "                   [10, 11, 12]])\n",
        "\n",
        "# Perform element-wise operations\n",
        "addition = array1 + array2\n",
        "subtraction = array1 - array2\n",
        "multiplication = array1 * array2\n",
        "division = array1 / array2\n",
        "\n",
        "# Print the results\n",
        "print(\"Array 1:\")\n",
        "print(array1)\n",
        "\n",
        "print(\"\\nArray 2:\")\n",
        "print(array2)\n",
        "\n",
        "print(\"\\nElement-wise Addition:\")\n",
        "print(addition)\n",
        "\n",
        "print(\"\\nElement-wise Subtraction:\")\n",
        "print(subtraction)\n",
        "\n",
        "print(\"\\nElement-wise Multiplication:\")\n",
        "print(multiplication)\n",
        "\n",
        "print(\"\\nElement-wise Division:\")\n",
        "print(division)\n"
      ],
      "metadata": {
        "colab": {
          "base_uri": "https://localhost:8080/"
        },
        "id": "3hq36gsEcbO1",
        "outputId": "88ac55fd-51a1-412a-9560-aad9993aeab8"
      },
      "execution_count": 39,
      "outputs": [
        {
          "output_type": "stream",
          "name": "stdout",
          "text": [
            "Array 1:\n",
            "[[1 2 3]\n",
            " [4 5 6]]\n",
            "\n",
            "Array 2:\n",
            "[[ 7  8  9]\n",
            " [10 11 12]]\n",
            "\n",
            "Element-wise Addition:\n",
            "[[ 8 10 12]\n",
            " [14 16 18]]\n",
            "\n",
            "Element-wise Subtraction:\n",
            "[[-6 -6 -6]\n",
            " [-6 -6 -6]]\n",
            "\n",
            "Element-wise Multiplication:\n",
            "[[ 7 16 27]\n",
            " [40 55 72]]\n",
            "\n",
            "Element-wise Division:\n",
            "[[0.14285714 0.25       0.33333333]\n",
            " [0.4        0.45454545 0.5       ]]\n"
          ]
        }
      ]
    },
    {
      "cell_type": "markdown",
      "source": [
        "*Use NumPy to create a 5x5 identity matrix, then extract its diagonal elements.*"
      ],
      "metadata": {
        "id": "BTGrhEKPcl4k"
      }
    },
    {
      "cell_type": "code",
      "source": [
        "import numpy as np\n",
        "\n",
        "# Create a 5x5 identity matrix\n",
        "identity_matrix = np.eye(5)\n",
        "print(\"5x5 Identity Matrix:\")\n",
        "print(identity_matrix)\n",
        "\n",
        "# Extract the diagonal elements\n",
        "diagonal_elements = np.diag(identity_matrix)\n",
        "print(\"\\nDiagonal Elements:\")\n",
        "print(diagonal_elements)\n"
      ],
      "metadata": {
        "colab": {
          "base_uri": "https://localhost:8080/"
        },
        "id": "UyLcYFHdepLs",
        "outputId": "69c7886d-4a58-4cd5-e576-8fda329878e9"
      },
      "execution_count": 40,
      "outputs": [
        {
          "output_type": "stream",
          "name": "stdout",
          "text": [
            "5x5 Identity Matrix:\n",
            "[[1. 0. 0. 0. 0.]\n",
            " [0. 1. 0. 0. 0.]\n",
            " [0. 0. 1. 0. 0.]\n",
            " [0. 0. 0. 1. 0.]\n",
            " [0. 0. 0. 0. 1.]]\n",
            "\n",
            "Diagonal Elements:\n",
            "[1. 1. 1. 1. 1.]\n"
          ]
        }
      ]
    },
    {
      "cell_type": "markdown",
      "source": [
        "*Generate a NumPy array of 100 random integers between 0 and 1000. Find and display all prime numbers in this array*"
      ],
      "metadata": {
        "id": "qMZzvuPAe2Oe"
      }
    },
    {
      "cell_type": "code",
      "source": [
        "import numpy as np\n",
        "\n",
        "# Generate an array of 100 random integers between 0 and 1000\n",
        "random_integers = np.random.randint(0, 1000, size=100)\n",
        "print(\"Random Integers:\")\n",
        "print(random_integers)\n",
        "\n",
        "# Function to check if a number is prime\n",
        "def is_prime(num):\n",
        "    if num < 2:\n",
        "        return False\n",
        "    for i in range(2, int(num**0.5) + 1):\n",
        "        if num % i == 0:\n",
        "            return False\n",
        "    return True\n",
        "\n",
        "# Find and display all prime numbers in the array\n",
        "prime_numbers = [num for num in random_integers if is_prime(num)]\n",
        "print(\"\\nPrime Numbers:\")\n",
        "print(prime_numbers)\n"
      ],
      "metadata": {
        "colab": {
          "base_uri": "https://localhost:8080/"
        },
        "id": "s3L9fyetfzpr",
        "outputId": "0e750f67-84b3-47e8-996c-7fa8d2822676"
      },
      "execution_count": 41,
      "outputs": [
        {
          "output_type": "stream",
          "name": "stdout",
          "text": [
            "Random Integers:\n",
            "[838 563 807 874 634 958 120  65  23 460 657 177 405 136 473 797 836  97\n",
            " 823 414 304  34 681 581 495 271 338 906 827 602 900 427 296 197 147 749\n",
            "  22 439 493 159 400 803 696 273 819 705 429 981 944  75 123   9 983 867\n",
            " 863 324 223 935 221 545 531 215 809 951 560 167 193 188  70 527 110  46\n",
            " 772 529 894 949 553 932 608 145 473 528 936 963 559 361 717   2 144 970\n",
            " 202 243 590  99 831 948 529 911 807 727]\n",
            "\n",
            "Prime Numbers:\n",
            "[563, 23, 797, 97, 823, 271, 827, 197, 439, 983, 863, 223, 809, 167, 193, 2, 911, 727]\n"
          ]
        }
      ]
    },
    {
      "cell_type": "markdown",
      "source": [
        "*Create a NumPy array representing daily temparature for a month. Calculate and display the weekly averages.*"
      ],
      "metadata": {
        "id": "equCR-ybf20y"
      }
    },
    {
      "cell_type": "code",
      "source": [
        "import numpy as np\n",
        "\n",
        "def generate_daily_temperatures(days=30, low=15, high=30):\n",
        "    \"\"\"\n",
        "    Generate random daily temperatures for a given number of days.\n",
        "\n",
        "    Parameters:\n",
        "        days (int): Number of days to generate temperatures for.\n",
        "        low (int/float): Minimum possible temperature.\n",
        "        high (int/float): Maximum possible temperature.\n",
        "\n",
        "    Returns:\n",
        "        np.ndarray: Array of daily temperatures.\n",
        "    \"\"\"\n",
        "    return np.random.uniform(low, high, size=days)\n",
        "\n",
        "def calculate_weekly_averages(temperatures, days_per_week=7):\n",
        "    \"\"\"\n",
        "    Calculate weekly averages from an array of temperatures.\n",
        "\n",
        "    Parameters:\n",
        "        temperatures (np.ndarray): Array of daily temperatures.\n",
        "        days_per_week (int): Number of days in a week.\n",
        "\n",
        "    Returns:\n",
        "        list: List of weekly averages.\n",
        "    \"\"\"\n",
        "    weeks = np.array_split(temperatures, range(days_per_week, len(temperatures), days_per_week))\n",
        "    return [np.mean(week) for week in weeks]\n",
        "\n",
        "# Generate daily temperatures for 30 days\n",
        "daily_temperatures = generate_daily_temperatures()\n",
        "\n",
        "# Calculate weekly averages\n",
        "weekly_averages = calculate_weekly_averages(daily_temperatures)\n",
        "\n",
        "# Display results\n",
        "print(\"Daily Temperatures (°C):\", daily_temperatures)\n",
        "print(\"Weekly Averages (°C):\", weekly_averages)\n"
      ],
      "metadata": {
        "colab": {
          "base_uri": "https://localhost:8080/"
        },
        "id": "sqhI4dEmgXqx",
        "outputId": "de3afcdf-f92b-4666-9142-59f91d6de376"
      },
      "execution_count": 55,
      "outputs": [
        {
          "output_type": "stream",
          "name": "stdout",
          "text": [
            "Daily Temperatures (°C): [28.38704087 21.95257833 27.65687257 20.44124235 15.43874824 17.63934134\n",
            " 22.90999121 19.94504807 29.09204764 25.7966829  24.68921167 16.73350901\n",
            " 19.96302093 20.44814864 19.71736751 20.19355009 16.14147138 26.31321776\n",
            " 15.35067648 24.28863209 17.23222348 28.80813403 15.11429722 26.17297905\n",
            " 28.9446381  22.14347755 20.63971667 29.1936926  26.52597677 19.47647192]\n",
            "Weekly Averages (°C): [22.06083070161845, 22.381095553441547, 19.89101982724852, 24.43099074693435, 23.001224348834345]\n"
          ]
        }
      ]
    }
  ]
}