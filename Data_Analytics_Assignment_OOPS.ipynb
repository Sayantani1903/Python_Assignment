{
  "nbformat": 4,
  "nbformat_minor": 0,
  "metadata": {
    "colab": {
      "provenance": [],
      "authorship_tag": "ABX9TyMSOsnbtIWT95h9uxQ7lFG/",
      "include_colab_link": true
    },
    "kernelspec": {
      "name": "python3",
      "display_name": "Python 3"
    },
    "language_info": {
      "name": "python"
    }
  },
  "cells": [
    {
      "cell_type": "markdown",
      "metadata": {
        "id": "view-in-github",
        "colab_type": "text"
      },
      "source": [
        "<a href=\"https://colab.research.google.com/github/Sayantani1903/Python_Assignment/blob/main/Data_Analytics_Assignment_OOPS.ipynb\" target=\"_parent\"><img src=\"https://colab.research.google.com/assets/colab-badge.svg\" alt=\"Open In Colab\"/></a>"
      ]
    },
    {
      "cell_type": "markdown",
      "source": [
        "**What are the five key concept of Object-Oriented-Programming(OOP)?**"
      ],
      "metadata": {
        "id": "WyG0YBY5jP7N"
      }
    },
    {
      "cell_type": "markdown",
      "source": [
        "Object-Oriented Programming (OOP) is centered around several key concepts that help structure code in a more modular and reusable way. Here are the five main concepts:\n",
        "\n",
        "**Encapsulation**: This principle involves bundling data (attributes) and methods (functions) that operate on the data into a single unit, or class. It restricts direct access to some of the object's components, which helps protect the integrity of the data and promotes data hiding.\n",
        "\n",
        "**Abstraction**: Abstraction focuses on simplifying complex systems by exposing only the necessary parts while hiding the underlying implementation details. This allows programmers to work with high-level concepts without needing to understand all the complexities.\n",
        "\n",
        "**Inheritance**: Inheritance enables a new class (subclass) to inherit properties and behaviors (methods) from an existing class (superclass). This promotes code reusability and establishes a hierarchical relationship between classes, allowing for shared functionality and attributes.\n",
        "\n",
        "**Polymorphism**: Polymorphism allows objects of different classes to be treated as objects of a common superclass. It enables methods to be defined in different ways for different classes, allowing for dynamic method resolution at runtime and facilitating code flexibility and scalability.\n",
        "\n",
        "**Composition**: Composition involves constructing complex objects by combining simpler objects or classes. It promotes a \"has-a\" relationship, allowing for more flexible designs and the ability to create complex types by assembling simpler, reusable components.\n",
        "\n",
        "These concepts work together to make OOP a powerful paradigm for designing and managing software systems.\n"
      ],
      "metadata": {
        "id": "ZD62qE_8kfGm"
      }
    },
    {
      "cell_type": "markdown",
      "source": [
        "**Write a Python class for a `Car` with attributes for `make` `model` and `year` . Include a method to display the car's information.**"
      ],
      "metadata": {
        "id": "GkZ1YDgSlUGQ"
      }
    },
    {
      "cell_type": "code",
      "source": [
        "class Car:\n",
        "    def __init__(self, make, model, year):\n",
        "        self.make = make\n",
        "        self.model = model\n",
        "        self.year = year\n",
        "\n",
        "    def display_info(self):\n",
        "        print(f\"Car Information:\\nMake: {self.make}\\nModel: {self.model}\\nYear: {self.year}\")\n",
        "\n",
        "# Example usage\n",
        "my_car = Car(\"Toyota\", \"Camry\", 2020)\n",
        "my_car.display_info()\n",
        "\n",
        "#In this code:\n",
        "\n",
        "'''The __init__ method initializes the car's attributes when a new instance of the Car class is created.\n",
        "The display_info method prints the car's details in a formatted way.\n",
        "You can create an instance of the Car class and call the display_info method to see the car's information.'''\n",
        "\n",
        "\n"
      ],
      "metadata": {
        "colab": {
          "base_uri": "https://localhost:8080/",
          "height": 140
        },
        "id": "6KAOHDa_mQc2",
        "outputId": "412285d4-8877-49b0-8340-c89a4b66ea98"
      },
      "execution_count": null,
      "outputs": [
        {
          "output_type": "stream",
          "name": "stdout",
          "text": [
            "Car Information:\n",
            "Make: Toyota\n",
            "Model: Camry\n",
            "Year: 2020\n"
          ]
        },
        {
          "output_type": "execute_result",
          "data": {
            "text/plain": [
              "\"The __init__ method initializes the car's attributes when a new instance of the Car class is created.\\nThe display_info method prints the car's details in a formatted way.\\nYou can create an instance of the Car class and call the display_info method to see the car's information.\""
            ],
            "application/vnd.google.colaboratory.intrinsic+json": {
              "type": "string"
            }
          },
          "metadata": {},
          "execution_count": 1
        }
      ]
    },
    {
      "cell_type": "markdown",
      "source": [
        "**Explain the difference between instance methods and class methods. Provide an example of each**"
      ],
      "metadata": {
        "id": "O6Kn7kXqm_R9"
      }
    },
    {
      "cell_type": "code",
      "source": [
        "'''In Python, instance methods and class methods are both types of methods used in classes,\n",
        "but they differ in how they are defined and how they access data.\n",
        "Here’s an explanation of each, along with examples:'''\n",
        "\n",
        "#Instance Methods\n",
        "#Definition:\n",
        "'''Instance methods operate on individual instances of a class.\n",
        "They take self as the first parameter, which refers to the specific object that calls the method.\n",
        "Instance methods can access and modify the instance's attributes.'''\n",
        "\n",
        "#Example:\n",
        "\n",
        "\n",
        "class Dog:\n",
        "    def __init__(self, name, age):\n",
        "        self.name = name\n",
        "        self.age = age\n",
        "\n",
        "    def bark(self):\n",
        "        return f\"{self.name} says Woof!\"\n",
        "\n",
        "# Usage\n",
        "my_dog = Dog(\"Buddy\", 3)\n",
        "print(my_dog.bark())  # Output: Buddy says Woof!\n",
        "\n",
        "#Class Methods\n",
        "#Definition:\n",
        "'''Class methods operate on the class itself rather than on instances.\n",
        "They take cls as the first parameter, which refers to the class.\n",
        "Class methods are defined using the @classmethod decorator.\n",
        "They can be used to access or modify class-level attributes and are often used for\n",
        "factory methods or to provide alternative constructors.'''\n",
        "\n",
        "#Example:\n",
        "\n",
        "\n",
        "class Dog:\n",
        "    species = \"Canis lupus familiaris\"  # Class attribute\n",
        "\n",
        "    def __init__(self, name, age):\n",
        "        self.name = name\n",
        "        self.age = age\n",
        "\n",
        "    @classmethod\n",
        "    def get_species(cls):\n",
        "        return cls.species\n",
        "\n",
        "# Usage\n",
        "print(Dog.get_species())  # Output: Canis lupus familiaris\n",
        "\n",
        "#Summary of Differences\n",
        "#Instance Methods:\n",
        "\n",
        "#Defined with self.\n",
        "'''Access instance attributes.\n",
        "Operate on an instance of the class.'''\n",
        "\n",
        "#Class Methods:\n",
        "\n",
        "#Defined with @classmethod and use cls.\n",
        "\n",
        "'''Access class attributes.\n",
        "Operate on the class itself, not on individual instances.\n",
        "These methods serve different purposes and can be used together to create flexible and\n",
        "powerful class designs.'''\n"
      ],
      "metadata": {
        "colab": {
          "base_uri": "https://localhost:8080/",
          "height": 105
        },
        "id": "lESlaAcqqIjh",
        "outputId": "3cb53834-9d47-4c5b-ea75-9121e2e961ef"
      },
      "execution_count": null,
      "outputs": [
        {
          "output_type": "stream",
          "name": "stdout",
          "text": [
            "Buddy says Woof!\n",
            "Canis lupus familiaris\n"
          ]
        },
        {
          "output_type": "execute_result",
          "data": {
            "text/plain": [
              "'Access class attributes.\\nOperate on the class itself, not on individual instances.\\nThese methods serve different purposes and can be used together to create flexible and \\npowerful class designs.'"
            ],
            "application/vnd.google.colaboratory.intrinsic+json": {
              "type": "string"
            }
          },
          "metadata": {},
          "execution_count": 3
        }
      ]
    },
    {
      "cell_type": "markdown",
      "source": [
        "**How does Python implement method overloading?Give an example.**"
      ],
      "metadata": {
        "id": "JEMP01Jxrz7R"
      }
    },
    {
      "cell_type": "code",
      "source": [
        "'''Python does not support traditional method overloading as seen in some other\n",
        "programming languages like Java or C++. Instead, Python allows you to define a single method\n",
        "that can accept a variable number of arguments,\n",
        "often using default parameters, *args, or **kwargs.'''\n",
        "\n",
        "#Example of Method Overloading in Python\n",
        "\n",
        "#Here's how you can achieve a similar effect to method overloading:\n",
        "\n",
        "\n",
        "class MathOperations:\n",
        "    def add(self, *args):\n",
        "        return sum(args)\n",
        "\n",
        "# Usage\n",
        "math_ops = MathOperations()\n",
        "\n",
        "print(math_ops.add(5, 10))          # Output: 15\n",
        "print(math_ops.add(1, 2, 3, 4, 5))  # Output: 15\n",
        "print(math_ops.add(10))              # Output: 10\n",
        "\n",
        "#Explanation\n",
        "#Single Method:\n",
        "'''The add method is defined to accept a variable number of arguments using *args.\n",
        "This allows it to handle any number of input values.'''\n",
        "\n",
        "#Functionality:\n",
        "'''Inside the method, sum(args) calculates the total of all provided arguments,\n",
        "regardless of how many are passed.'''\n",
        "\n",
        "#Usage:\n",
        "'''You can call the add method with different numbers of arguments,\n",
        "and it behaves accordingly.\n",
        "\n",
        "Alternative with Default Arguments'''\n",
        "#You can also achieve some level of overloading using default arguments:\n",
        "\n",
        "\n",
        "class MathOperations:\n",
        "    def multiply(self, a, b=1):\n",
        "        return a * b\n",
        "\n",
        "# Usage\n",
        "math_ops = MathOperations()\n",
        "\n",
        "print(math_ops.multiply(5, 10))  # Output: 50\n",
        "print(math_ops.multiply(5))       # Output: 5 (5 * 1)\n",
        "\n",
        "'''In this example, the multiply method can be called with one or two arguments,\n",
        "providing flexibility in how it is used.\n",
        "\n",
        "While Python doesn't have true method overloading,\n",
        "these techniques allow you to achieve similar functionality.'''"
      ],
      "metadata": {
        "colab": {
          "base_uri": "https://localhost:8080/",
          "height": 157
        },
        "id": "66UqCZBZsV7e",
        "outputId": "d9b9f3ef-45be-4a69-fecc-cb69caeda4be"
      },
      "execution_count": null,
      "outputs": [
        {
          "output_type": "stream",
          "name": "stdout",
          "text": [
            "15\n",
            "15\n",
            "10\n",
            "50\n",
            "5\n"
          ]
        },
        {
          "output_type": "execute_result",
          "data": {
            "text/plain": [
              "\"In this example, the multiply method can be called with one or two arguments, \\nproviding flexibility in how it is used.\\n\\nWhile Python doesn't have true method overloading,\\nthese techniques allow you to achieve similar functionality.\""
            ],
            "application/vnd.google.colaboratory.intrinsic+json": {
              "type": "string"
            }
          },
          "metadata": {},
          "execution_count": 5
        }
      ]
    },
    {
      "cell_type": "markdown",
      "source": [
        "**What are the three types of access modifiers in Python? How are they denoted?**"
      ],
      "metadata": {
        "id": "67ZAzPCfuSOd"
      }
    },
    {
      "cell_type": "code",
      "source": [
        "'''In Python, access modifiers are used to control the visibility\n",
        "and accessibility of class attributes and methods.\n",
        "There are three primary types of access modifiers:'''\n",
        "\n",
        "#1. Public\n",
        "#Definition:\n",
        "'''Attributes and methods are accessible from anywhere in the program.'''\n",
        "#Denotation:\n",
        "'''No special prefix.'''\n",
        "\n",
        "#Example:\n",
        "\n",
        "\n",
        "class MyClass:\n",
        "    def __init__(self):\n",
        "        self.public_attribute = \"I am public\"\n",
        "\n",
        "obj = MyClass()\n",
        "print(obj.public_attribute)  # Accessible\n",
        "\n",
        "#2. Protected\n",
        "#Definition:\n",
        "'''Attributes and methods are intended to be accessible only within the class and its subclasses.\n",
        "They can be accessed from outside the class but are meant for internal use.'''\n",
        "#Denotation:\n",
        "'''A single underscore prefix (_).'''\n",
        "\n",
        "#Example:\n",
        "\n",
        "class MyClass:\n",
        "    def __init__(self):\n",
        "        self._protected_attribute = \"I am protected\"\n",
        "\n",
        "class SubClass(MyClass):\n",
        "    def access_protected(self):\n",
        "        return self._protected_attribute  # Accessible in subclass\n",
        "\n",
        "obj = SubClass()\n",
        "print(obj.access_protected())  # Output: I am protected\n",
        "\n",
        "#3. Private\n",
        "#Definition:\n",
        "'''Attributes and methods are not accessible from outside the class.\n",
        "They are meant for internal use only.'''\n",
        "#Denotation:\n",
        "'''A double underscore prefix (__).'''\n",
        "\n",
        "#Example:\n",
        "\n",
        "class MyClass:\n",
        "    def __init__(self):\n",
        "        self.__private_attribute = \"I am private\"\n",
        "\n",
        "    def get_private(self):\n",
        "        return self.__private_attribute  # Accessible within the class\n",
        "\n",
        "obj = MyClass()\n",
        "# print(obj.__private_attribute)  # Raises AttributeError\n",
        "print(obj.get_private())  # Output: I am private\n",
        "#Summary of Access Modifiers\n",
        "#Public:\n",
        "'''No prefix, accessible anywhere.'''\n",
        "#Protected:\n",
        "'''Single underscore (_), intended for use in the class and subclasses.'''\n",
        "#Private:\n",
        "'''Double underscore (__), not accessible outside the class.'''\n",
        "'''These modifiers help encapsulate data and implement object-oriented principles like\n",
        "abstraction and encapsulation'''"
      ],
      "metadata": {
        "colab": {
          "base_uri": "https://localhost:8080/",
          "height": 105
        },
        "id": "_2WgkUS9vehh",
        "outputId": "f89b816d-097b-4387-ae72-77bc2533d3dc"
      },
      "execution_count": null,
      "outputs": [
        {
          "output_type": "stream",
          "name": "stdout",
          "text": [
            "I am public\n",
            "I am protected\n",
            "I am private\n"
          ]
        },
        {
          "output_type": "execute_result",
          "data": {
            "text/plain": [
              "'These modifiers help encapsulate data and implement object-oriented principles like \\nabstraction and encapsulation'"
            ],
            "application/vnd.google.colaboratory.intrinsic+json": {
              "type": "string"
            }
          },
          "metadata": {},
          "execution_count": 7
        }
      ]
    },
    {
      "cell_type": "markdown",
      "source": [
        "**Describe the five types of inheritance in Python. Provide a simple example of multiple inheritance**"
      ],
      "metadata": {
        "id": "AjeN4RHWlA_H"
      }
    },
    {
      "cell_type": "code",
      "source": [
        "'''In Python, inheritance allows a class (the child or derived class) to inherit attributes and methods from another class (the parent or base class).'''\n",
        "\n",
        "#There are five main types of inheritance:\n",
        "\n",
        "#1.Single Inheritance:\n",
        "'''A derived class inherits from a single base class.'''\n",
        "\n",
        "class Animal:\n",
        "  def speak(self):\n",
        "    return \"Animal speaks\"\n",
        "\n",
        "class Dog(Animal):\n",
        "  def bark(self):\n",
        "    return \"Woof!\"\n",
        "\n",
        "    dog = Dog()\n",
        "    print(dog.speak())  # Output: Animal speaks\n",
        "    print(dog.bark())   # Output: Woof\n",
        "\n",
        "#2.Multiple Inheritance:\n",
        "'''A derived class inherits from multiple base classes.\n",
        "This can lead to complex relationships but can be useful for combining functionality from different classes.'''\n",
        "\n",
        "class Flyer:\n",
        "  def fly(self):\n",
        "    return \"Flying high\"\n",
        "\n",
        "class Swimmer:\n",
        "  def swim(self):\n",
        "    return \"Swimming fast\"\n",
        "\n",
        "class Duck(Flyer, Swimmer):\n",
        "  def quack(self):\n",
        "    return \"Quack!\"\n",
        "\n",
        "    duck = Duck()\n",
        "    print(duck.fly())   # Output: Flying high\n",
        "    print(duck.swim())  # Output: Swimming fast\n",
        "    print(duck.quack()) # Output: Quack!\n",
        "\n",
        "\n",
        "#3.Multilevel Inheritance:\n",
        "'''A derived class inherits from another derived class, creating a hierarchy'''\n",
        "\n",
        "class Animal:\n",
        "  def speak(self):\n",
        "    return \"Animal speaks\"\n",
        "\n",
        "class Dog(Animal):\n",
        "  def bark(self):\n",
        "    return \"Woof!\"\n",
        "\n",
        "class Puppy(Dog):\n",
        "  def weep(self):\n",
        "    return \"Whimper!\"\n",
        "\n",
        "    puppy = Puppy()\n",
        "    print(puppy.speak())  # Output: Animal speaks\n",
        "    print(puppy.bark())   # Output: Woof!\n",
        "    print(puppy.weep())   # Output: Whimper!\n",
        "\n",
        "\n",
        "#4.Hierarchical Inheritance:\n",
        "'''Multiple derived classes inherit from a single base class'''\n",
        "\n",
        "class Animal:\n",
        "  def speak(self):\n",
        "    return \"Animal speaks\"\n",
        "\n",
        "class Dog(Animal):\n",
        "  def bark(self):\n",
        "    return \"Woof!\"\n",
        "\n",
        "class Cat(Animal):\n",
        "  def meow(self):\n",
        "    return \"Meow!\"\n",
        "\n",
        "    dog = Dog()\n",
        "    cat = Cat()\n",
        "    print(dog.speak())  # Output: Animal speaks\n",
        "    print(cat.speak())  # Output: Animal speaks\n",
        "    print(dog.bark())   # Output: Woof!\n",
        "    print(cat.meow())    # Output: Meow!\n",
        "\n",
        "\n",
        "#5.Hybrid Inheritance:\n",
        "'''A combination of two or more types of inheritance.\n",
        "This can create complex class structures.'''\n",
        "\n",
        "class Animal:\n",
        "  def speak(self):\n",
        "    return \"Animal speaks\"\n",
        "\n",
        "class Flyer:\n",
        "  def fly(self):\n",
        "    return \"Flying high\"\n",
        "\n",
        "class Bird(Animal, Flyer):\n",
        "  def chirp(self):\n",
        "    return \"Chirp!\"\n",
        "\n",
        "class Sparrow(Bird):\n",
        "  def tweet(self):\n",
        "    return \"Tweet!\"\n",
        "\n",
        "Sparrow = Sparrow()\n",
        "print(Sparrow.speak())  # Output: Animal speaks\n",
        "print(Sparrow.fly())    # Output: Flying high\n",
        "print(Sparrow.chirp())  # Output: Chirp!\n",
        "print(Sparrow.tweet())  # Output: Tweet!\n",
        "\n",
        "### Example of Multiple Inheritance\n",
        "'''In the example provided above under multiple inheritance, the `Duck` class inherits from both the `Flyer` and `Swimmer` classes.\n",
        "This allows the `Duck` to have the functionality of both flying and swimming, demonstrating how multiple inheritance can effectively combine\n",
        "features from different parent classes.'''"
      ],
      "metadata": {
        "colab": {
          "base_uri": "https://localhost:8080/",
          "height": 122
        },
        "id": "MY1x3wQfUCIv",
        "outputId": "0d3a8d89-d3a7-48ce-9575-eef49ceebae4"
      },
      "execution_count": 20,
      "outputs": [
        {
          "output_type": "stream",
          "name": "stdout",
          "text": [
            "Animal speaks\n",
            "Flying high\n",
            "Chirp!\n",
            "Tweet!\n"
          ]
        },
        {
          "output_type": "execute_result",
          "data": {
            "text/plain": [
              "'In the example provided above under multiple inheritance, the `Duck` class inherits from both the `Flyer` and `Swimmer` classes.\\nThis allows the `Duck` to have the functionality of both flying and swimming, demonstrating how multiple inheritance can effectively combine\\nfeatures from different parent classes.'"
            ],
            "application/vnd.google.colaboratory.intrinsic+json": {
              "type": "string"
            }
          },
          "metadata": {},
          "execution_count": 20
        }
      ]
    },
    {
      "cell_type": "markdown",
      "source": [
        "**What is the Method Resolution order (MRO) in Python? How can you retrieve it programatically?**"
      ],
      "metadata": {
        "id": "F8HSmF4frqbv"
      }
    },
    {
      "cell_type": "code",
      "source": [
        "'''Method Resolution Order in Python refers to the order in which classes are searched when executing a method.\n",
        "MRO is particularly important in the context of multiple inheritance, as it determines which method is invoked when a method is called on an object.\n",
        "\n",
        "Python uses the C3 linearization algorithm (also known as C3 superclass linearization) to determine the MRO.\n",
        "The MRO ensures that:\n",
        "\n",
        "A class is searched before its parents.\n",
        "Parents are searched from left to right.\n",
        "The order of the parents is respected.\n",
        "Retrieving MRO Programmatically\n",
        "You can retrieve the MRO of a class using the mro() method or the __mro__ attribute.'''\n",
        "\n",
        "#Here's how you can do it:\n",
        "\n",
        "#Using mro() method:\n",
        "\n",
        "\n",
        "class A:\n",
        "    pass\n",
        "\n",
        "class B(A):\n",
        "    pass\n",
        "\n",
        "class C(A):\n",
        "    pass\n",
        "\n",
        "class D(B, C):\n",
        "    pass\n",
        "\n",
        "print(D.mro())  # Output: [<class '__main__.D'>, <class '__main__.B'>, <class '__main__.C'>, <class '__main__.A'>, <class 'object'>]\n",
        "#Using __mro__ attribute:\n",
        "\n",
        "print(D.__mro__)  # Output: (<class '__main__.D'>, <class '__main__.B'>, <class '__main__.C'>, <class '__main__.A'>, <class 'object'>)\n",
        "\n",
        "#Example\n",
        "#Here’s a more complete example to illustrate MRO in action:\n",
        "\n",
        "\n",
        "class A:\n",
        "    def greet(self):\n",
        "        return \"Hello from A\"\n",
        "\n",
        "class B(A):\n",
        "    def greet(self):\n",
        "        return \"Hello from B\"\n",
        "\n",
        "class C(A):\n",
        "    def greet(self):\n",
        "        return \"Hello from C\"\n",
        "\n",
        "class D(B, C):\n",
        "    pass\n",
        "\n",
        "# Create an instance of D\n",
        "d_instance = D()\n",
        "\n",
        "# Call greet method\n",
        "print(d_instance.greet())  # Output: Hello from B\n",
        "\n",
        "# Display MRO\n",
        "print(D.mro())             # Output: [<class '__main__.D'>, <class '__main__.B'>, <class '__main__.C'>, <class '__main__.A'>, <class 'object'>]\n",
        "\n",
        "'''In this example, when greet() is called on an instance of D, it first looks in D, then B, and finds the method there.\n",
        "The MRO confirms this order, showing that B is checked before C.'''"
      ],
      "metadata": {
        "colab": {
          "base_uri": "https://localhost:8080/",
          "height": 122
        },
        "id": "1IGhy1IlsftS",
        "outputId": "b73b2a3d-018a-4a7d-903a-94e49d8a30d6"
      },
      "execution_count": 23,
      "outputs": [
        {
          "output_type": "stream",
          "name": "stdout",
          "text": [
            "[<class '__main__.D'>, <class '__main__.B'>, <class '__main__.C'>, <class '__main__.A'>, <class 'object'>]\n",
            "(<class '__main__.D'>, <class '__main__.B'>, <class '__main__.C'>, <class '__main__.A'>, <class 'object'>)\n",
            "Hello from B\n",
            "[<class '__main__.D'>, <class '__main__.B'>, <class '__main__.C'>, <class '__main__.A'>, <class 'object'>]\n"
          ]
        },
        {
          "output_type": "execute_result",
          "data": {
            "text/plain": [
              "'In this example, when greet() is called on an instance of D, it first looks in D, then B, and finds the method there.\\nThe MRO confirms this order, showing that B is checked before C.'"
            ],
            "application/vnd.google.colaboratory.intrinsic+json": {
              "type": "string"
            }
          },
          "metadata": {},
          "execution_count": 23
        }
      ]
    },
    {
      "cell_type": "markdown",
      "source": [
        "**Create an abstract base class `Shape` with an abstract method `area()` . Then create two subclasses `Circle` and `Rectangle` that implement the `area()` method.**"
      ],
      "metadata": {
        "id": "qAjCfxMquUGw"
      }
    },
    {
      "cell_type": "code",
      "source": [
        "'''To create an abstract base class in Python, you can use the abc module.\n",
        "Below is an example of an abstract class Shape with an abstract method area(), and two subclasses, Circle and Rectangle,\n",
        "that implement the area() method.'''\n",
        "\n",
        "#Abstract Base Class and Subclasses\n",
        "\n",
        "from abc import ABC, abstractmethod\n",
        "import math\n",
        "\n",
        "class Shape(ABC):\n",
        "    @abstractmethod\n",
        "    def area(self):\n",
        "        pass\n",
        "\n",
        "class Circle(Shape):\n",
        "    def __init__(self, radius):\n",
        "        self.radius = radius\n",
        "\n",
        "    def area(self):\n",
        "        return math.pi * (self.radius ** 2)\n",
        "\n",
        "class Rectangle(Shape):\n",
        "    def __init__(self, width, height):\n",
        "        self.width = width\n",
        "        self.height = height\n",
        "\n",
        "    def area(self):\n",
        "        return self.width * self.height\n",
        "\n",
        "# Example usage\n",
        "circle = Circle(5)\n",
        "rectangle = Rectangle(4, 6)\n",
        "\n",
        "print(f\"Area of the circle: {circle.area():.2f}\")      # Output: Area of the circle: 78.54\n",
        "print(f\"Area of the rectangle: {rectangle.area():.2f}\")  # Output: Area of the rectangle: 24.00\n",
        "\n",
        "#Explanation\n",
        "#Abstract Base Class (Shape):\n",
        "'''This class inherits from ABC and defines the abstract method area() using the @abstractmethod decorator.\n",
        "This means that any subclass must implement this method.'''\n",
        "\n",
        "#Subclass (Circle):\n",
        "'''This class inherits from Shape and implements the area() method, calculating the area of a circle using the formula\n",
        "πr2'''\n",
        "\n",
        "#Subclass (Rectangle):\n",
        "'''This class also inherits from Shape and implements the area() method, calculating the area of a rectangle using the formula\n",
        "width×height.'''\n",
        "\n",
        "#Example Usage:\n",
        "'''The code demonstrates how to create instances of Circle and Rectangle, and how to call the area() method on each instance to get their respective areas.'''\n",
        "\n",
        "\n",
        "\n"
      ],
      "metadata": {
        "colab": {
          "base_uri": "https://localhost:8080/",
          "height": 70
        },
        "id": "ISFN0qTDv4pl",
        "outputId": "27cb1f2b-424b-454a-db33-df66d9dba4c8"
      },
      "execution_count": 24,
      "outputs": [
        {
          "output_type": "stream",
          "name": "stdout",
          "text": [
            "Area of the circle: 78.54\n",
            "Area of the rectangle: 24.00\n"
          ]
        },
        {
          "output_type": "execute_result",
          "data": {
            "text/plain": [
              "'The code demonstrates how to create instances of Circle and Rectangle, and how to call the area() method on each instance to get their respective areas.'"
            ],
            "application/vnd.google.colaboratory.intrinsic+json": {
              "type": "string"
            }
          },
          "metadata": {},
          "execution_count": 24
        }
      ]
    },
    {
      "cell_type": "markdown",
      "source": [
        "**Demonstrare polymorphism by creating a function that can work with different shape objects to calculte and print their areas**"
      ],
      "metadata": {
        "id": "qwpDRXENxR50"
      }
    },
    {
      "cell_type": "code",
      "source": [
        "'''Polymorphism allows different classes to be treated as instances of the same class through a common interface.\n",
        "In the case of shapes, we can create a base class called Shape with a method area(),\n",
        "and then derive various shape classes (like Circle, Rectangle, and Triangle) that implement this method.'''\n",
        "\n",
        "#Here’s how you can demonstrate polymorphism in Python:\n",
        "\n",
        "\n",
        "import math\n",
        "\n",
        "# Base class\n",
        "class Shape:\n",
        "    def area(self):\n",
        "        raise NotImplementedError(\"Subclasses must implement this method\")\n",
        "\n",
        "# Derived class for Circle\n",
        "class Circle(Shape):\n",
        "    def __init__(self, radius):\n",
        "        self.radius = radius\n",
        "\n",
        "    def area(self):\n",
        "        return math.pi * (self.radius ** 2)\n",
        "\n",
        "# Derived class for Rectangle\n",
        "class Rectangle(Shape):\n",
        "    def __init__(self, width, height):\n",
        "        self.width = width\n",
        "        self.height = height\n",
        "\n",
        "    def area(self):\n",
        "        return self.width * self.height\n",
        "\n",
        "# Derived class for Triangle\n",
        "class Triangle(Shape):\n",
        "    def __init__(self, base, height):\n",
        "        self.base = base\n",
        "        self.height = height\n",
        "\n",
        "    def area(self):\n",
        "        return 0.5 * self.base * self.height\n",
        "\n",
        "# Function to calculate and print the area of different shapes\n",
        "def print_area(shape):\n",
        "    print(f\"The area is: {shape.area()}\")\n",
        "\n",
        "# Create instances of different shapes\n",
        "circle = Circle(radius=5)\n",
        "rectangle = Rectangle(width=4, height=6)\n",
        "triangle = Triangle(base=3, height=7)\n",
        "\n",
        "# Demonstrate polymorphism\n",
        "shapes = [circle, rectangle, triangle]\n",
        "for shape in shapes:\n",
        "    print_area(shape)\n",
        "#Explanation:\n",
        "#Base Class Shape:\n",
        "'''Defines a method area() that must be implemented by all subclasses.'''\n",
        "#Derived Classes:\n",
        "'''Each shape (Circle, Rectangle, Triangle) implements its own area() method.'''\n",
        "#Function print_area(shape):\n",
        "'''Accepts any object that is an instance of Shape and calls its area() method.'''\n",
        "#Creating Instances:\n",
        "'''Instances of different shapes are created and stored in a list.'''\n",
        "#Polymorphic Behavior:\n",
        "'''The print_area() function works seamlessly with any shape, demonstrating polymorphism.\n",
        "When you run this code, it will calculate and print the areas of the different shapes.'''\n"
      ],
      "metadata": {
        "colab": {
          "base_uri": "https://localhost:8080/",
          "height": 105
        },
        "id": "cUgsiSinyBuL",
        "outputId": "c29230c9-73d3-439e-aa4e-02fa39f9907c"
      },
      "execution_count": 25,
      "outputs": [
        {
          "output_type": "stream",
          "name": "stdout",
          "text": [
            "The area is: 78.53981633974483\n",
            "The area is: 24\n",
            "The area is: 10.5\n"
          ]
        },
        {
          "output_type": "execute_result",
          "data": {
            "text/plain": [
              "'The print_area() function works seamlessly with any shape, demonstrating polymorphism.\\nWhen you run this code, it will calculate and print the areas of the different shapes.'"
            ],
            "application/vnd.google.colaboratory.intrinsic+json": {
              "type": "string"
            }
          },
          "metadata": {},
          "execution_count": 25
        }
      ]
    },
    {
      "cell_type": "markdown",
      "source": [
        "**Implement encapsulation in a `BankAccount` class with private attributes for `balance` and `account_number` . Include methods for deposit , withdrawl, and balance inquiry. **bold text** **"
      ],
      "metadata": {
        "id": "eATJNaqz1nY0"
      }
    },
    {
      "cell_type": "code",
      "source": [
        "'''Encapsulation is a principle of object-oriented programming that restricts direct access to some of an object's components,\n",
        "which helps prevent unintended interference and misuse of the data. In a BankAccount class,\n",
        "we can make balance and account_number private attributes and provide public methods to access and modify them.'''\n",
        "\n",
        "#Here’s how you can implement this in Python:\n",
        "\n",
        "\n",
        "class BankAccount:\n",
        "    def __init__(self, account_number, initial_balance=0):\n",
        "        self.__account_number = account_number  # Private attribute\n",
        "        self.__balance = initial_balance  # Private attribute\n",
        "\n",
        "    def deposit(self, amount):\n",
        "        if amount > 0:\n",
        "            self.__balance += amount\n",
        "            print(f\"Deposited: ${amount:.2f}. New balance: ${self.__balance:.2f}.\")\n",
        "        else:\n",
        "            print(\"Deposit amount must be positive.\")\n",
        "\n",
        "    def withdraw(self, amount):\n",
        "        if amount > 0:\n",
        "            if amount <= self.__balance:\n",
        "                self.__balance -= amount\n",
        "                print(f\"Withdrew: ${amount:.2f}. New balance: ${self.__balance:.2f}.\")\n",
        "            else:\n",
        "                print(\"Insufficient funds for withdrawal.\")\n",
        "        else:\n",
        "            print(\"Withdrawal amount must be positive.\")\n",
        "\n",
        "    def get_balance(self):\n",
        "        return self.__balance\n",
        "\n",
        "    def get_account_number(self):\n",
        "        return self.__account_number\n",
        "\n",
        "# Example usage\n",
        "account = BankAccount(account_number=\"123456789\", initial_balance=1000)\n",
        "\n",
        "# Checking balance\n",
        "print(f\"Account Number: {account.get_account_number()}\")\n",
        "print(f\"Initial Balance: ${account.get_balance():.2f}\")\n",
        "\n",
        "# Depositing money\n",
        "account.deposit(500)\n",
        "\n",
        "# Withdrawing money\n",
        "account.withdraw(300)\n",
        "\n",
        "# Attempting to withdraw more than the balance\n",
        "account.withdraw(1500)\n",
        "\n",
        "# Final balance inquiry\n",
        "print(f\"Final Balance: ${account.get_balance():.2f}\")\n",
        "\n",
        "#Private Attributes:\n",
        "'''account_number and __balance are private attributes, indicated by the double underscore prefix.\n",
        "This means they cannot be accessed directly from outside the class.'''\n",
        "\n",
        "#Public Methods:\n",
        "\n",
        "#deposit(amount):\n",
        "'''Increases the balance if the deposit amount is positive.'''\n",
        "#withdraw(amount):\n",
        "'''Decreases the balance if the withdrawal amount is positive and less than or equal to the current balance.'''\n",
        "#get_balance():\n",
        "'''Returns the current balance, allowing controlled access to the private balance attribute.'''\n",
        "#get_account_number():\n",
        "'''Returns the account number, providing controlled access to the private account number.'''\n",
        "#Example Usage:\n",
        "'''Demonstrates creating a BankAccount, making deposits and withdrawals, and checking the balance, showcasing the encapsulation of account details.'''\n",
        "\n",
        "\n"
      ],
      "metadata": {
        "colab": {
          "base_uri": "https://localhost:8080/",
          "height": 140
        },
        "id": "RsFIdocEazux",
        "outputId": "c61406f0-a8fa-4407-b8f9-5cd9c5c9f4f3"
      },
      "execution_count": 1,
      "outputs": [
        {
          "output_type": "stream",
          "name": "stdout",
          "text": [
            "Account Number: 123456789\n",
            "Initial Balance: $1000.00\n",
            "Deposited: $500.00. New balance: $1500.00.\n",
            "Withdrew: $300.00. New balance: $1200.00.\n",
            "Insufficient funds for withdrawal.\n",
            "Final Balance: $1200.00\n"
          ]
        },
        {
          "output_type": "execute_result",
          "data": {
            "text/plain": [
              "'Demonstrates creating a BankAccount, making deposits and withdrawals, and checking the balance, showcasing the encapsulation of account details.'"
            ],
            "application/vnd.google.colaboratory.intrinsic+json": {
              "type": "string"
            }
          },
          "metadata": {},
          "execution_count": 1
        }
      ]
    },
    {
      "cell_type": "markdown",
      "source": [
        "**Write a class that overrides the `__str__`and`__add__` magic methods. What will these methods allow you to do?**"
      ],
      "metadata": {
        "id": "3bYm-Ncnghp3"
      }
    },
    {
      "cell_type": "code",
      "source": [
        "'''In Python, the __str__ and __add__ magic methods allow you to customize the string representation of an object and\n",
        "define how objects of your class can be added together, respectively.'''\n",
        "\n",
        "#Here’s an example class, Vector, that overrides these methods:\n",
        "\n",
        "\n",
        "class Vector:\n",
        "    def __init__(self, x, y):\n",
        "        self.x = x\n",
        "        self.y = y\n",
        "\n",
        "    def __str__(self):\n",
        "        return f\"Vector({self.x}, {self.y})\"\n",
        "\n",
        "    def __add__(self, other):\n",
        "        if isinstance(other, Vector):\n",
        "            return Vector(self.x + other.x, self.y + other.y)\n",
        "        return NotImplemented\n",
        "\n",
        "# Example usage\n",
        "v1 = Vector(2, 3)\n",
        "v2 = Vector(4, 5)\n",
        "\n",
        "# Using the __str__ method\n",
        "print(v1)  # Output: Vector(2, 3)\n",
        "\n",
        "# Using the __add__ method\n",
        "v3 = v1 + v2\n",
        "print(v3)  # Output: Vector(6, 8)\n",
        "\n",
        "#Explanation:\n",
        "\n",
        "#__init__ Method:\n",
        "'''Initializes the Vector class with x and y coordinates.'''\n",
        "\n",
        "#__str__ Method:\n",
        "'''This method returns a string representation of the object.\n",
        "When you print an instance of Vector, the __str__ method is called, providing a readable format of the object. In this case,\n",
        "it outputs something like Vector(2, 3).'''\n",
        "\n",
        "#__add__ Method:\n",
        "'''This method allows you to define how two Vector objects should be added together using the + operator.\n",
        "In this example, if another Vector instance is added to the current instance, it returns a new Vector instance whose coordinates are the sums of the corresponding coordinates.\n",
        "If other is not a Vector, it returns NotImplemented, allowing Python to handle the operation appropriately (such as raising a TypeError).'''\n",
        "\n",
        "#Benefits:\n",
        "'''Custom String Representation: The __str__ method makes it easier to understand what the object represents when printed or logged.\n",
        "Operator Overloading: The __add__ method allows intuitive use of operators for instances of your class, making your code cleaner and more readable.\n",
        "This approach enhances the usability of your class in Python by integrating it seamlessly into Python's syntax and behaviors.'''\n"
      ],
      "metadata": {
        "colab": {
          "base_uri": "https://localhost:8080/",
          "height": 105
        },
        "id": "AXS_2ZkiwHp_",
        "outputId": "d5f01144-f407-4f74-d433-7c8b80e85747"
      },
      "execution_count": 2,
      "outputs": [
        {
          "output_type": "stream",
          "name": "stdout",
          "text": [
            "Vector(2, 3)\n",
            "Vector(6, 8)\n"
          ]
        },
        {
          "output_type": "execute_result",
          "data": {
            "text/plain": [
              "\"Custom String Representation: The __str__ method makes it easier to understand what the object represents when printed or logged.\\nOperator Overloading: The __add__ method allows intuitive use of operators for instances of your class, making your code cleaner and more readable.\\nThis approach enhances the usability of your class in Python by integrating it seamlessly into Python's syntax and behaviors.\""
            ],
            "application/vnd.google.colaboratory.intrinsic+json": {
              "type": "string"
            }
          },
          "metadata": {},
          "execution_count": 2
        }
      ]
    },
    {
      "cell_type": "markdown",
      "source": [
        " **Create a decorator that measures and prints the execution time of a function.**"
      ],
      "metadata": {
        "id": "yiXzyqsDzBzx"
      }
    },
    {
      "cell_type": "code",
      "source": [
        "'''You can create a simple decorator in Python that measures and prints the execution time of a function using the time module.'''\n",
        "#Here's how you can implement it:\n",
        "\n",
        "\n",
        "import time\n",
        "from functools import wraps\n",
        "\n",
        "def timing_decorator(func):\n",
        "    @wraps(func)\n",
        "    def wrapper(*args, **kwargs):\n",
        "        start_time = time.time()  # Record the start time\n",
        "        result = func(*args, **kwargs)  # Call the original function\n",
        "        end_time = time.time()  # Record the end time\n",
        "        execution_time = end_time - start_time  # Calculate execution time\n",
        "        print(f\"Execution time of {func.__name__}: {execution_time:.6f} seconds\")\n",
        "        return result  # Return the result of the function call\n",
        "    return wrapper\n",
        "\n",
        "# Example usage\n",
        "@timing_decorator\n",
        "def example_function(n):\n",
        "    total = 0\n",
        "    for i in range(n):\n",
        "        total += i\n",
        "    return total\n",
        "\n",
        "# Call the decorated function\n",
        "result = example_function(1000000)\n",
        "print(f\"Result: {result}\")\n",
        "\n",
        "#Explanation:\n",
        "#Import Statements:\n",
        "\n",
        "'''time: To measure execution time.\n",
        "wraps: To preserve the original function's metadata when creating a wrapper function.'''\n",
        "\n",
        "#Decorator Definition:\n",
        "\n",
        "#timing_decorator(func):\n",
        "'''This is the decorator function that takes another function as an argument.\n",
        "Inside this function, we define a wrapper function that will replace the original function.'''\n",
        "\n",
        "#Wrapper Function:\n",
        "\n",
        "'''@wraps(func): This decorator is used to preserve the original function’s name and docstring.\n",
        "start_time = time.time(): Records the current time before the function execution.\n",
        "result = func(*args, **kwargs): Calls the original function with any arguments passed to it.\n",
        "end_time = time.time(): Records the current time after the function execution.\n",
        "execution_time = end_time - start_time: Calculates the time taken for the function to execute.\n",
        "Finally, it prints the execution time and returns the result of the original function.'''\n",
        "\n",
        "#Example Function:\n",
        "\n",
        "#example_function(n):\n",
        "''' A simple function that sums numbers from 0 to n-1.'''\n",
        "\n",
        "#Using the Decorator:\n",
        "\n",
        "'''By prefixing example_function with @timing_decorator, we apply the decorator,\n",
        "which will measure and print the execution time each time the function is called.'''\n",
        "\n",
        "#Output:\n",
        "'''When you run this code, it will print the execution time of example_function along with its result:'''\n",
        "\n",
        "#Execution time of example_function: 0.123456 seconds\n",
        "#Result: 499999500000\n",
        "\n",
        "#You can use this decorator with any function to measure its execution time!\n"
      ],
      "metadata": {
        "colab": {
          "base_uri": "https://localhost:8080/",
          "height": 70
        },
        "id": "29dtiyOS02HR",
        "outputId": "805fe072-03dd-4a37-b6be-6f88e1651978"
      },
      "execution_count": 11,
      "outputs": [
        {
          "output_type": "stream",
          "name": "stdout",
          "text": [
            "Execution time of example_function: 0.070101 seconds\n",
            "Result: 499999500000\n"
          ]
        },
        {
          "output_type": "execute_result",
          "data": {
            "text/plain": [
              "'When you run this code, it will print the execution time of example_function along with its result:'"
            ],
            "application/vnd.google.colaboratory.intrinsic+json": {
              "type": "string"
            }
          },
          "metadata": {},
          "execution_count": 11
        }
      ]
    },
    {
      "cell_type": "markdown",
      "source": [
        "**Explain the concept of the Diamond Problem in multiple inheritance. How does Python resolves it?**"
      ],
      "metadata": {
        "id": "9cuF4hyy7iT5"
      }
    },
    {
      "cell_type": "code",
      "source": [
        "'''The Diamond Problem is a classic issue that arises in multiple inheritance scenarios,\n",
        "particularly in object-oriented programming languages. It occurs when a class inherits from two classes that both inherit from a common superclass,\n",
        "forming a diamond-shaped hierarchy.\n",
        "\n",
        "The Diamond Structure\n",
        "Consider the following class hierarchy:\n",
        "\n",
        "      A\n",
        "     / \\\n",
        "    B   C\n",
        "     \\ /\n",
        "      D\n",
        "Class A is the base class.\n",
        "Classes B and C both inherit from A.\n",
        "Class D inherits from both B and C.\n",
        "The problem arises when you create an instance of D and try to access a method or property that is defined in A. There are two potential paths to reach A:\n",
        "\n",
        "D → B → A\n",
        "D → C → A\n",
        "This creates ambiguity: which version of A's method or property should D use?\n",
        "\n",
        "Python's Resolution'''\n",
        "'''Python uses a method resolution order (MRO) to resolve the Diamond Problem.\n",
        "Python implements the C3 linearization algorithm to determine the order in which classes are looked up when you call a method.\n",
        "\n",
        "When you define a class that inherits from multiple classes in Python,\n",
        "the MRO determines the order in which base classes are searched.\n",
        "You can view the MRO of a class by using the __mro__ attribute or the mro() method.'''\n",
        "\n",
        "#Example\n",
        "#Here’s a simple example to illustrate:\n",
        "\n",
        "\n",
        "class A:\n",
        "    def greet(self):\n",
        "        return \"Hello from A\"\n",
        "\n",
        "class B(A):\n",
        "    def greet(self):\n",
        "        return \"Hello from B\"\n",
        "\n",
        "class C(A):\n",
        "    def greet(self):\n",
        "        return \"Hello from C\"\n",
        "\n",
        "class D(B, C):\n",
        "    pass\n",
        "\n",
        "d = D()\n",
        "print(d.greet())  # Output: Hello from B\n",
        "'''MRO Output\n",
        "If you check the MRO of class D:\n",
        "'''\n",
        "\n",
        "print(D.__mro__)  # Output: (<class '__main__.D'>, <class '__main__.B'>, <class '__main__.C'>, <class '__main__.A'>, <class 'object'>)\n",
        "\n",
        "'''The MRO shows that D will first look in B, then in C, and finally in A.\n",
        "Thus, when d.greet() is called, it uses the greet method from B, resolving the ambiguity\n",
        "in favor of the method from the first class in the MRO that has the method.'''\n",
        "\n",
        "#Summary\n",
        "#Diamond Problem:\n",
        "'''Ambiguity in multiple inheritance when two paths lead to a common superclass.'''\n",
        "#Python's Solution:\n",
        "'''Uses C3 linearization to create a method resolution order (MRO) that determines the order of method calls, resolving ambiguities consistently.'''"
      ],
      "metadata": {
        "colab": {
          "base_uri": "https://localhost:8080/",
          "height": 70
        },
        "id": "Y0b42PiiBfco",
        "outputId": "0476c767-0400-4dbf-8972-cf9db4071487"
      },
      "execution_count": 7,
      "outputs": [
        {
          "output_type": "stream",
          "name": "stdout",
          "text": [
            "Hello from B\n",
            "(<class '__main__.D'>, <class '__main__.B'>, <class '__main__.C'>, <class '__main__.A'>, <class 'object'>)\n"
          ]
        },
        {
          "output_type": "execute_result",
          "data": {
            "text/plain": [
              "'Uses C3 linearization to create a method resolution order (MRO) that determines the order of method calls, resolving ambiguities consistently.'"
            ],
            "application/vnd.google.colaboratory.intrinsic+json": {
              "type": "string"
            }
          },
          "metadata": {},
          "execution_count": 7
        }
      ]
    },
    {
      "cell_type": "markdown",
      "source": [
        "**Write a class method that keeps track of the number of instances created from a class.**"
      ],
      "metadata": {
        "id": "wszK0Bq_2M4h"
      }
    },
    {
      "cell_type": "code",
      "source": [
        "'''You can create a class method to keep track of the number of instances created from a class by using a class variable.'''\n",
        "#Here’s an example in Python:\n",
        "\n",
        "\n",
        "class InstanceCounter:\n",
        "    # Class variable to keep track of the number of instances\n",
        "    instance_count = 0\n",
        "\n",
        "    def __init__(self):\n",
        "        # Increment the instance count each time a new instance is created\n",
        "        InstanceCounter.instance_count += 1\n",
        "\n",
        "    @classmethod\n",
        "    def get_instance_count(cls):\n",
        "        \"\"\"Return the current instance count.\"\"\"\n",
        "        return cls.instance_count\n",
        "\n",
        "# Example usage:\n",
        "if __name__ == \"__main__\":\n",
        "    obj1 = InstanceCounter()\n",
        "    obj2 = InstanceCounter()\n",
        "    obj3 = InstanceCounter()\n",
        "\n",
        "    print(\"Number of instances created:\", InstanceCounter.get_instance_count())  # Output: 3\n",
        "\n",
        "#Explanation:\n",
        "'''instance_count: A class variable that stores the number of instances created.\n",
        "__init__: The constructor that increments the instance_count each time a new instance is initialized.\n",
        "get_instance_count: A class method that returns the current count of instances.\n",
        "This way, every time you create an instance of InstanceCounter, the count increases, and you can retrieve the count using the get_instance_count method.'''"
      ],
      "metadata": {
        "colab": {
          "base_uri": "https://localhost:8080/",
          "height": 87
        },
        "id": "dIR9YPm14xnD",
        "outputId": "e99487bf-4892-4735-d554-8a5f7a345810"
      },
      "execution_count": 8,
      "outputs": [
        {
          "output_type": "stream",
          "name": "stdout",
          "text": [
            "Number of instances created: 3\n"
          ]
        },
        {
          "output_type": "execute_result",
          "data": {
            "text/plain": [
              "'instance_count: A class variable that stores the number of instances created.\\n__init__: The constructor that increments the instance_count each time a new instance is initialized.\\nget_instance_count: A class method that returns the current count of instances.\\nThis way, every time you create an instance of InstanceCounter, the count increases, and you can retrieve the count using the get_instance_count method.'"
            ],
            "application/vnd.google.colaboratory.intrinsic+json": {
              "type": "string"
            }
          },
          "metadata": {},
          "execution_count": 8
        }
      ]
    },
    {
      "cell_type": "markdown",
      "source": [
        "**Implement a static method in a class that checks if a given year is a leap year**"
      ],
      "metadata": {
        "id": "Sts1rIaI5q_W"
      }
    },
    {
      "cell_type": "code",
      "source": [
        "#You can implement a static method in a class to check if a given year is a leap year using the following code:\n",
        "\n",
        "\n",
        "class YearUtils:\n",
        "    @staticmethod\n",
        "    def is_leap_year(year):\n",
        "        \"\"\"Check if the given year is a leap year.\"\"\"\n",
        "        if (year % 4 == 0 and year % 100 != 0) or (year % 400 == 0):\n",
        "            return True\n",
        "        return False\n",
        "\n",
        "# Example usage:\n",
        "if __name__ == \"__main__\":\n",
        "    year = 2024\n",
        "    if YearUtils.is_leap_year(year):\n",
        "        print(f\"{year} is a leap year.\")\n",
        "    else:\n",
        "        print(f\"{year} is not a leap year.\")\n",
        "\n",
        "#Explanation:\n",
        "'''is_leap_year(year): This static method takes an integer year as input and checks if it is a leap year based on the following rules:\n",
        "\n",
        "A year is a leap year if it is divisible by 4.\n",
        "However, if the year is divisible by 100, it is not a leap year unless it is also divisible by 400.\n",
        "The method returns True if the year is a leap year and False otherwise.'''\n",
        "\n",
        "#This structure allows you to easily check for leap years without needing to create an instance of the class"
      ],
      "metadata": {
        "colab": {
          "base_uri": "https://localhost:8080/",
          "height": 87
        },
        "id": "_HDrqibW7BX-",
        "outputId": "21752007-24d4-4f3a-fc42-9d1edeaebf30"
      },
      "execution_count": 10,
      "outputs": [
        {
          "output_type": "stream",
          "name": "stdout",
          "text": [
            "2024 is a leap year.\n"
          ]
        },
        {
          "output_type": "execute_result",
          "data": {
            "text/plain": [
              "'is_leap_year(year): This static method takes an integer year as input and checks if it is a leap year based on the following rules:\\n\\nA year is a leap year if it is divisible by 4.\\nHowever, if the year is divisible by 100, it is not a leap year unless it is also divisible by 400.\\nThe method returns True if the year is a leap year and False otherwise.'"
            ],
            "application/vnd.google.colaboratory.intrinsic+json": {
              "type": "string"
            }
          },
          "metadata": {},
          "execution_count": 10
        }
      ]
    }
  ]
}