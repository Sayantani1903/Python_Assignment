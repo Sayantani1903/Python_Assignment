{
  "nbformat": 4,
  "nbformat_minor": 0,
  "metadata": {
    "colab": {
      "provenance": [],
      "authorship_tag": "ABX9TyO4eRryAB6QswSTnI5QG9v+",
      "include_colab_link": true
    },
    "kernelspec": {
      "name": "python3",
      "display_name": "Python 3"
    },
    "language_info": {
      "name": "python"
    }
  },
  "cells": [
    {
      "cell_type": "markdown",
      "metadata": {
        "id": "view-in-github",
        "colab_type": "text"
      },
      "source": [
        "<a href=\"https://colab.research.google.com/github/Sayantani1903/Python_Assignment/blob/main/Data_analytics_assignment_Functions.ipynb\" target=\"_parent\"><img src=\"https://colab.research.google.com/assets/colab-badge.svg\" alt=\"Open In Colab\"/></a>"
      ]
    },
    {
      "cell_type": "markdown",
      "source": [
        "**What is the difference between a function and a method in python?**"
      ],
      "metadata": {
        "id": "GP0FH8lc0WFn"
      }
    },
    {
      "cell_type": "code",
      "source": [
        "'''In Python, both functions and methods are used to execute code,\n",
        "but they have different contexts in which they operate.'''\n",
        "\n",
        "#Functions\n",
        "'''A function is a standalone block of code designed to perform a specific task.\n",
        "It can be defined using the def keyword and is not tied to any object.\n",
        "Functions can take arguments and return values.'''\n",
        "\n",
        "#Example of a Function:\n",
        "\n",
        "\n",
        "def add(a, b):\n",
        " return a + b\n",
        "\n",
        "result = add(3, 5)\n",
        "print(result)  # Output: 8\n",
        "\n",
        "#Methods\n",
        "'''A method is similar to a function but is associated with an object (or class).\n",
        "Methods are defined within a class and usually operate on the data contained in the object(the instance of the class).\n",
        "They are called using the dot notation.'''\n",
        "\n",
        "#Example of a Method:\n",
        "\n",
        "\n",
        "class Calculator:\n",
        "  def add(self, a, b):\n",
        "   return a + b\n",
        "\n",
        "calc = Calculator()\n",
        "result = calc.add(3, 5)\n",
        "print(result)  # Output: 8\n",
        "\n",
        "#Summary\n",
        "#Function: Independent, defined outside of classes, can be called directly.\n",
        "#Method: Dependent on an object or class, defined within a class, and called on an instance of that class."
      ],
      "metadata": {
        "colab": {
          "base_uri": "https://localhost:8080/"
        },
        "id": "CQtLzm7a07jz",
        "outputId": "b8dde760-d35f-4985-e443-bc4d65f85930"
      },
      "execution_count": null,
      "outputs": [
        {
          "output_type": "stream",
          "name": "stdout",
          "text": [
            "8\n",
            "8\n"
          ]
        }
      ]
    },
    {
      "cell_type": "markdown",
      "source": [
        "**Explain the concept of function arguments and parameters in python.**"
      ],
      "metadata": {
        "id": "FBbKkJLw8xxL"
      }
    },
    {
      "cell_type": "code",
      "source": [
        "'''In Python, parameters and arguments are closely related concepts used when defining and calling functions.'''\n",
        "\n",
        "#Parameters\n",
        "'''Parameters are the variables listed inside the parentheses in the function definition.\n",
        "They act as placeholders for the values that will be passed to the function when it is called.'''\n",
        "\n",
        "#Arguments\n",
        "'''Arguments are the actual values or data you pass into a function when you call it.\n",
        "They correspond to the parameters defined in the function.'''\n",
        "\n",
        "#Example\n",
        "'''Here's a simple example to illustrate the difference:'''\n",
        "\n",
        "\n",
        "def greet(name):  # 'name' is a parameter\n",
        "    print(f\"Hello, {name}!\")\n",
        "\n",
        "greet(\"Sayantani\")  # \"Sayantani\" is an argument\n",
        "greet(\"Jay\")    # \"Jay\" is another argument\n",
        "\n",
        "#Breakdown:\n",
        "#Function Definition: def greet(name):\n",
        "\n",
        "#The function greet is defined with one parameter, name.\n",
        "#Function Call: greet(\"Sayantani\")\n",
        "\n",
        "'''Here, \"Sayantani\" is an argument passed to the function, which will replace the parameter name during execution.'''\n",
        "\n",
        "#Output:\n",
        "'''When you call greet(\"Sayantani\"), it prints: Hello, Sayantani!\n",
        "When you call greet(\"Jay\"), it prints: Hello, Jay!'''\n",
        "\n",
        "#Types of Arguments\n",
        "'''Python also supports various types of arguments:\n",
        "\n",
        "Positional Arguments: Arguments are assigned to parameters based on their position.'''\n",
        "\n",
        "def add(x, y):  # x and y are parameters\n",
        " return x + y\n",
        "\n",
        "result = add(3, 5)  # 3 and 5 are positional arguments\n",
        "\n",
        "'''Keyword Arguments: You can specify arguments by name, which allows for out-of-order passing.'''\n",
        "\n",
        "\n",
        "def describe_person(name, age):\n",
        " print(f\"{name} is {age} years old.\")\n",
        "\n",
        "describe_person(age=27, name=\"Sayantani\")  # Using keyword arguments\n",
        "\n",
        "#Default Arguments: You can provide default values for parameters.\n",
        "\n",
        "\n",
        "def greet(name=\"Guest\"):\n",
        " print(f\"Hello, {name}!\")\n",
        "\n",
        "greet()        # Output: Hello, Guest!\n",
        "greet(\"Jay\")  # Output: Hello, Jay!\n",
        "\n",
        "'''Variable-length Arguments: Use *args for a variable number of positional arguments and **kwargs for keyword arguments.'''\n",
        "\n",
        "def add_numbers(*args):\n",
        "    return sum(args)\n",
        "\n",
        "print(add_numbers(1, 2, 3, 4))  # Output: 10\n",
        "\n",
        "def print_info(**kwargs):\n",
        "    for key, value in kwargs.items():\n",
        "        print(f\"{key}: {value}\")\n",
        "\n",
        "print_info(name=\"Sayantani\", age=27)  # Output: name: Sayantani, age: 27\n"
      ],
      "metadata": {
        "id": "p7zMaCys_WCc",
        "colab": {
          "base_uri": "https://localhost:8080/"
        },
        "outputId": "b18c0e41-1716-40b3-f14a-f53daa2d4759"
      },
      "execution_count": null,
      "outputs": [
        {
          "output_type": "stream",
          "name": "stdout",
          "text": [
            "Hello, Sayantani!\n",
            "Hello, Jay!\n",
            "Sayantani is 27 years old.\n",
            "Hello, Guest!\n",
            "Hello, Jay!\n",
            "10\n",
            "name: Sayantani\n",
            "age: 27\n"
          ]
        }
      ]
    },
    {
      "cell_type": "markdown",
      "source": [
        "**What are the different ways to define and call a function in Python?**"
      ],
      "metadata": {
        "id": "xWB1utl7Fw2e"
      }
    },
    {
      "cell_type": "code",
      "source": [
        "\"\"\"In Python, there are several ways to define and call functions. Here are some common methods:\"\"\"\n",
        "\n",
        "#1. Defining a Standard Function\n",
        "'''You can define a standard function using the def keyword.'''\n",
        "\n",
        "def greet(name):\n",
        " return f\"Hello, {name}!\"\n",
        "\n",
        "# Calling the function\n",
        "print(greet(\"Tani\"))\n",
        "\n",
        "#2. Using Lambda Functions\n",
        "'''Lambda functions are anonymous functions defined using the lambda keyword.\n",
        "They can take any number of arguments but can only have one expression.'''\n",
        "\n",
        "multiply = lambda x, y: x * y\n",
        "\n",
        "# Calling the lambda function\n",
        "\n",
        "print(multiply(2, 3))\n",
        "\n",
        "#3. Function with Default Arguments\n",
        "'''You can define a function with default parameter values.'''\n",
        "\n",
        "def greet(name=\"Guest\"):\n",
        "  return f\"Hello, {name}!\"\n",
        "\n",
        "# Calling the function with and without an argument\n",
        "print(greet(\"Tani\"))\n",
        "print(greet())\n",
        "\n",
        "#4. Variable-Length Arguments\n",
        "'''You can define functions that accept a variable number of arguments using *args and **kwargs.'''\n",
        "\n",
        "def add(*args):\n",
        " return sum(args)\n",
        "\n",
        "# Calling the function\n",
        "print(add(1, 2, 3, 4))  # Outputs: 10\n",
        "\n",
        "def print_info(**kwargs):\n",
        " for key, value in kwargs.items():\n",
        "  print(f\"{key}: {value}\")\n",
        "\n",
        "# Calling the function\n",
        "print_info(name=\"Tani\", age=27)\n",
        "\n",
        "#5. Nested Functions\n",
        "'''You can define functions inside other functions.'''\n",
        "\n",
        "\n",
        "def outer_function(msg):\n",
        "  def inner_function():\n",
        "     print(msg)\n",
        "  inner_function()\n",
        " #Calling the outer function\n",
        "outer_function(\"Hello from the inner function!\")\n",
        "\n",
        "#6. Returning Functions\n",
        "'''You can return a function from another function.'''\n",
        "\n",
        "def outer_function(msg):\n",
        "    def inner_function():\n",
        "     return msg\n",
        "     return inner_function\n",
        "\n",
        "# Calling the outer function\n",
        "'''my_function = outer_function(\"Hello!\")\n",
        "print(my_function())  # Outputs: Hello!'''\n",
        "\n",
        "#7. Using Decorators\n",
        "#Decorators are functions that modify the behavior of another function.\n",
        "\n",
        "def decorator_function(original_function):\n",
        "    def wrapper_function():\n",
        "        print(\"Wrapper executed before {}\".format(original_function.__name__))\n",
        "        return original_function()\n",
        "        return wrapper_function\n",
        "\n",
        "@decorator_function\n",
        "def display():\n",
        "    return \"Display function executed!\"\n",
        "'''Calling the decorated function\n",
        "print(display())'''\n"
      ],
      "metadata": {
        "colab": {
          "base_uri": "https://localhost:8080/",
          "height": 174
        },
        "id": "ki3igZBcGqm-",
        "outputId": "23c90108-cf76-45b4-b511-e1842042f974"
      },
      "execution_count": null,
      "outputs": [
        {
          "output_type": "stream",
          "name": "stdout",
          "text": [
            "Hello, Tani!\n",
            "6\n",
            "Hello, Tani!\n",
            "Hello, Guest!\n",
            "10\n",
            "name: Tani\n",
            "age: 27\n",
            "Hello from the inner function!\n"
          ]
        },
        {
          "output_type": "execute_result",
          "data": {
            "text/plain": [
              "'Calling the decorated function\\nprint(display())'"
            ],
            "application/vnd.google.colaboratory.intrinsic+json": {
              "type": "string"
            }
          },
          "metadata": {},
          "execution_count": 22
        }
      ]
    },
    {
      "cell_type": "markdown",
      "source": [
        "**What is the purpose of the `return` statement in a python function?**"
      ],
      "metadata": {
        "id": "Vay017EjMXOQ"
      }
    },
    {
      "cell_type": "code",
      "source": [
        "'''The return statement in a Python function is used to send a value back to the caller of the function.\n",
        "It effectively exits the function and provides the specified value to the context from which the function was called.\n",
        "If no return statement is provided, the function will return None by default.'''\n",
        "\n",
        "#Purpose of return:\n",
        "'''Output a Value: It allows a function to produce a result that can be used later.\n",
        "Exit the Function: It terminates the function execution at that point.'''\n",
        "#Example of Using return:\n",
        "'''Here’s a simple example demonstrating the purpose of the return statement:'''\n",
        "\n",
        "def add(a, b):\n",
        "    result = a + b\n",
        "    return result  # Returning the sum of a and b\n",
        "\n",
        "# Calling the function and storing the returned value\n",
        "sum_result = add(5, 3)\n",
        "\n",
        "# Printing the returned value\n",
        "print(sum_result)  # Outputs: 8\n",
        "\n",
        "#Without return:\n",
        "'''If you do not use return, the function will still execute, but it will return None.'''\n",
        "\n",
        "\n",
        "def greet(name):\n",
        "    print(f\"Hello, {name}!\")\n",
        "\n",
        "# Calling the function\n",
        "result = greet(\"Tani\")\n",
        "\n",
        "# result will be None since there is no return statement\n",
        "print(result)  # Outputs: None\n"
      ],
      "metadata": {
        "colab": {
          "base_uri": "https://localhost:8080/"
        },
        "id": "4XBoV76DM0m4",
        "outputId": "2f814cdd-2e35-4c6f-e763-bb9cce60487a"
      },
      "execution_count": null,
      "outputs": [
        {
          "output_type": "stream",
          "name": "stdout",
          "text": [
            "8\n",
            "Hello, Tani!\n",
            "None\n"
          ]
        }
      ]
    },
    {
      "cell_type": "markdown",
      "source": [
        " **What are the iterators in python and how do they differ from iterables ?**"
      ],
      "metadata": {
        "id": "GmBBZ3YdQboG"
      }
    },
    {
      "cell_type": "code",
      "source": [
        "'''In Python, iterators and iterables are closely related concepts that are fundamental to looping and handling sequences of data.\n",
        "Here’s a breakdown of each and how they differ:'''\n",
        "\n",
        "#Iterable\n",
        "'''An iterable is any Python object that can return an iterator.\n",
        "This includes most collection types, such as lists, tuples, strings, and dictionaries.\n",
        "An iterable implements the __iter__() method, which returns an iterator.'''\n",
        "\n",
        "#Example of an Iterable:\n",
        "\n",
        "# A list is an iterable\n",
        "my_list = [1, 2, 3, 4]\n",
        "\n",
        "# You can loop through it directly\n",
        "for item in my_list:\n",
        "    print(item)\n",
        "\n",
        "#Iterator\n",
        "'''An iterator is an object that represents a stream of data; it returns one element at a time when you call its __next__() method.\n",
        "An iterator implements two methods: __iter__() (which returns the iterator itself) and __next__() (which returns the next value in the sequence).\n",
        "When there are no more items to return, __next__() raises a StopIteration exception.'''\n",
        "\n",
        "#Example of an Iterator:\n",
        "\n",
        "\n",
        "# Creating an iterator from a list\n",
        "my_list = [1, 2, 3, 4]\n",
        "my_iterator = iter(my_list)  # This gets the iterator from the iterable\n",
        "\n",
        "# Using the iterator to get values one at a time\n",
        "print(next(my_iterator))  # Outputs: 1\n",
        "print(next(my_iterator))  # Outputs: 2\n",
        "\n",
        "# Continue until the iterator is exhausted\n",
        "\n",
        "#Key Differences\n",
        "\n",
        "#Definition:\n",
        "\n",
        "'''Iterable: An object that can be iterated over (e.g., lists, strings).\n",
        "Iterator: An object that represents the state of the iteration and can be used to fetch elements one at a time.'''\n",
        "\n",
        "#Methods:\n",
        "\n",
        "'''Iterable: Has an __iter__() method.\n",
        "Iterator: Has both __iter__() and __next__() methods.'''\n",
        "\n",
        "#Exhaustion:\n",
        "\n",
        "'''Iterable: You can create multiple iterators from it; it can be iterated over multiple times.\n",
        "Iterator: Once exhausted (all elements have been iterated), it cannot be reused without re-creating it.'''\n",
        "\n",
        "#Example to Illustrate the Difference:\n",
        "# Define a list (iterable)\n",
        "my_list = [1, 2, 3]\n",
        "\n",
        "# Get an iterator from the list\n",
        "my_iterator = iter(my_list)\n",
        "\n",
        "# Iterate using the iterator\n",
        "print(next(my_iterator))  # Outputs: 1\n",
        "print(next(my_iterator))  # Outputs: 2\n",
        "\n",
        "# At this point, the iterator is not exhausted\n",
        "print(next(my_iterator))  # Outputs: 3\n",
        "\n",
        "# If we try to get the next value now, it will raise StopIteration\n",
        "# print(next(my_iterator))  # Uncommenting this will raise an exception\n"
      ],
      "metadata": {
        "colab": {
          "base_uri": "https://localhost:8080/"
        },
        "id": "EwfiVGmfTlda",
        "outputId": "6fd73a5d-f16e-48b0-bba3-4edd5a39f7e8"
      },
      "execution_count": null,
      "outputs": [
        {
          "output_type": "stream",
          "name": "stdout",
          "text": [
            "1\n",
            "2\n",
            "3\n",
            "4\n",
            "1\n",
            "2\n",
            "1\n",
            "2\n",
            "3\n"
          ]
        }
      ]
    },
    {
      "cell_type": "markdown",
      "source": [
        "**Explain the concept of generators in Python and how they are defined.**"
      ],
      "metadata": {
        "id": "mDvooC53W6il"
      }
    },
    {
      "cell_type": "code",
      "source": [
        "'''Generators in Python are a type of iterable that allow you to create an iterator in a more memory-efficient way.\n",
        "They provide a convenient way to write iterators using a function and the yield statement, which allows you to yield values one at a time,\n",
        " suspending the function's state between each call.'''\n",
        "\n",
        "#Key Concepts of Generators:\n",
        "'''Stateful Function: Unlike regular functions that return a single value, a generator can yield multiple values over time,\n",
        "maintaining its state between each yield.'''\n",
        "\n",
        "#Lazy Evaluation:\n",
        "'''Generators compute values on-the-fly and only when requested.\n",
        "This can save memory, especially when dealing with large data sets.'''\n",
        "\n",
        "#Simpler Syntax: Using generators can simplify the code for creating iterators compared to implementing the __iter__() and __next__() methods manually.\n",
        "\n",
        "#Defining a Generator:\n",
        "'''You define a generator using a function that includes one or more yield statements.'''\n",
        "\n",
        "#Example of a Generator:\n",
        "'''Here’s a simple example of a generator that yields the first n square numbers:'''\n",
        "\n",
        "def square_generator(n):\n",
        "    for i in range(n):\n",
        "        yield i * i  # Yield the square of i\n",
        "\n",
        "# Using the generator\n",
        "squares = square_generator(5)\n",
        "\n",
        "# Iterating through the generator\n",
        "for square in squares:\n",
        "    print(square)\n",
        "#Output:\n",
        "0\n",
        "1\n",
        "4\n",
        "9\n",
        "16\n",
        "#How it Works:\n",
        "'''When you call square_generator(5), it returns a generator object without executing the function.\n",
        "Each time you iterate over the generator (using a loop or calling next()), the function runs until it hits the yield statement.\n",
        "The state of the function is saved, so when you call next() again, it resumes from where it left off.'''\n",
        "#Benefits of Using Generators:\n",
        "'''Memory Efficiency:Since values are generated on-the-fly, they are particularly useful when dealing with large datasets that don’t fit into memory.\n",
        "Cleaner Code: Generators can make code that processes data streams simpler and easier to read.'''\n",
        "#Example: Infinite Generator\n",
        "'''You can also create generators that produce an infinite sequence:'''\n",
        "\n",
        "def count_up_to(max):\n",
        "    count = 1\n",
        "    while count <= max:\n",
        "        yield count\n",
        "        count += 1\n",
        "\n",
        "# Using the infinite generator\n",
        "for number in count_up_to(5):\n",
        "    print(number)\n",
        "#Output:\n",
        "1\n",
        "2\n",
        "3\n",
        "4\n",
        "5"
      ],
      "metadata": {
        "colab": {
          "base_uri": "https://localhost:8080/"
        },
        "id": "YZjku239gvR0",
        "outputId": "5f3381a0-8432-48a5-ecf1-3d1dd857ca29"
      },
      "execution_count": null,
      "outputs": [
        {
          "output_type": "stream",
          "name": "stdout",
          "text": [
            "0\n",
            "1\n",
            "4\n",
            "9\n",
            "16\n",
            "1\n",
            "2\n",
            "3\n",
            "4\n",
            "5\n"
          ]
        },
        {
          "output_type": "execute_result",
          "data": {
            "text/plain": [
              "5"
            ]
          },
          "metadata": {},
          "execution_count": 28
        }
      ]
    },
    {
      "cell_type": "markdown",
      "source": [
        "**What are the advantages of using generators over regular functions?**"
      ],
      "metadata": {
        "id": "5evXppBhmTqi"
      }
    },
    {
      "cell_type": "code",
      "source": [
        "'''Generators offer several advantages over regular functions,\n",
        "particularly in scenarios involving large data sets or complex data streams.'''\n",
        "\n",
        "#Here are some key benefits, along with an example:\n",
        "\n",
        "#Advantages of Generators:\n",
        "'''Memory Efficiency:\n",
        "Generators yield items one at a time, which means they do not require storing the entire data set in memory.\n",
        "This is especially useful when dealing with large datasets.'''\n",
        "\n",
        "#Lazy Evaluation:\n",
        "'''Generators compute values on-the-fly, producing items only when requested.\n",
        " This can lead to improved performance, as not all data needs to be processed immediately.'''\n",
        "\n",
        "#State Retention:\n",
        "'''Generators maintain their state between calls, which can simplify code that requires maintaining a running state or iterating through a sequence.'''\n",
        "\n",
        "#Simplified Code for Iteration:\n",
        "'''Generators can make code cleaner and more readable when creating iterators,as they eliminate the need for complex class definitions.'''\n",
        "\n",
        "#Example:\n",
        "'''Let's say we want to create a sequence of Fibonacci numbers.\n",
        "We can implement it as both a regular function and a generator.'''\n",
        "\n",
        "#Regular Function:\n",
        "\n",
        "def fibonacci(n):\n",
        "    fib_sequence = []\n",
        "    a, b = 0, 1\n",
        "    for _ in range(n):\n",
        "        fib_sequence.append(a)\n",
        "        a, b = b, a + b\n",
        "    return fib_sequence\n",
        "\n",
        "# Usage\n",
        "fib_list = fibonacci(10)\n",
        "print(fib_list)\n",
        "\n",
        "#Generator:\n",
        "def fibonacci_gen(n):\n",
        "    a, b = 0, 1\n",
        "    for _ in range(n):\n",
        "        yield a\n",
        "        a, b = b, a + b\n",
        "\n",
        "# Usage\n",
        "for num in fibonacci_gen(10):\n",
        "    print(num)\n",
        "#Comparison:\n",
        "#Memory Efficiency:\n",
        "'''The regular function computes all Fibonacci numbers up to n and stores them in a list, using memory proportional to n.\n",
        "The generator, on the other hand, only keeps the current state, using a constant amount of memory.'''\n",
        "\n",
        "#Lazy Evaluation:\n",
        "'''With the generator, you can start iterating over the Fibonacci numbers immediately, and they are calculated one at a time.\n",
        " This can be particularly beneficial if you only need the first few numbers and not the entire list.'''\n",
        "\n",
        " #State Retention:\n",
        "'''The generator automatically retains its position in the sequence between calls, which can lead to cleaner code for iteration.'''"
      ],
      "metadata": {
        "colab": {
          "base_uri": "https://localhost:8080/",
          "height": 226
        },
        "id": "d9eD8peP1U_L",
        "outputId": "876bfd70-41f6-4009-96c1-7b20037f2760"
      },
      "execution_count": null,
      "outputs": [
        {
          "output_type": "stream",
          "name": "stdout",
          "text": [
            "[0, 1, 1, 2, 3, 5, 8, 13, 21, 34]\n",
            "0\n",
            "1\n",
            "1\n",
            "2\n",
            "3\n",
            "5\n",
            "8\n",
            "13\n",
            "21\n",
            "34\n"
          ]
        },
        {
          "output_type": "execute_result",
          "data": {
            "text/plain": [
              "'The generator automatically retains its position in the sequence between calls, which can lead to cleaner code for iteration.'"
            ],
            "application/vnd.google.colaboratory.intrinsic+json": {
              "type": "string"
            }
          },
          "metadata": {},
          "execution_count": 32
        }
      ]
    },
    {
      "cell_type": "markdown",
      "source": [
        "**What is lambda function in Python and when it is typically used?**"
      ],
      "metadata": {
        "id": "Ru7k0kLJ5gQ_"
      }
    },
    {
      "cell_type": "code",
      "source": [
        "'''A lambda function in Python is a small, anonymous function defined using the lambda keyword.\n",
        "It can take any number of arguments but can only have one expression.\n",
        "Lambda functions are often used when you need a simple function for a short period of time and do not want to formally define it using def.'''\n",
        "\n",
        "#Typical Use Cases:\n",
        "'''Short, Throwaway Functions: When a function is needed only once or for a brief period.\n",
        "Higher-Order Functions: When passing a simple function as an argument to higher-order functions like map(), filter(), or sorted().\n",
        "In-line Functions: When defining functions inline, particularly in contexts like GUI programming or functional programming.'''\n",
        "#Example:\n",
        "'''Here’s how a lambda function works, along with an example using map() and filter().'''\n",
        "\n",
        "#Basic Syntax:\n",
        "\n",
        "#lambda arguments: expression\n",
        "\n",
        "#Example 1: Using map()\n",
        "'''Suppose we want to square each number in a list:'''\n",
        "\n",
        "numbers = [1, 2, 3, 4, 5]\n",
        "squared = list(map(lambda x: x ** 2, numbers))\n",
        "print(squared)  # Output: [1, 4, 9, 16, 25]\n",
        "\n",
        "#Example 2: Using filter()\n",
        "'''If we want to filter out even numbers from a list:'''\n",
        "\n",
        "\n",
        "numbers = [1, 2, 3, 4, 5]\n",
        "odd_numbers = list(filter(lambda x: x % 2 != 0, numbers))\n",
        "print(odd_numbers)  # Output: [1, 3, 5]\n",
        "\n",
        "'''Lambda functions are a concise way to create small, anonymous functions for simple tasks, especially when working with functional programming constructs.\n",
        "They help keep your code clean and readable, particularly in contexts where a full function definition would be overkill.'''\n",
        "\n",
        "\n",
        "\n"
      ],
      "metadata": {
        "colab": {
          "base_uri": "https://localhost:8080/",
          "height": 87
        },
        "id": "XOSxtefc6tsz",
        "outputId": "dd55394b-3c4e-416f-db30-2af05a1c969b"
      },
      "execution_count": null,
      "outputs": [
        {
          "output_type": "stream",
          "name": "stdout",
          "text": [
            "[1, 4, 9, 16, 25]\n",
            "[1, 3, 5]\n"
          ]
        },
        {
          "output_type": "execute_result",
          "data": {
            "text/plain": [
              "'Lambda functions are a concise way to create small, anonymous functions for simple tasks, especially when working with functional programming constructs. \\nThey help keep your code clean and readable, particularly in contexts where a full function definition would be overkill.'"
            ],
            "application/vnd.google.colaboratory.intrinsic+json": {
              "type": "string"
            }
          },
          "metadata": {},
          "execution_count": 33
        }
      ]
    },
    {
      "cell_type": "markdown",
      "source": [
        "**Explain the purpose and usage of the `map()` function in python.**"
      ],
      "metadata": {
        "id": "ZXRxvoNR8PcE"
      }
    },
    {
      "cell_type": "code",
      "source": [
        "'''The map() function in Python is a built-in higher-order function that applies a given function to all items in an iterable (like a list or tuple) and returns a map object (which is an iterator).\n",
        "It allows for functional programming styles in Python, enabling a clean and efficient way to transform data.'''\n",
        "\n",
        "#Purpose of map()\n",
        "'''Transformation: map() is primarily used to transform data from one form to another.\n",
        "You can apply a function that modifies each element of the iterable.'''\n",
        "\n",
        "#Conciseness:\n",
        "'''It allows for writing more concise code compared to using loops for the same task, making your code cleaner and often easier to read.'''\n",
        "\n",
        "#Efficiency:\n",
        "'''Since it returns an iterator, map() can handle large datasets more efficiently,\n",
        "processing one item at a time rather than creating an intermediate list'''\n",
        "\n",
        "#Usage\n",
        "#The syntax of map() is:\n",
        "\n",
        "\n",
        "#map(function, iterable, ...)\n",
        "#function:\n",
        "'''A function that takes one or more arguments and returns a value.'''\n",
        "#iterable:\n",
        "'''One or more iterables (like lists, tuples, etc.) to which the function will be applied.'''\n",
        "#Example\n",
        "#Transforming a List of Numbers\n",
        "#Suppose you want to square each number in a list:\n",
        "\n",
        "numbers = [1, 2, 3, 4, 5]\n",
        "squared = list(map(lambda x: x ** 2, numbers))\n",
        "print(squared)  # Output: [1, 4, 9, 16, 25]\n",
        "#In this example, map() applies the lambda function (which squares the number) to each element in the numbers list.\n",
        "\n",
        "'''Using with Multiple Iterables\n",
        "You can also use map() with multiple iterables. For example, adding corresponding elements of two lists:'''\n",
        "\n",
        "list1 = [1, 2, 3]\n",
        "list2 = [4, 5, 6]\n",
        "summed = list(map(lambda x, y: x + y, list1, list2))\n",
        "print(summed)  # Output: [5, 7, 9]\n",
        "\n",
        "#Summary\n",
        "'''The map() function is a powerful tool for applying a transformation function to each item in an iterable.\n",
        "It leads to cleaner and often more efficient code, especially when dealing with large datasets or performing simple transformations across elements.'''"
      ],
      "metadata": {
        "colab": {
          "base_uri": "https://localhost:8080/",
          "height": 87
        },
        "id": "foI2ZP3i8sHF",
        "outputId": "62b7cfb1-934d-4e01-aba3-6081200dc44b"
      },
      "execution_count": null,
      "outputs": [
        {
          "output_type": "stream",
          "name": "stdout",
          "text": [
            "[1, 4, 9, 16, 25]\n",
            "[5, 7, 9]\n"
          ]
        },
        {
          "output_type": "execute_result",
          "data": {
            "text/plain": [
              "'The map() function is a powerful tool for applying a transformation function to each item in an iterable.\\nIt leads to cleaner and often more efficient code, especially when dealing with large datasets or performing simple transformations across elements.'"
            ],
            "application/vnd.google.colaboratory.intrinsic+json": {
              "type": "string"
            }
          },
          "metadata": {},
          "execution_count": 35
        }
      ]
    },
    {
      "cell_type": "markdown",
      "source": [
        "**What is the difference between `map()`, `reduce()` & `filter()` functions in Python?**"
      ],
      "metadata": {
        "id": "x8972V2r-7o7"
      }
    },
    {
      "cell_type": "code",
      "source": [
        "'''In Python, map(), filter(), and reduce() are higher-order functions used for processing iterables.\n",
        "They serve different purposes and are used in distinct contexts. Here’s a breakdown of their differences along with examples for each:'''\n",
        "\n",
        "#1. map()\n",
        "#Purpose:\n",
        "''' Applies a function to all items in an iterable and returns an iterator of the results.'''\n",
        "\n",
        "#Usage:\n",
        "'''Best used for transforming data'''\n",
        "\n",
        "#Example:\n",
        "\n",
        "numbers = [1, 2, 3, 4, 5]\n",
        "squared = list(map(lambda x: x ** 2, numbers))\n",
        "print(squared)  # Output: [1, 4, 9, 16, 25]\n",
        "\n",
        "#2. filter()\n",
        "#Purpose:\n",
        "'''Filters items in an iterable based on a function that returns True or False.\n",
        "It returns an iterator containing only the items that satisfy the condition.'''\n",
        "\n",
        "#Usage: Best used for selecting a subset of data.\n",
        "\n",
        "#Example:\n",
        "\n",
        "numbers = [1, 2, 3, 4, 5]\n",
        "odd_numbers = list(filter(lambda x: x % 2 != 0, numbers))\n",
        "print(odd_numbers)  # Output: [1, 3, 5]\n",
        "\n",
        "#3. reduce()\n",
        "#Purpose:\n",
        "'''Applies a rolling computation to sequential pairs of values in an iterable, reducing it to a single cumulative value.\n",
        "Note that reduce() is not a built-in function in Python 3; you need to import it from the functools module.'''\n",
        "\n",
        "#Usage: Best used for aggregating data.\n",
        "\n",
        "#Example:\n",
        "from functools import reduce\n",
        "\n",
        "numbers = [1, 2, 3, 4, 5]\n",
        "sum_result = reduce(lambda x, y: x + y, numbers)\n",
        "print(sum_result)  # Output: 15\n",
        "\n",
        "#Summary of Differences\n",
        "\n",
        "#Functionality:\n",
        "\n",
        "#map():\n",
        "'''Transforms each element in an iterable using a specified function.'''\n",
        "#filter():\n",
        "'''Selects elements from an iterable based on a specified condition.'''\n",
        "#reduce():\n",
        "'''Aggregates elements in an iterable into a single cumulative result.'''\n",
        "\n",
        "#Return Type:\n",
        "\n",
        "'''Both map() and filter() return iterators.\n",
        "reduce() returns a single cumulative value.'''\n",
        "\n",
        "#Use Case:\n",
        "\n",
        "'''Use map() for transformations, filter() for selection, and reduce() for aggregation.'''\n",
        "\n",
        "'''These functions enhance code readability and efficiency when working with collections of data in Python.'''"
      ],
      "metadata": {
        "colab": {
          "base_uri": "https://localhost:8080/",
          "height": 87
        },
        "id": "CF2geUYDAGu7",
        "outputId": "83e5bd19-f919-4357-e561-d7897ab49ea3"
      },
      "execution_count": null,
      "outputs": [
        {
          "output_type": "stream",
          "name": "stdout",
          "text": [
            "[1, 4, 9, 16, 25]\n",
            "[1, 3, 5]\n",
            "15\n"
          ]
        },
        {
          "output_type": "execute_result",
          "data": {
            "text/plain": [
              "'These functions enhance code readability and efficiency when working with collections of data in Python.'"
            ],
            "application/vnd.google.colaboratory.intrinsic+json": {
              "type": "string"
            }
          },
          "metadata": {},
          "execution_count": 37
        }
      ]
    },
    {
      "cell_type": "markdown",
      "source": [
        "**Write a python code that takes a list of numbers as input and return the sum of all even numbers in the list**"
      ],
      "metadata": {
        "id": "_ekzMvCyFkb0"
      }
    },
    {
      "cell_type": "code",
      "source": [
        "def sum_of_evens(numbers):\n",
        "    even_numbers = filter(lambda x: x % 2 == 0, numbers)  # Filter even numbers\n",
        "    return sum(even_numbers)  # Return the sum of even numbers\n",
        "\n",
        "# Example usage\n",
        "numbers = [19, 20, 21, 22, 23, ]\n",
        "result = sum_of_evens(numbers)\n",
        "print(result)\n"
      ],
      "metadata": {
        "colab": {
          "base_uri": "https://localhost:8080/"
        },
        "id": "mbJedMAvF4rD",
        "outputId": "6cd73a9b-7840-4601-cc6d-b5f54f09956d"
      },
      "execution_count": null,
      "outputs": [
        {
          "output_type": "stream",
          "name": "stdout",
          "text": [
            "42\n"
          ]
        }
      ]
    },
    {
      "cell_type": "markdown",
      "source": [
        "**Create a python function that accepts a string and returns the reverse of that string**"
      ],
      "metadata": {
        "id": "DONz2eYAGg8-"
      }
    },
    {
      "cell_type": "code",
      "source": [
        "def reverse_string(s):\n",
        "    return s[::-1]  # Slicing to reverse the string\n",
        "\n",
        "# Example usage\n",
        "input_string = \"Hello, World!\"\n",
        "reversed_string = reverse_string(input_string)\n",
        "print(reversed_string)\n"
      ],
      "metadata": {
        "colab": {
          "base_uri": "https://localhost:8080/"
        },
        "id": "kvaW8UI7HCDs",
        "outputId": "abe21413-b0cf-4fb4-d3e4-663c05ef4763"
      },
      "execution_count": null,
      "outputs": [
        {
          "output_type": "stream",
          "name": "stdout",
          "text": [
            "!dlroW ,olleH\n"
          ]
        }
      ]
    },
    {
      "cell_type": "markdown",
      "source": [
        "**Implement a Python function that takes a list of integers and returns a new list containing the squares of each number**"
      ],
      "metadata": {
        "id": "bz_RgGuQHc1q"
      }
    },
    {
      "cell_type": "code",
      "source": [
        "def square_numbers(numbers):\n",
        "    return list(map(lambda x: x ** 2, numbers))\n",
        "\n",
        "# Example usage\n",
        "input_numbers = [6, 7, 8, 9, 10]\n",
        "squared_numbers = square_numbers(input_numbers)\n",
        "print(squared_numbers)\n",
        "\n",
        "def square_numbers(numbers):\n",
        "    return [x ** 2 for x in numbers]\n",
        "\n",
        "# Example usage\n",
        "input_numbers = [2, 3, 4, 5, 6]\n",
        "squared_numbers = square_numbers(input_numbers)\n",
        "print(squared_numbers)\n",
        "\n"
      ],
      "metadata": {
        "colab": {
          "base_uri": "https://localhost:8080/"
        },
        "id": "7H9_5QaMIP8n",
        "outputId": "0e66f30c-02d2-4e17-e02e-67dd28c721de"
      },
      "execution_count": null,
      "outputs": [
        {
          "output_type": "stream",
          "name": "stdout",
          "text": [
            "[36, 49, 64, 81, 100]\n",
            "[4, 9, 16, 25, 36]\n"
          ]
        }
      ]
    },
    {
      "cell_type": "markdown",
      "source": [
        "**Write a python function that checks if a given number is prime or not from 1 to 200**"
      ],
      "metadata": {
        "id": "BIv_0oAFJD34"
      }
    },
    {
      "cell_type": "code",
      "source": [
        "def is_prime(n):\n",
        "    if n < 2:  # 0 and 1 are not prime numbers\n",
        "        return False\n",
        "    for i in range(2, int(n**0.5) + 1):  # Check up to the square root of n\n",
        "        if n % i == 0:  # If n is divisible by any number, it is not prime\n",
        "            return False\n",
        "    return True\n",
        "\n",
        "# Example usage\n",
        "for number in range(1, 201):\n",
        "    if is_prime(number):\n",
        "        print(f\"{number} is prime.\")\n"
      ],
      "metadata": {
        "colab": {
          "base_uri": "https://localhost:8080/"
        },
        "id": "l-y3_mjrJmuC",
        "outputId": "21c6c1fd-356f-444a-dedc-017eaeb62214"
      },
      "execution_count": null,
      "outputs": [
        {
          "output_type": "stream",
          "name": "stdout",
          "text": [
            "2 is prime.\n",
            "3 is prime.\n",
            "5 is prime.\n",
            "7 is prime.\n",
            "11 is prime.\n",
            "13 is prime.\n",
            "17 is prime.\n",
            "19 is prime.\n",
            "23 is prime.\n",
            "29 is prime.\n",
            "31 is prime.\n",
            "37 is prime.\n",
            "41 is prime.\n",
            "43 is prime.\n",
            "47 is prime.\n",
            "53 is prime.\n",
            "59 is prime.\n",
            "61 is prime.\n",
            "67 is prime.\n",
            "71 is prime.\n",
            "73 is prime.\n",
            "79 is prime.\n",
            "83 is prime.\n",
            "89 is prime.\n",
            "97 is prime.\n",
            "101 is prime.\n",
            "103 is prime.\n",
            "107 is prime.\n",
            "109 is prime.\n",
            "113 is prime.\n",
            "127 is prime.\n",
            "131 is prime.\n",
            "137 is prime.\n",
            "139 is prime.\n",
            "149 is prime.\n",
            "151 is prime.\n",
            "157 is prime.\n",
            "163 is prime.\n",
            "167 is prime.\n",
            "173 is prime.\n",
            "179 is prime.\n",
            "181 is prime.\n",
            "191 is prime.\n",
            "193 is prime.\n",
            "197 is prime.\n",
            "199 is prime.\n"
          ]
        }
      ]
    },
    {
      "cell_type": "markdown",
      "source": [
        "**Create an iterator class in python that generates the fibonacci sequence up to a specific number of terms**"
      ],
      "metadata": {
        "id": "VzsG1S6wJ3UG"
      }
    },
    {
      "cell_type": "code",
      "source": [
        "class FibonacciIterator:\n",
        "    def __init__(self, n):\n",
        "        self.n = n  # Number of terms\n",
        "        self.a, self.b = 0, 1  # Starting values\n",
        "        self.count = 0  # Counter to keep track of terms generated\n",
        "\n",
        "    def __iter__(self):\n",
        "        return self\n",
        "\n",
        "    def __next__(self):\n",
        "        if self.count < self.n:\n",
        "            fib_number = self.a\n",
        "            self.a, self.b = self.b, self.a + self.b  # Update values for next Fibonacci number\n",
        "            self.count += 1  # Increment count\n",
        "            return fib_number\n",
        "        else:\n",
        "            raise StopIteration  # Stop iteration when the limit is reached\n",
        "\n",
        "# Example usage\n",
        "fibonacci_sequence = FibonacciIterator(10)\n",
        "for num in fibonacci_sequence:\n",
        "    print(num)\n"
      ],
      "metadata": {
        "colab": {
          "base_uri": "https://localhost:8080/"
        },
        "id": "gGJw0RBsLHQD",
        "outputId": "e949bab0-29c9-4973-b34d-e555afef1f0e"
      },
      "execution_count": null,
      "outputs": [
        {
          "output_type": "stream",
          "name": "stdout",
          "text": [
            "0\n",
            "1\n",
            "1\n",
            "2\n",
            "3\n",
            "5\n",
            "8\n",
            "13\n",
            "21\n",
            "34\n"
          ]
        }
      ]
    },
    {
      "cell_type": "markdown",
      "source": [
        "**Write a generator function in Python that yields the powers of 2 up to a given exponent**"
      ],
      "metadata": {
        "id": "IN03EPCoLgGn"
      }
    },
    {
      "cell_type": "code",
      "source": [
        "def powers_of_two(max_exponent):\n",
        "    for exponent in range(max_exponent + 1):\n",
        "        yield 2 ** exponent\n",
        "\n",
        "# Example usage\n",
        "for power in powers_of_two(10):\n",
        "    print(power)\n"
      ],
      "metadata": {
        "colab": {
          "base_uri": "https://localhost:8080/"
        },
        "id": "pKc0fnX-MDlG",
        "outputId": "1bc1e0f6-58b3-4881-9214-b46e9f4d5aa1"
      },
      "execution_count": null,
      "outputs": [
        {
          "output_type": "stream",
          "name": "stdout",
          "text": [
            "1\n",
            "2\n",
            "4\n",
            "8\n",
            "16\n",
            "32\n",
            "64\n",
            "128\n",
            "256\n",
            "512\n",
            "1024\n"
          ]
        }
      ]
    },
    {
      "cell_type": "markdown",
      "source": [
        "**Implement a generator function that reads a file line by line and yields each line as a string**"
      ],
      "metadata": {
        "id": "Vc4s7unYcQAu"
      }
    },
    {
      "cell_type": "code",
      "source": [
        "import requests\n",
        "\n",
        "def read_file_line_by_line(url):\n",
        "    # Send a request to download the CSV file\n",
        "    response = requests.get(url)\n",
        "    response.raise_for_status()  # Check if the request was successful\n",
        "\n",
        "    # Iterate over each line in the content\n",
        "    for line in response.text.splitlines():\n",
        "        yield line\n",
        "\n",
        "# URL to the CSV export of the Google Sheet\n",
        "url = \"https://docs.google.com/spreadsheets/d/1g--zs88BqphukSjoQLJKgzSLhmQ1XYV3YKu-qFjctGg/export?format=csv\"\n",
        "\n",
        "# Using the generator to read lines\n",
        "for line in read_file_line_by_line(url):\n",
        "    print(line)\n",
        "\n"
      ],
      "metadata": {
        "id": "50QtCfcDe-ym",
        "outputId": "0baa7e13-9df5-4474-b5a7-10b27e9430f2",
        "colab": {
          "base_uri": "https://localhost:8080/"
        }
      },
      "execution_count": null,
      "outputs": [
        {
          "output_type": "stream",
          "name": "stdout",
          "text": [
            "Order Id,Book and Author's name,QTY,Price\n",
            "34587,\"Learning Python, Mark Lutz\",4,40.95\n",
            "98762,\"Programming Python, Mark Lutz\",5,\"56,80\"\n",
            "77226,\"Head First Python, Paul Barry\",3,32.95\n",
            "88112,\"EinfÃ¼hrung in Python3, Bernd Klein\",3,24.99\n"
          ]
        }
      ]
    },
    {
      "cell_type": "markdown",
      "source": [
        "**Use a lambda function in Python to sort a list of tuples based on the second element of each tuple**"
      ],
      "metadata": {
        "id": "D6KdqNQZhH3D"
      }
    },
    {
      "cell_type": "code",
      "source": [
        "# Sample list of tuples\n",
        "data = [(1, 'apple'), (3, 'banana'), (2, 'cherry'), (4, 'date')]\n",
        "\n",
        "# Sort the list of tuples based on the second element\n",
        "sorted_data = sorted(data, key=lambda x: x[1])\n",
        "\n",
        "print(sorted_data)\n"
      ],
      "metadata": {
        "id": "H3l-jtUcq1bc"
      },
      "execution_count": null,
      "outputs": []
    },
    {
      "cell_type": "markdown",
      "source": [
        "**Write a Python program that uses `map()` to convert a list of temperatures from celsius to fahrenheit.**"
      ],
      "metadata": {
        "id": "EZ3RbHc8rV9_"
      }
    },
    {
      "cell_type": "code",
      "source": [
        "def celsius_to_fahrenheit(celsius):\n",
        "    \"\"\"Convert Celsius to Fahrenheit.\"\"\"\n",
        "    return (celsius * 9/5) + 32\n",
        "\n",
        "# List of temperatures in Celsius\n",
        "celsius_temperatures = [0, 20, 37, 100]\n",
        "\n",
        "# Use map to convert to Fahrenheit\n",
        "fahrenheit_temperatures = list(map(celsius_to_fahrenheit, celsius_temperatures))\n",
        "\n",
        "# Output the converted temperatures\n",
        "print(fahrenheit_temperatures)\n"
      ],
      "metadata": {
        "colab": {
          "base_uri": "https://localhost:8080/"
        },
        "id": "wwR4omIpswCz",
        "outputId": "cd09370b-7902-4b2a-de2b-bf9f29f062fa"
      },
      "execution_count": null,
      "outputs": [
        {
          "output_type": "stream",
          "name": "stdout",
          "text": [
            "[32.0, 68.0, 98.6, 212.0]\n"
          ]
        }
      ]
    },
    {
      "cell_type": "markdown",
      "source": [
        "**Create a Python program that uses `filter()` to remove all the vowels from the given string**"
      ],
      "metadata": {
        "id": "nCMMn2PUtQXO"
      }
    },
    {
      "cell_type": "code",
      "source": [
        "def remove_vowels(input_string):\n",
        "    \"\"\"Remove all vowels from the input string.\"\"\"\n",
        "    vowels = 'aeiouAEIOU'  # Define vowels (both lowercase and uppercase)\n",
        "    # Use filter to remove vowels\n",
        "    filtered_string = ''.join(filter(lambda char: char not in vowels, input_string))\n",
        "    return filtered_string\n",
        "\n",
        "# Example usage\n",
        "if __name__ == \"__main__\":\n",
        "    original_string = \"Hello, World!\"\n",
        "    result = remove_vowels(original_string)\n",
        "    print(\"Original String:\", original_string)\n",
        "    print(\"String without Vowels:\", result)\n"
      ],
      "metadata": {
        "colab": {
          "base_uri": "https://localhost:8080/"
        },
        "id": "ML0nzCsDwkyn",
        "outputId": "e045d182-ca91-48d2-ecc0-e3198dca0a72"
      },
      "execution_count": null,
      "outputs": [
        {
          "output_type": "stream",
          "name": "stdout",
          "text": [
            "Original String: Hello, World!\n",
            "String without Vowels: Hll, Wrld!\n"
          ]
        }
      ]
    },
    {
      "cell_type": "markdown",
      "source": [
        "**An accounting routine used in a book shop.It works on a list with sublists, which look like the given one:**\n",
        "**Write a Python program, which returns a list with 2-tuples. Each tuples consists of the order number and the product of the price per item and the quantity. The product should be increased by 10,-if the value of the order is smaller than 100000.**\n",
        "**Write a python program using lambda and map**"
      ],
      "metadata": {
        "id": "-MBd-n9xxZnQ"
      }
    },
    {
      "cell_type": "code",
      "source": [
        "# List of orders from the image\n",
        "orders= [[34587,\"Learning Python, Mark Lutz\",4,40.95,],\n",
        "         [98762,\"Programming Python, Mark Lutz\",5,56.80],\n",
        "         [77226,\"Head First Python, Paul Berry\",3,32.95],\n",
        "         [88112,\"Einfuhrung in Python3, Bernd Klein\",3,24.99]]\n",
        "\n",
        "         #Function to calculate total price with the condition\n",
        "order_totals  = list(map(lambda x:(x[0],x[2]*x[3] if x[2]*x[3]>=100 else x[2]*x[3]+10),orders))\n",
        "\n",
        "#Output the result\n",
        "print(order_totals)\n"
      ],
      "metadata": {
        "id": "KRgYwuoO5vpF",
        "colab": {
          "base_uri": "https://localhost:8080/"
        },
        "outputId": "0d45bcb2-a381-4b49-9365-70994060a127"
      },
      "execution_count": 4,
      "outputs": [
        {
          "output_type": "stream",
          "name": "stdout",
          "text": [
            "[(34587, 163.8), (98762, 284.0), (77226, 108.85000000000001), (88112, 84.97)]\n"
          ]
        }
      ]
    }
  ]
}