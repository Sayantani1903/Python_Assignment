{
  "cells": [
    {
      "cell_type": "markdown",
      "metadata": {
        "id": "view-in-github",
        "colab_type": "text"
      },
      "source": [
        "<a href=\"https://colab.research.google.com/github/Sayantani1903/Python_Assignment/blob/main/Demo.ipynb\" target=\"_parent\"><img src=\"https://colab.research.google.com/assets/colab-badge.svg\" alt=\"Open In Colab\"/></a>"
      ]
    },
    {
      "cell_type": "code",
      "execution_count": null,
      "id": "35091b2a-5319-4d2a-8747-23270710a264",
      "metadata": {
        "id": "35091b2a-5319-4d2a-8747-23270710a264",
        "outputId": "a038ab1d-df7d-44ae-fa4e-8c92637209e1"
      },
      "outputs": [
        {
          "name": "stdout",
          "output_type": "stream",
          "text": [
            "python demo\n"
          ]
        }
      ],
      "source": [
        "# default is code cell\n",
        "print(\"python demo\")"
      ]
    },
    {
      "cell_type": "code",
      "execution_count": null,
      "id": "37925193-3e2d-401c-aebb-b34070717029",
      "metadata": {
        "id": "37925193-3e2d-401c-aebb-b34070717029",
        "outputId": "66851b84-9bef-4c6f-dfcf-344aa1e67382"
      },
      "outputs": [
        {
          "name": "stdout",
          "output_type": "stream",
          "text": [
            "hello world\n"
          ]
        }
      ],
      "source": [
        "print(\"hello world\")\n",
        "\n",
        "# ctrl + enter"
      ]
    },
    {
      "cell_type": "markdown",
      "id": "0446f037-148c-4546-b708-98689bad0096",
      "metadata": {
        "id": "0446f037-148c-4546-b708-98689bad0096"
      },
      "source": [
        "#### Performing introductory session on Python"
      ]
    },
    {
      "cell_type": "markdown",
      "id": "178a6f9a-e309-4a0d-becd-18a4cf6037cb",
      "metadata": {
        "id": "178a6f9a-e309-4a0d-becd-18a4cf6037cb"
      },
      "source": [
        "# Demo on Python"
      ]
    },
    {
      "cell_type": "markdown",
      "id": "05550a03-ce47-48eb-9fce-7c1125e39f96",
      "metadata": {
        "id": "05550a03-ce47-48eb-9fce-7c1125e39f96"
      },
      "source": [
        "Press Esc go for M - markdown cell"
      ]
    },
    {
      "cell_type": "code",
      "execution_count": null,
      "id": "ed3b2de1-5730-40cc-a904-94402c88d444",
      "metadata": {
        "id": "ed3b2de1-5730-40cc-a904-94402c88d444",
        "outputId": "6f35c49e-cdf6-494c-eb87-b281ff3c6db4"
      },
      "outputs": [
        {
          "name": "stdout",
          "output_type": "stream",
          "text": [
            "hello\n",
            " world\n"
          ]
        }
      ],
      "source": [
        "print(\"hello\\n world\") # \\ - backslash - escape sequence - newline"
      ]
    },
    {
      "cell_type": "markdown",
      "id": "d12fec7f-4da8-4f7b-bcc2-52feb224a071",
      "metadata": {
        "id": "d12fec7f-4da8-4f7b-bcc2-52feb224a071"
      },
      "source": [
        "## Primitive Data Types in Python"
      ]
    },
    {
      "cell_type": "code",
      "execution_count": null,
      "id": "5031ccf2-c541-4e8e-85e3-06496c8792b5",
      "metadata": {
        "id": "5031ccf2-c541-4e8e-85e3-06496c8792b5",
        "outputId": "a36e3ad0-622e-43e5-99fc-08bba80e793f"
      },
      "outputs": [
        {
          "name": "stdout",
          "output_type": "stream",
          "text": [
            "<class 'int'>\n"
          ]
        }
      ],
      "source": [
        "a = 6\n",
        "b = 7\n",
        "\n",
        "print(type(a))"
      ]
    },
    {
      "cell_type": "code",
      "execution_count": null,
      "id": "194f4e9d-0ced-45d6-9a06-286a6167f500",
      "metadata": {
        "id": "194f4e9d-0ced-45d6-9a06-286a6167f500"
      },
      "outputs": [],
      "source": [
        "a = 9.1"
      ]
    },
    {
      "cell_type": "code",
      "execution_count": null,
      "id": "78cf7169-58b8-4d78-929c-9d71548fae1a",
      "metadata": {
        "id": "78cf7169-58b8-4d78-929c-9d71548fae1a",
        "outputId": "d4239e55-7829-4873-b243-b7d106f7686c"
      },
      "outputs": [
        {
          "name": "stdout",
          "output_type": "stream",
          "text": [
            "<class 'float'>\n"
          ]
        }
      ],
      "source": [
        "print(type(a))"
      ]
    },
    {
      "cell_type": "code",
      "execution_count": null,
      "id": "50a715f2-37e0-4e67-8f84-69b419a422fc",
      "metadata": {
        "id": "50a715f2-37e0-4e67-8f84-69b419a422fc",
        "outputId": "32c00711-e5ae-4fa5-9359-26ec85609250"
      },
      "outputs": [
        {
          "name": "stdout",
          "output_type": "stream",
          "text": [
            "<class 'bool'>\n"
          ]
        }
      ],
      "source": [
        "a = True\n",
        "print(type(a))"
      ]
    },
    {
      "cell_type": "code",
      "execution_count": null,
      "id": "db015f2b-c711-4ee9-b052-ed70b13f4231",
      "metadata": {
        "id": "db015f2b-c711-4ee9-b052-ed70b13f4231"
      },
      "outputs": [],
      "source": [
        "a = \"Ramesh\""
      ]
    },
    {
      "cell_type": "code",
      "execution_count": null,
      "id": "e4c28768-3f21-4858-b47f-c784d6187dfd",
      "metadata": {
        "id": "e4c28768-3f21-4858-b47f-c784d6187dfd",
        "outputId": "3a418c30-ef53-49bc-8ab5-1198f23c6c0a"
      },
      "outputs": [
        {
          "name": "stdout",
          "output_type": "stream",
          "text": [
            "<class 'str'>\n"
          ]
        }
      ],
      "source": [
        "print(type(a))"
      ]
    },
    {
      "cell_type": "markdown",
      "id": "0fd7c076-fe1c-44a7-9c63-2670db83524d",
      "metadata": {
        "id": "0fd7c076-fe1c-44a7-9c63-2670db83524d"
      },
      "source": [
        "## Arithmetic Operations"
      ]
    },
    {
      "cell_type": "code",
      "execution_count": null,
      "id": "b49ac530-7b71-4c73-aec6-5e1f9123b7f4",
      "metadata": {
        "id": "b49ac530-7b71-4c73-aec6-5e1f9123b7f4",
        "outputId": "4c9605c3-bf86-4a4e-aecf-3b24accdbe88"
      },
      "outputs": [
        {
          "name": "stdout",
          "output_type": "stream",
          "text": [
            "13\n",
            "-1\n",
            "6\n",
            "0.8571428571428571\n",
            "0\n",
            "42\n",
            "279936\n"
          ]
        }
      ],
      "source": [
        "a = 6\n",
        "b = 7\n",
        "print(a+b)\n",
        "print(a-b)\n",
        "print(a%b)  # modulus operator % remainder when a is divided by b\n",
        "print(a/b)  # division with precision (decimal digits)\n",
        "print(a//b) # floor division - near by lowest round off\n",
        "print(a*b)\n",
        "print(a**b) # a to the power of b (exponentiation operator)\n",
        "\n"
      ]
    },
    {
      "cell_type": "code",
      "execution_count": null,
      "id": "0c9e31f1-fdb6-41ab-a6ff-d0e4a198b98e",
      "metadata": {
        "id": "0c9e31f1-fdb6-41ab-a6ff-d0e4a198b98e",
        "outputId": "ee1ad88a-0afe-4187-f536-2f56ee1234b8"
      },
      "outputs": [
        {
          "name": "stdout",
          "output_type": "stream",
          "text": [
            "16\n"
          ]
        }
      ],
      "source": [
        "a = 4\n",
        "b = 2\n",
        "print(a**b)"
      ]
    },
    {
      "cell_type": "code",
      "execution_count": null,
      "id": "84764efa-2cb2-45a5-a2e3-e0a0384b509a",
      "metadata": {
        "id": "84764efa-2cb2-45a5-a2e3-e0a0384b509a",
        "outputId": "2846cac0-acd9-436c-a409-61490a5239fc"
      },
      "outputs": [
        {
          "name": "stdout",
          "output_type": "stream",
          "text": [
            "2.25\n"
          ]
        }
      ],
      "source": [
        "a = (1 + 2) * 3 / 4  # 3*3/4\n",
        "print(a)"
      ]
    },
    {
      "cell_type": "code",
      "execution_count": null,
      "id": "be8e2bf8-aeee-41d8-b5cb-9c95e71704a3",
      "metadata": {
        "id": "be8e2bf8-aeee-41d8-b5cb-9c95e71704a3",
        "outputId": "dda372c1-5d0b-4849-8733-f152d80ed317"
      },
      "outputs": [
        {
          "name": "stdout",
          "output_type": "stream",
          "text": [
            "35.75\n"
          ]
        }
      ],
      "source": [
        "b = 1**2 + 3/4 + 2 + 2**5\n",
        "print(b)"
      ]
    },
    {
      "cell_type": "code",
      "execution_count": null,
      "id": "67347e7c-f7a0-4a1f-a940-33ce8a750c54",
      "metadata": {
        "id": "67347e7c-f7a0-4a1f-a940-33ce8a750c54",
        "outputId": "df9f34cd-aff4-4d47-f46e-b68c17137342"
      },
      "outputs": [
        {
          "data": {
            "text/plain": [
              "0"
            ]
          },
          "execution_count": 50,
          "metadata": {},
          "output_type": "execute_result"
        }
      ],
      "source": [
        "15%5"
      ]
    },
    {
      "cell_type": "markdown",
      "id": "d2fc4dea-7464-412e-899c-3f3385b3fc92",
      "metadata": {
        "id": "d2fc4dea-7464-412e-899c-3f3385b3fc92"
      },
      "source": [
        "## BODMAS rules"
      ]
    },
    {
      "cell_type": "markdown",
      "id": "0f65a681-39c0-4468-a66a-8446e904de43",
      "metadata": {
        "id": "0f65a681-39c0-4468-a66a-8446e904de43"
      },
      "source": [
        "1. Parenthesis left to right\n",
        "2. Exponential operator right to left precedence\n",
        "3. *,/,// left to right\n",
        "4. +, -  left to right"
      ]
    },
    {
      "cell_type": "markdown",
      "id": "439518aa-db31-443a-8e2f-867d46c82a38",
      "metadata": {
        "id": "439518aa-db31-443a-8e2f-867d46c82a38"
      },
      "source": [
        "## Logical operators"
      ]
    },
    {
      "cell_type": "code",
      "execution_count": null,
      "id": "73323980-c95b-4e6c-b65e-c55777558454",
      "metadata": {
        "id": "73323980-c95b-4e6c-b65e-c55777558454"
      },
      "outputs": [],
      "source": [
        "a = True\n",
        "b = False"
      ]
    },
    {
      "cell_type": "code",
      "execution_count": null,
      "id": "46e099a0-f469-470e-a982-d28ca9eff9bd",
      "metadata": {
        "id": "46e099a0-f469-470e-a982-d28ca9eff9bd",
        "outputId": "7530a61e-c696-4379-a490-b6a923b2ac85"
      },
      "outputs": [
        {
          "name": "stdout",
          "output_type": "stream",
          "text": [
            "True\n",
            "True\n"
          ]
        }
      ],
      "source": [
        "print(a | b) # logical or operator # T or F , F or T, T or T => T, # F or F => F\n",
        "print(a or b)"
      ]
    },
    {
      "cell_type": "code",
      "execution_count": null,
      "id": "4ad448a1-f74e-4d8a-936e-a8c05979f46b",
      "metadata": {
        "id": "4ad448a1-f74e-4d8a-936e-a8c05979f46b",
        "outputId": "9078820f-e571-4deb-c50a-9b3c00da38fc"
      },
      "outputs": [
        {
          "name": "stdout",
          "output_type": "stream",
          "text": [
            "False\n"
          ]
        }
      ],
      "source": [
        "print(a & b) # logical and operator # T and T => T # F and F, T and F, F and T => F"
      ]
    },
    {
      "cell_type": "code",
      "execution_count": null,
      "id": "5867c406-6133-419d-93c5-4e0f7ccca3d6",
      "metadata": {
        "id": "5867c406-6133-419d-93c5-4e0f7ccca3d6",
        "outputId": "53c4c724-4898-48b1-c2d7-c98b0138a26e"
      },
      "outputs": [
        {
          "name": "stdout",
          "output_type": "stream",
          "text": [
            "False\n"
          ]
        }
      ],
      "source": [
        "print(a and b)"
      ]
    },
    {
      "cell_type": "code",
      "execution_count": null,
      "id": "9365f834-79f1-4319-a72f-c36e92739dad",
      "metadata": {
        "id": "9365f834-79f1-4319-a72f-c36e92739dad",
        "outputId": "036d907e-0cb2-4721-c050-38e2b5d95743"
      },
      "outputs": [
        {
          "data": {
            "text/plain": [
              "False"
            ]
          },
          "execution_count": 55,
          "metadata": {},
          "output_type": "execute_result"
        }
      ],
      "source": [
        "a == b # equality operator checking the equality only if they are equal it will give you true otherwise false"
      ]
    },
    {
      "cell_type": "code",
      "execution_count": null,
      "id": "5fb7dad0-a604-48d3-8bf8-5cecf58925ea",
      "metadata": {
        "id": "5fb7dad0-a604-48d3-8bf8-5cecf58925ea",
        "outputId": "06e1bc13-9c12-4a5b-db45-f5a44798396d"
      },
      "outputs": [
        {
          "data": {
            "text/plain": [
              "True"
            ]
          },
          "execution_count": 56,
          "metadata": {},
          "output_type": "execute_result"
        }
      ],
      "source": [
        "a != b # not equal to operator which checks whether a is not equivalent to b. If its not, it will return True else False"
      ]
    },
    {
      "cell_type": "markdown",
      "id": "04c0220d-afea-41ed-9b6f-08f6a04fd7db",
      "metadata": {
        "id": "04c0220d-afea-41ed-9b6f-08f6a04fd7db"
      },
      "source": [
        "## Strings"
      ]
    },
    {
      "cell_type": "code",
      "execution_count": null,
      "id": "818be779-96a3-4060-bc00-8182b8526616",
      "metadata": {
        "id": "818be779-96a3-4060-bc00-8182b8526616",
        "outputId": "bbdb3ffa-31e0-4d30-ae3f-8673292b3055"
      },
      "outputs": [
        {
          "name": "stdout",
          "output_type": "stream",
          "text": [
            "This is python session\n"
          ]
        }
      ],
      "source": [
        "s1 = \"This is python session\"\n",
        "      012345678910\n",
        "\n",
        "print(s1)"
      ]
    },
    {
      "cell_type": "code",
      "execution_count": null,
      "id": "67c122bf-3703-4d4e-9f18-2f48b59035d7",
      "metadata": {
        "id": "67c122bf-3703-4d4e-9f18-2f48b59035d7",
        "outputId": "98ba6066-ad9b-4263-e503-e14657774254"
      },
      "outputs": [
        {
          "name": "stdout",
          "output_type": "stream",
          "text": [
            "T\n"
          ]
        }
      ],
      "source": [
        "print(s1[0]) #indexing"
      ]
    },
    {
      "cell_type": "code",
      "execution_count": null,
      "id": "385972a9-ba36-499e-886f-3a3747ee3a01",
      "metadata": {
        "id": "385972a9-ba36-499e-886f-3a3747ee3a01",
        "outputId": "c707a256-d7df-442c-9b5b-5166cfcc9e1d"
      },
      "outputs": [
        {
          "name": "stdout",
          "output_type": "stream",
          "text": [
            "python\n"
          ]
        }
      ],
      "source": [
        "print(s1[8:14]) #slicing #start index inclusive whereas end index - exclusive"
      ]
    },
    {
      "cell_type": "code",
      "execution_count": null,
      "id": "2ecdc064-e656-41f0-9c2e-27bb83625688",
      "metadata": {
        "id": "2ecdc064-e656-41f0-9c2e-27bb83625688",
        "outputId": "88cbd717-b8e0-448a-8e65-5934db8d341a"
      },
      "outputs": [
        {
          "name": "stdout",
          "output_type": "stream",
          "text": [
            "P\n"
          ]
        }
      ],
      "source": [
        "s2 = \"Python\"\n",
        "print(s2[-6]) # negative indexing"
      ]
    },
    {
      "cell_type": "code",
      "execution_count": null,
      "id": "a1c1e22a-4504-4db4-a8a7-9bf2622f0324",
      "metadata": {
        "id": "a1c1e22a-4504-4db4-a8a7-9bf2622f0324"
      },
      "outputs": [],
      "source": [
        "s3 = \"Python\""
      ]
    },
    {
      "cell_type": "code",
      "execution_count": null,
      "id": "5a4b065b-e94f-4c8d-8022-4f61bdd7e816",
      "metadata": {
        "id": "5a4b065b-e94f-4c8d-8022-4f61bdd7e816",
        "outputId": "969fea27-0118-4f03-bae2-30ae8225fd9b"
      },
      "outputs": [
        {
          "name": "stdout",
          "output_type": "stream",
          "text": [
            "P P\n"
          ]
        }
      ],
      "source": [
        "print(s3[0], s3[-6])"
      ]
    },
    {
      "cell_type": "code",
      "execution_count": null,
      "id": "331a1eda-b5e3-463f-bf69-f39eb1c29ae2",
      "metadata": {
        "id": "331a1eda-b5e3-463f-bf69-f39eb1c29ae2",
        "outputId": "38604c0e-e925-43aa-a68f-7724f9a50b3a"
      },
      "outputs": [
        {
          "name": "stdout",
          "output_type": "stream",
          "text": [
            "thon\n",
            "thon\n"
          ]
        }
      ],
      "source": [
        "print(s3[2:6])\n",
        "print(s3[-4:])"
      ]
    },
    {
      "cell_type": "code",
      "execution_count": null,
      "id": "8f1c1c07-391d-4525-982d-6f01ae090e1b",
      "metadata": {
        "id": "8f1c1c07-391d-4525-982d-6f01ae090e1b",
        "outputId": "79c257d3-0dce-4bfa-b9d7-564b689847fd"
      },
      "outputs": [
        {
          "name": "stdout",
          "output_type": "stream",
          "text": [
            "Py\n"
          ]
        }
      ],
      "source": [
        "print(s3[:2]) #slicing"
      ]
    },
    {
      "cell_type": "code",
      "execution_count": null,
      "id": "07cb4422-59a2-4a51-9616-40a83ec7ee8c",
      "metadata": {
        "id": "07cb4422-59a2-4a51-9616-40a83ec7ee8c",
        "outputId": "f68ecd04-807b-4c00-dc5a-210dabd625c3"
      },
      "outputs": [
        {
          "name": "stdout",
          "output_type": "stream",
          "text": [
            "Pto\n"
          ]
        }
      ],
      "source": [
        "print(s3[::2]) # by default it starts with index 0 :: - steps you need to take cursor will move 2 step ahead"
      ]
    },
    {
      "cell_type": "code",
      "execution_count": null,
      "id": "5968a30a-95fc-40ed-9cb0-4ebd2a142d66",
      "metadata": {
        "id": "5968a30a-95fc-40ed-9cb0-4ebd2a142d66"
      },
      "outputs": [],
      "source": [
        "s4 = \"Taj Mahal\"  #0 to n  left to right # negative indexing from left to right"
      ]
    },
    {
      "cell_type": "code",
      "execution_count": null,
      "id": "75ef6356-e21d-4c89-9b23-3460cc281c61",
      "metadata": {
        "id": "75ef6356-e21d-4c89-9b23-3460cc281c61",
        "outputId": "fdc89602-b7b1-4072-c865-ddeaa45837bd"
      },
      "outputs": [
        {
          "name": "stdout",
          "output_type": "stream",
          "text": [
            "Taj\n"
          ]
        }
      ],
      "source": [
        "print(s4[-9:-6]) # [start index:end index] => [start index: end index)"
      ]
    },
    {
      "cell_type": "code",
      "execution_count": null,
      "id": "830e1b19-1d97-4d59-a982-1f4dfc0a7133",
      "metadata": {
        "id": "830e1b19-1d97-4d59-a982-1f4dfc0a7133",
        "outputId": "2826a5ae-4f93-4d4f-ce17-99841974af27"
      },
      "outputs": [
        {
          "name": "stdout",
          "output_type": "stream",
          "text": [
            "TAJ MAHAL\n"
          ]
        }
      ],
      "source": [
        "str1 = \"Taj Mahal\"\n",
        "print(str1.upper())"
      ]
    },
    {
      "cell_type": "code",
      "execution_count": null,
      "id": "306c6dae-da8f-4fe9-9069-910c7e5c159e",
      "metadata": {
        "id": "306c6dae-da8f-4fe9-9069-910c7e5c159e",
        "outputId": "90c7693c-4fd4-4c33-97ab-a0ec5752c6da"
      },
      "outputs": [
        {
          "name": "stdout",
          "output_type": "stream",
          "text": [
            "TAJ MAHAL\n",
            "1930223168496\n"
          ]
        }
      ],
      "source": [
        "str1 = str1.upper()\n",
        "print(str1)\n",
        "\n",
        "print(id(str1))"
      ]
    },
    {
      "cell_type": "code",
      "execution_count": null,
      "id": "98eb81c0-38a6-45e2-a239-44454255934c",
      "metadata": {
        "id": "98eb81c0-38a6-45e2-a239-44454255934c"
      },
      "outputs": [],
      "source": [
        "s = \"Taj\"  #0x1"
      ]
    },
    {
      "cell_type": "code",
      "execution_count": null,
      "id": "dc80e9c1-0900-49b7-af71-c507a914cc31",
      "metadata": {
        "id": "dc80e9c1-0900-49b7-af71-c507a914cc31"
      },
      "outputs": [],
      "source": [
        "s1 = \"Mahal\" #0x2"
      ]
    },
    {
      "cell_type": "code",
      "execution_count": null,
      "id": "6bbe11c2-a268-4f95-b83d-38c7635fe708",
      "metadata": {
        "id": "6bbe11c2-a268-4f95-b83d-38c7635fe708",
        "outputId": "4a7ae6ec-f7ff-48f5-c4d0-150ac871d10a"
      },
      "outputs": [
        {
          "data": {
            "text/plain": [
              "'MahalTaj'"
            ]
          },
          "execution_count": 23,
          "metadata": {},
          "output_type": "execute_result"
        }
      ],
      "source": [
        "s3 = s1 + s #0x3\n",
        "s3"
      ]
    },
    {
      "cell_type": "code",
      "execution_count": null,
      "id": "308f0839-c3b0-45c1-bc18-aada6fc8567c",
      "metadata": {
        "id": "308f0839-c3b0-45c1-bc18-aada6fc8567c",
        "outputId": "15af84e2-108f-492e-ee07-abaaf752aa64"
      },
      "outputs": [
        {
          "name": "stdout",
          "output_type": "stream",
          "text": [
            "1930217359424\n"
          ]
        }
      ],
      "source": [
        "s1  # separate string\n",
        "\n",
        "print(id(s1))"
      ]
    },
    {
      "cell_type": "code",
      "execution_count": null,
      "id": "44984e30-4b16-4dbd-87d2-ce53c2959273",
      "metadata": {
        "id": "44984e30-4b16-4dbd-87d2-ce53c2959273"
      },
      "outputs": [],
      "source": [
        "a =5"
      ]
    },
    {
      "cell_type": "code",
      "execution_count": null,
      "id": "f4baa0d4-1c34-4099-82a4-7db8b1eaec59",
      "metadata": {
        "id": "f4baa0d4-1c34-4099-82a4-7db8b1eaec59",
        "outputId": "3d19ff3e-0bfb-4900-d945-335f51d5bab7"
      },
      "outputs": [
        {
          "name": "stdout",
          "output_type": "stream",
          "text": [
            "140704599312984\n",
            "140704599313144\n"
          ]
        }
      ],
      "source": [
        "print(id(a))\n",
        "a = a + 5\n",
        "print(id(a))"
      ]
    },
    {
      "cell_type": "code",
      "execution_count": null,
      "id": "16df23ef-42d0-4aea-b5f0-361cbb7e0eba",
      "metadata": {
        "id": "16df23ef-42d0-4aea-b5f0-361cbb7e0eba"
      },
      "outputs": [],
      "source": []
    },
    {
      "cell_type": "code",
      "execution_count": null,
      "id": "28b3aeb4-61a6-475f-993d-78fd0376a76a",
      "metadata": {
        "id": "28b3aeb4-61a6-475f-993d-78fd0376a76a"
      },
      "outputs": [],
      "source": [
        "s1 = s1.upper() #new string object"
      ]
    },
    {
      "cell_type": "code",
      "execution_count": null,
      "id": "82091b0b-b2d0-42c8-8688-9fbc3bf819a2",
      "metadata": {
        "id": "82091b0b-b2d0-42c8-8688-9fbc3bf819a2",
        "outputId": "c804ef59-6c9a-4d80-d27f-e82d6922e78c"
      },
      "outputs": [
        {
          "name": "stdout",
          "output_type": "stream",
          "text": [
            "1930217361392\n"
          ]
        }
      ],
      "source": [
        "print(id(s1))"
      ]
    },
    {
      "cell_type": "code",
      "execution_count": null,
      "id": "ce42c0e3-8da8-4629-be9a-bb411dfee64a",
      "metadata": {
        "id": "ce42c0e3-8da8-4629-be9a-bb411dfee64a"
      },
      "outputs": [],
      "source": [
        "list1 = [\"apple\" , \"banana\", \"mango\"]"
      ]
    },
    {
      "cell_type": "code",
      "execution_count": null,
      "id": "8eeb3072-184e-4eed-90a6-50024c16c888",
      "metadata": {
        "id": "8eeb3072-184e-4eed-90a6-50024c16c888",
        "outputId": "bf4a0b72-673f-42fd-cf03-9108c39bb63b"
      },
      "outputs": [
        {
          "name": "stdout",
          "output_type": "stream",
          "text": [
            "<class 'list'>\n"
          ]
        }
      ],
      "source": [
        "print(type(list1))"
      ]
    },
    {
      "cell_type": "code",
      "execution_count": null,
      "id": "fff25cba-a10f-49fc-9fb9-10a8f33084da",
      "metadata": {
        "id": "fff25cba-a10f-49fc-9fb9-10a8f33084da"
      },
      "outputs": [],
      "source": [
        "list1.append(\"kiwi\")"
      ]
    },
    {
      "cell_type": "code",
      "execution_count": null,
      "id": "33154713-856c-4632-a2b6-06c65f04da9f",
      "metadata": {
        "id": "33154713-856c-4632-a2b6-06c65f04da9f",
        "outputId": "bf3ca03b-dad2-4df2-8954-2a85f735437d"
      },
      "outputs": [
        {
          "data": {
            "text/plain": [
              "['apple', 'banana', 'mango', 'kiwi']"
            ]
          },
          "execution_count": 40,
          "metadata": {},
          "output_type": "execute_result"
        }
      ],
      "source": [
        "list1"
      ]
    },
    {
      "cell_type": "code",
      "execution_count": null,
      "id": "5bdfa9c4-faac-4f6f-ae4f-d26924cb5eed",
      "metadata": {
        "id": "5bdfa9c4-faac-4f6f-ae4f-d26924cb5eed",
        "outputId": "838a9bbc-251f-4636-c4b4-b499fb6f678e"
      },
      "outputs": [
        {
          "data": {
            "text/plain": [
              "['apple', 'banana', 'guava', 'mango', 'kiwi']"
            ]
          },
          "execution_count": 41,
          "metadata": {},
          "output_type": "execute_result"
        }
      ],
      "source": [
        "list1.insert(2, \"guava\")\n",
        "list1"
      ]
    },
    {
      "cell_type": "code",
      "execution_count": null,
      "id": "8695b246-fe07-4516-805e-fdb9cc411dbd",
      "metadata": {
        "id": "8695b246-fe07-4516-805e-fdb9cc411dbd"
      },
      "outputs": [],
      "source": [
        "list1.append(\"guava\")"
      ]
    },
    {
      "cell_type": "code",
      "execution_count": null,
      "id": "a101d79d-0716-4d26-9621-8c02fa34a307",
      "metadata": {
        "id": "a101d79d-0716-4d26-9621-8c02fa34a307",
        "outputId": "5c8af6a9-f7e9-4f39-c7ba-2d533325c150"
      },
      "outputs": [
        {
          "data": {
            "text/plain": [
              "['apple', 'banana', 'guava', 'mango', 'kiwi', 'guava', 'guava']"
            ]
          },
          "execution_count": 44,
          "metadata": {},
          "output_type": "execute_result"
        }
      ],
      "source": [
        "list1 # multiple occurences of guava it does not look at duplicates"
      ]
    },
    {
      "cell_type": "code",
      "execution_count": null,
      "id": "3abd35a1-bee5-4a7b-816f-71931264fdf8",
      "metadata": {
        "id": "3abd35a1-bee5-4a7b-816f-71931264fdf8"
      },
      "outputs": [],
      "source": [
        "list1.remove(\"guava\") #only first occurence will get removed"
      ]
    },
    {
      "cell_type": "code",
      "execution_count": null,
      "id": "aead5889-484b-40aa-ac1c-9579f678965b",
      "metadata": {
        "id": "aead5889-484b-40aa-ac1c-9579f678965b",
        "outputId": "52c003a8-8a80-4ccf-d2fc-df58dfb1cd64"
      },
      "outputs": [
        {
          "data": {
            "text/plain": [
              "['apple', 'banana', 'mango', 'kiwi', 'guava', 'guava']"
            ]
          },
          "execution_count": 47,
          "metadata": {},
          "output_type": "execute_result"
        }
      ],
      "source": [
        "list1"
      ]
    },
    {
      "cell_type": "code",
      "execution_count": null,
      "id": "e3ad73aa-93de-4072-b584-257d8cbad6c9",
      "metadata": {
        "id": "e3ad73aa-93de-4072-b584-257d8cbad6c9"
      },
      "outputs": [],
      "source": [
        "list1.sort() #default asc"
      ]
    },
    {
      "cell_type": "code",
      "execution_count": null,
      "id": "d4420df3-ce88-41da-b18f-e7032986c365",
      "metadata": {
        "id": "d4420df3-ce88-41da-b18f-e7032986c365",
        "outputId": "9881fb5b-181d-476a-e195-5ba2b78dd732"
      },
      "outputs": [
        {
          "data": {
            "text/plain": [
              "['apple', 'banana', 'guava', 'guava', 'kiwi', 'mango']"
            ]
          },
          "execution_count": 49,
          "metadata": {},
          "output_type": "execute_result"
        }
      ],
      "source": [
        "list1"
      ]
    },
    {
      "cell_type": "code",
      "execution_count": null,
      "id": "ee135005-3d94-490b-8faf-f132cb263cb8",
      "metadata": {
        "id": "ee135005-3d94-490b-8faf-f132cb263cb8"
      },
      "outputs": [],
      "source": [
        "list1.sort(reverse=True)"
      ]
    },
    {
      "cell_type": "code",
      "execution_count": null,
      "id": "f4fc1306-ac83-4799-851a-37c355f4769a",
      "metadata": {
        "id": "f4fc1306-ac83-4799-851a-37c355f4769a",
        "outputId": "645d1411-5aee-4255-8516-3bf33916611f"
      },
      "outputs": [
        {
          "data": {
            "text/plain": [
              "['mango', 'kiwi', 'guava', 'guava', 'banana', 'apple']"
            ]
          },
          "execution_count": 51,
          "metadata": {},
          "output_type": "execute_result"
        }
      ],
      "source": [
        "list1"
      ]
    },
    {
      "cell_type": "code",
      "execution_count": null,
      "id": "6bccb06a-841e-4b83-a036-f82e805e2188",
      "metadata": {
        "id": "6bccb06a-841e-4b83-a036-f82e805e2188",
        "outputId": "1f0747e9-033e-4271-ebed-21fa30f4f265"
      },
      "outputs": [
        {
          "data": {
            "text/plain": [
              "'apple'"
            ]
          },
          "execution_count": 52,
          "metadata": {},
          "output_type": "execute_result"
        }
      ],
      "source": [
        "list1.pop() #remove the last element and print it in display"
      ]
    },
    {
      "cell_type": "code",
      "execution_count": null,
      "id": "3a96265b-840d-4a96-9594-48a6054fb353",
      "metadata": {
        "id": "3a96265b-840d-4a96-9594-48a6054fb353",
        "outputId": "e86d0d8e-e32b-474d-e231-ff5e41461884"
      },
      "outputs": [
        {
          "data": {
            "text/plain": [
              "'guava'"
            ]
          },
          "execution_count": 53,
          "metadata": {},
          "output_type": "execute_result"
        }
      ],
      "source": [
        "list1.pop(2) # remove the element present at 2"
      ]
    },
    {
      "cell_type": "code",
      "execution_count": null,
      "id": "f983eac7-f1ba-4a84-b59b-87196d29c127",
      "metadata": {
        "id": "f983eac7-f1ba-4a84-b59b-87196d29c127",
        "outputId": "c6b4570d-1fc1-4ddc-a535-d3ef73068f01"
      },
      "outputs": [
        {
          "data": {
            "text/plain": [
              "4"
            ]
          },
          "execution_count": 58,
          "metadata": {},
          "output_type": "execute_result"
        }
      ],
      "source": [
        "len(list1)\n"
      ]
    },
    {
      "cell_type": "code",
      "execution_count": null,
      "id": "6abfc074-d5ff-4f7d-a41d-a5c04a473556",
      "metadata": {
        "id": "6abfc074-d5ff-4f7d-a41d-a5c04a473556",
        "outputId": "ebfcc82a-e651-40fa-ec68-0fa0c1328138"
      },
      "outputs": [
        {
          "data": {
            "text/plain": [
              "['mango', 'kiwi', 'guava', 'banana']"
            ]
          },
          "execution_count": 57,
          "metadata": {},
          "output_type": "execute_result"
        }
      ],
      "source": [
        "list1"
      ]
    },
    {
      "cell_type": "code",
      "execution_count": null,
      "id": "cdfc20e1-6a1c-4407-a871-94f4ebd69522",
      "metadata": {
        "id": "cdfc20e1-6a1c-4407-a871-94f4ebd69522",
        "outputId": "813a4df3-391b-4ce3-eae8-f02cb80e792a"
      },
      "outputs": [
        {
          "data": {
            "text/plain": [
              "('mango', 'kiwi')"
            ]
          },
          "execution_count": 59,
          "metadata": {},
          "output_type": "execute_result"
        }
      ],
      "source": [
        "list1[0], list1[-3] # ( elements present in tuple)"
      ]
    },
    {
      "cell_type": "code",
      "execution_count": null,
      "id": "9ae72322-aa65-4f95-96d2-a9530c4c0b2c",
      "metadata": {
        "id": "9ae72322-aa65-4f95-96d2-a9530c4c0b2c",
        "outputId": "d6338b17-2345-4089-e17a-535a83f2b3b3"
      },
      "outputs": [
        {
          "data": {
            "text/plain": [
              "['guava']"
            ]
          },
          "execution_count": 61,
          "metadata": {},
          "output_type": "execute_result"
        }
      ],
      "source": [
        "list1[-2:-1]"
      ]
    },
    {
      "cell_type": "code",
      "execution_count": null,
      "id": "e2a6f7c4-c3ee-4559-bc55-60213e360419",
      "metadata": {
        "id": "e2a6f7c4-c3ee-4559-bc55-60213e360419",
        "outputId": "e814ec3f-9c48-400d-9493-9eb7585ae167"
      },
      "outputs": [
        {
          "data": {
            "text/plain": [
              "['mango', 'guava']"
            ]
          },
          "execution_count": 62,
          "metadata": {},
          "output_type": "execute_result"
        }
      ],
      "source": [
        "list1[::2]"
      ]
    },
    {
      "cell_type": "code",
      "execution_count": null,
      "id": "25f92f6d-a48b-4f0d-b2c8-d46a6dab13ab",
      "metadata": {
        "id": "25f92f6d-a48b-4f0d-b2c8-d46a6dab13ab",
        "outputId": "f87b256c-74a5-432c-cc6d-51c8b817363e"
      },
      "outputs": [
        {
          "name": "stdout",
          "output_type": "stream",
          "text": [
            "Help on list object:\n",
            "\n",
            "class list(object)\n",
            " |  list(iterable=(), /)\n",
            " |\n",
            " |  Built-in mutable sequence.\n",
            " |\n",
            " |  If no argument is given, the constructor creates a new empty list.\n",
            " |  The argument must be an iterable if specified.\n",
            " |\n",
            " |  Methods defined here:\n",
            " |\n",
            " |  __add__(self, value, /)\n",
            " |      Return self+value.\n",
            " |\n",
            " |  __contains__(self, key, /)\n",
            " |      Return bool(key in self).\n",
            " |\n",
            " |  __delitem__(self, key, /)\n",
            " |      Delete self[key].\n",
            " |\n",
            " |  __eq__(self, value, /)\n",
            " |      Return self==value.\n",
            " |\n",
            " |  __ge__(self, value, /)\n",
            " |      Return self>=value.\n",
            " |\n",
            " |  __getattribute__(self, name, /)\n",
            " |      Return getattr(self, name).\n",
            " |\n",
            " |  __getitem__(self, index, /)\n",
            " |      Return self[index].\n",
            " |\n",
            " |  __gt__(self, value, /)\n",
            " |      Return self>value.\n",
            " |\n",
            " |  __iadd__(self, value, /)\n",
            " |      Implement self+=value.\n",
            " |\n",
            " |  __imul__(self, value, /)\n",
            " |      Implement self*=value.\n",
            " |\n",
            " |  __init__(self, /, *args, **kwargs)\n",
            " |      Initialize self.  See help(type(self)) for accurate signature.\n",
            " |\n",
            " |  __iter__(self, /)\n",
            " |      Implement iter(self).\n",
            " |\n",
            " |  __le__(self, value, /)\n",
            " |      Return self<=value.\n",
            " |\n",
            " |  __len__(self, /)\n",
            " |      Return len(self).\n",
            " |\n",
            " |  __lt__(self, value, /)\n",
            " |      Return self<value.\n",
            " |\n",
            " |  __mul__(self, value, /)\n",
            " |      Return self*value.\n",
            " |\n",
            " |  __ne__(self, value, /)\n",
            " |      Return self!=value.\n",
            " |\n",
            " |  __repr__(self, /)\n",
            " |      Return repr(self).\n",
            " |\n",
            " |  __reversed__(self, /)\n",
            " |      Return a reverse iterator over the list.\n",
            " |\n",
            " |  __rmul__(self, value, /)\n",
            " |      Return value*self.\n",
            " |\n",
            " |  __setitem__(self, key, value, /)\n",
            " |      Set self[key] to value.\n",
            " |\n",
            " |  __sizeof__(self, /)\n",
            " |      Return the size of the list in memory, in bytes.\n",
            " |\n",
            " |  append(self, object, /)\n",
            " |      Append object to the end of the list.\n",
            " |\n",
            " |  clear(self, /)\n",
            " |      Remove all items from list.\n",
            " |\n",
            " |  copy(self, /)\n",
            " |      Return a shallow copy of the list.\n",
            " |\n",
            " |  count(self, value, /)\n",
            " |      Return number of occurrences of value.\n",
            " |\n",
            " |  extend(self, iterable, /)\n",
            " |      Extend list by appending elements from the iterable.\n",
            " |\n",
            " |  index(self, value, start=0, stop=9223372036854775807, /)\n",
            " |      Return first index of value.\n",
            " |\n",
            " |      Raises ValueError if the value is not present.\n",
            " |\n",
            " |  insert(self, index, object, /)\n",
            " |      Insert object before index.\n",
            " |\n",
            " |  pop(self, index=-1, /)\n",
            " |      Remove and return item at index (default last).\n",
            " |\n",
            " |      Raises IndexError if list is empty or index is out of range.\n",
            " |\n",
            " |  remove(self, value, /)\n",
            " |      Remove first occurrence of value.\n",
            " |\n",
            " |      Raises ValueError if the value is not present.\n",
            " |\n",
            " |  reverse(self, /)\n",
            " |      Reverse *IN PLACE*.\n",
            " |\n",
            " |  sort(self, /, *, key=None, reverse=False)\n",
            " |      Sort the list in ascending order and return None.\n",
            " |\n",
            " |      The sort is in-place (i.e. the list itself is modified) and stable (i.e. the\n",
            " |      order of two equal elements is maintained).\n",
            " |\n",
            " |      If a key function is given, apply it once to each list item and sort them,\n",
            " |      ascending or descending, according to their function values.\n",
            " |\n",
            " |      The reverse flag can be set to sort in descending order.\n",
            " |\n",
            " |  ----------------------------------------------------------------------\n",
            " |  Class methods defined here:\n",
            " |\n",
            " |  __class_getitem__(...)\n",
            " |      See PEP 585\n",
            " |\n",
            " |  ----------------------------------------------------------------------\n",
            " |  Static methods defined here:\n",
            " |\n",
            " |  __new__(*args, **kwargs)\n",
            " |      Create and return a new object.  See help(type) for accurate signature.\n",
            " |\n",
            " |  ----------------------------------------------------------------------\n",
            " |  Data and other attributes defined here:\n",
            " |\n",
            " |  __hash__ = None\n",
            "\n"
          ]
        }
      ],
      "source": [
        "l1 = ['mango', 'kiwi', 'guava', 'banana','guava']\n",
        "\n",
        "help(l1)"
      ]
    },
    {
      "cell_type": "code",
      "execution_count": null,
      "id": "c24e9561-d101-42e2-a819-220ca4aceade",
      "metadata": {
        "id": "c24e9561-d101-42e2-a819-220ca4aceade",
        "outputId": "b26eeba3-b9cc-485b-9576-1fc49259b781"
      },
      "outputs": [
        {
          "data": {
            "text/plain": [
              "[]"
            ]
          },
          "execution_count": 73,
          "metadata": {},
          "output_type": "execute_result"
        }
      ],
      "source": [
        "l1 = ['abcd','dssf']\n",
        "l1.clear()\n",
        "l1"
      ]
    },
    {
      "cell_type": "code",
      "execution_count": null,
      "id": "f75a14fc-f807-42e1-9784-497713698152",
      "metadata": {
        "id": "f75a14fc-f807-42e1-9784-497713698152",
        "outputId": "91aeefa2-bb01-41ec-82d7-623be7be7aed"
      },
      "outputs": [
        {
          "data": {
            "text/plain": [
              "['apple', 'mango', 'guava', 'tomato', 'potato']"
            ]
          },
          "execution_count": 122,
          "metadata": {},
          "output_type": "execute_result"
        }
      ],
      "source": [
        "l1 = ['apple','mango','guava']\n",
        "l2 = ['tomato','potato']\n",
        "l1.extend(l2) # will help us in adding elements within the list as its\n",
        "l1"
      ]
    },
    {
      "cell_type": "code",
      "execution_count": null,
      "id": "abcd970c-036b-4db0-95b3-6798191672f9",
      "metadata": {
        "id": "abcd970c-036b-4db0-95b3-6798191672f9",
        "outputId": "1cc7cd3c-b81e-4792-8361-f4282f52c0ae"
      },
      "outputs": [
        {
          "data": {
            "text/plain": [
              "['apple', 'mango', 'guava', ['tomato', 'potato']]"
            ]
          },
          "execution_count": 123,
          "metadata": {},
          "output_type": "execute_result"
        }
      ],
      "source": [
        "l1 = ['apple','mango','guava']\n",
        "l2 = ['tomato','potato'] # add iterable within another iterable\n",
        "l1.append(l2)\n",
        "l1"
      ]
    },
    {
      "cell_type": "code",
      "execution_count": null,
      "id": "59d479e9-a360-4d27-8dbf-c33c1bd4cbf9",
      "metadata": {
        "id": "59d479e9-a360-4d27-8dbf-c33c1bd4cbf9",
        "outputId": "feb91a33-2d6f-4e21-c846-ebd327b93cb4"
      },
      "outputs": [
        {
          "data": {
            "text/plain": [
              "['abcd', 'dssf']"
            ]
          },
          "execution_count": 74,
          "metadata": {},
          "output_type": "execute_result"
        }
      ],
      "source": [
        "l2  = ['abcd','dssf']\n",
        "l3 = l2.copy() # creates new list neew location child location taken as its\n",
        "l3\n",
        "\n"
      ]
    },
    {
      "cell_type": "code",
      "execution_count": null,
      "id": "68459dc6-0f07-445f-85be-5b7af4462e94",
      "metadata": {
        "id": "68459dc6-0f07-445f-85be-5b7af4462e94",
        "outputId": "d8da4c4f-23ab-4f18-8dbb-84099e4f20a0"
      },
      "outputs": [
        {
          "name": "stdout",
          "output_type": "stream",
          "text": [
            "1930223795136\n",
            "1930223769728\n",
            "1930218722704 1930218722704\n"
          ]
        }
      ],
      "source": [
        "print(id(l3))\n",
        "print(id(l2))\n",
        "print(id(l3[0]), id(l2[0]))\n"
      ]
    },
    {
      "cell_type": "code",
      "execution_count": null,
      "id": "abff41d7-84f1-4547-96a0-7623be858415",
      "metadata": {
        "id": "abff41d7-84f1-4547-96a0-7623be858415"
      },
      "outputs": [],
      "source": [
        "l2.append('ddd')\n"
      ]
    },
    {
      "cell_type": "code",
      "execution_count": null,
      "id": "3fc11def-31b4-4ae1-9b77-7765927a1ef1",
      "metadata": {
        "id": "3fc11def-31b4-4ae1-9b77-7765927a1ef1"
      },
      "outputs": [],
      "source": [
        "l2[0] = 'tmy'"
      ]
    },
    {
      "cell_type": "code",
      "execution_count": null,
      "id": "236be53b-a6ce-46ce-9f4a-b986d54f1494",
      "metadata": {
        "id": "236be53b-a6ce-46ce-9f4a-b986d54f1494",
        "outputId": "5298ad7b-d88b-478a-84eb-be4d7c56da5a"
      },
      "outputs": [
        {
          "data": {
            "text/plain": [
              "['tmy', 'dssf', 'ddd']"
            ]
          },
          "execution_count": 80,
          "metadata": {},
          "output_type": "execute_result"
        }
      ],
      "source": [
        "l2"
      ]
    },
    {
      "cell_type": "code",
      "execution_count": null,
      "id": "e21a5cef-22f4-4c35-a60e-8912875fde61",
      "metadata": {
        "id": "e21a5cef-22f4-4c35-a60e-8912875fde61",
        "outputId": "e3cf6047-1203-408a-955f-b607aaf772e3"
      },
      "outputs": [
        {
          "data": {
            "text/plain": [
              "['abcd', 'dssf']"
            ]
          },
          "execution_count": 81,
          "metadata": {},
          "output_type": "execute_result"
        }
      ],
      "source": [
        "l3"
      ]
    },
    {
      "cell_type": "code",
      "execution_count": null,
      "id": "9404436e-3337-4503-ab48-da114caaa458",
      "metadata": {
        "id": "9404436e-3337-4503-ab48-da114caaa458"
      },
      "outputs": [],
      "source": [
        "import copy\n",
        "l1  = ['ram','sham','luvkush'] #nested lists #neew location\n",
        "l2 = copy.deepcopy(l1)\n"
      ]
    },
    {
      "cell_type": "code",
      "execution_count": null,
      "id": "057ec217-b47b-45a5-a8d6-a3229812a08a",
      "metadata": {
        "id": "057ec217-b47b-45a5-a8d6-a3229812a08a",
        "outputId": "882d511e-5030-498e-bcb8-b31231db505d"
      },
      "outputs": [
        {
          "name": "stdout",
          "output_type": "stream",
          "text": [
            "1930223416704\n",
            "1930223289344\n",
            "1930218967504 1930218967504\n"
          ]
        }
      ],
      "source": [
        "print(id(l1))\n",
        "print(id(l2))\n",
        "print(id(l1[0]), id(l2[0]))"
      ]
    },
    {
      "cell_type": "code",
      "execution_count": null,
      "id": "de99ca3c-5dcf-4508-a0bf-fe9d53e339af",
      "metadata": {
        "id": "de99ca3c-5dcf-4508-a0bf-fe9d53e339af",
        "outputId": "22e5d78f-acca-424d-9bd8-f76319905cd2"
      },
      "outputs": [
        {
          "name": "stdout",
          "output_type": "stream",
          "text": [
            "['sham', 'sham', 'luvkush']\n",
            "['ram', 'sham', 'luvkush']\n"
          ]
        }
      ],
      "source": [
        "l1[0] = 'sham'\n",
        "print(l1)\n",
        "print(l2)"
      ]
    },
    {
      "cell_type": "code",
      "execution_count": null,
      "id": "b74ec6f3-d840-40d5-8ef9-23a8924a0004",
      "metadata": {
        "id": "b74ec6f3-d840-40d5-8ef9-23a8924a0004"
      },
      "outputs": [],
      "source": [
        "# shallow copy will allow same location reference is useeed for primitive elements lies within list, at iterable level it will create new location,\n",
        "# deep copy it will create fully new location"
      ]
    },
    {
      "cell_type": "code",
      "execution_count": null,
      "id": "bea236f0-d009-41fd-b78d-20587255d55d",
      "metadata": {
        "id": "bea236f0-d009-41fd-b78d-20587255d55d",
        "outputId": "30b24045-5154-4817-b9e4-8943defafaf1"
      },
      "outputs": [
        {
          "name": "stdout",
          "output_type": "stream",
          "text": [
            "97\n",
            "None\n",
            "['a', 'b', 'd']\n"
          ]
        }
      ],
      "source": [
        "a = ord('a')\n",
        "print(a)\n",
        "\n",
        "list1 = ['b' ,'a','d']\n",
        "# sort it on the basis of ascii\n",
        "for i in range(0, len(list1)):\n",
        "    list1[i] = ord(list1[i]) #char to int\n",
        "\n",
        "print(list1.sort())\n",
        "\n",
        "for i in range(0, len(list1)):\n",
        "    list1[i] = chr(list1[i])\n",
        "\n",
        "print(list1)"
      ]
    },
    {
      "cell_type": "code",
      "execution_count": null,
      "id": "8dadfb99-c8c3-4497-a407-bb1481223db2",
      "metadata": {
        "id": "8dadfb99-c8c3-4497-a407-bb1481223db2"
      },
      "outputs": [],
      "source": [
        "## Tuples"
      ]
    },
    {
      "cell_type": "code",
      "execution_count": null,
      "id": "3760e0db-6992-4f5e-87d7-27edfb2dd711",
      "metadata": {
        "id": "3760e0db-6992-4f5e-87d7-27edfb2dd711"
      },
      "outputs": [],
      "source": [
        "t = tuple()"
      ]
    },
    {
      "cell_type": "code",
      "execution_count": null,
      "id": "5ad6c83e-422f-4f97-83b5-a0a0837cccbb",
      "metadata": {
        "id": "5ad6c83e-422f-4f97-83b5-a0a0837cccbb",
        "outputId": "df7e9300-20b6-44f4-8c2f-9438ffd2c392"
      },
      "outputs": [
        {
          "data": {
            "text/plain": [
              "tuple"
            ]
          },
          "execution_count": 92,
          "metadata": {},
          "output_type": "execute_result"
        }
      ],
      "source": [
        "type(t)"
      ]
    },
    {
      "cell_type": "code",
      "execution_count": null,
      "id": "ddee4723-260b-4991-9917-5211104886e7",
      "metadata": {
        "id": "ddee4723-260b-4991-9917-5211104886e7",
        "outputId": "dbd45589-23c6-42c7-d5f0-b1fa634caccf"
      },
      "outputs": [
        {
          "name": "stdout",
          "output_type": "stream",
          "text": [
            "Help on tuple object:\n",
            "\n",
            "class tuple(object)\n",
            " |  tuple(iterable=(), /)\n",
            " |\n",
            " |  Built-in immutable sequence.\n",
            " |\n",
            " |  If no argument is given, the constructor returns an empty tuple.\n",
            " |  If iterable is specified the tuple is initialized from iterable's items.\n",
            " |\n",
            " |  If the argument is a tuple, the return value is the same object.\n",
            " |\n",
            " |  Built-in subclasses:\n",
            " |      asyncgen_hooks\n",
            " |      UnraisableHookArgs\n",
            " |\n",
            " |  Methods defined here:\n",
            " |\n",
            " |  __add__(self, value, /)\n",
            " |      Return self+value.\n",
            " |\n",
            " |  __contains__(self, key, /)\n",
            " |      Return bool(key in self).\n",
            " |\n",
            " |  __eq__(self, value, /)\n",
            " |      Return self==value.\n",
            " |\n",
            " |  __ge__(self, value, /)\n",
            " |      Return self>=value.\n",
            " |\n",
            " |  __getattribute__(self, name, /)\n",
            " |      Return getattr(self, name).\n",
            " |\n",
            " |  __getitem__(self, key, /)\n",
            " |      Return self[key].\n",
            " |\n",
            " |  __getnewargs__(self, /)\n",
            " |\n",
            " |  __gt__(self, value, /)\n",
            " |      Return self>value.\n",
            " |\n",
            " |  __hash__(self, /)\n",
            " |      Return hash(self).\n",
            " |\n",
            " |  __iter__(self, /)\n",
            " |      Implement iter(self).\n",
            " |\n",
            " |  __le__(self, value, /)\n",
            " |      Return self<=value.\n",
            " |\n",
            " |  __len__(self, /)\n",
            " |      Return len(self).\n",
            " |\n",
            " |  __lt__(self, value, /)\n",
            " |      Return self<value.\n",
            " |\n",
            " |  __mul__(self, value, /)\n",
            " |      Return self*value.\n",
            " |\n",
            " |  __ne__(self, value, /)\n",
            " |      Return self!=value.\n",
            " |\n",
            " |  __repr__(self, /)\n",
            " |      Return repr(self).\n",
            " |\n",
            " |  __rmul__(self, value, /)\n",
            " |      Return value*self.\n",
            " |\n",
            " |  count(self, value, /)\n",
            " |      Return number of occurrences of value.\n",
            " |\n",
            " |  index(self, value, start=0, stop=9223372036854775807, /)\n",
            " |      Return first index of value.\n",
            " |\n",
            " |      Raises ValueError if the value is not present.\n",
            " |\n",
            " |  ----------------------------------------------------------------------\n",
            " |  Class methods defined here:\n",
            " |\n",
            " |  __class_getitem__(...)\n",
            " |      See PEP 585\n",
            " |\n",
            " |  ----------------------------------------------------------------------\n",
            " |  Static methods defined here:\n",
            " |\n",
            " |  __new__(*args, **kwargs)\n",
            " |      Create and return a new object.  See help(type) for accurate signature.\n",
            "\n"
          ]
        }
      ],
      "source": [
        "help(t)"
      ]
    },
    {
      "cell_type": "code",
      "execution_count": null,
      "id": "8d3cd7cc-dc8f-4bac-8d4b-88607cb03e67",
      "metadata": {
        "id": "8d3cd7cc-dc8f-4bac-8d4b-88607cb03e67",
        "outputId": "8220f5a1-745c-43bf-e4cd-28771e2833ee"
      },
      "outputs": [
        {
          "data": {
            "text/plain": [
              "3"
            ]
          },
          "execution_count": 96,
          "metadata": {},
          "output_type": "execute_result"
        }
      ],
      "source": [
        "t = (1,2,3,4,5,1,2,1)\n",
        "t.count(1) # count of specific value present in tuple"
      ]
    },
    {
      "cell_type": "code",
      "execution_count": null,
      "id": "3cd40136-7082-4120-87b4-9841b5a20f74",
      "metadata": {
        "id": "3cd40136-7082-4120-87b4-9841b5a20f74",
        "outputId": "c90c630b-9b0a-40a7-f4b9-bda7d9961f4d"
      },
      "outputs": [
        {
          "data": {
            "text/plain": [
              "0"
            ]
          },
          "execution_count": 98,
          "metadata": {},
          "output_type": "execute_result"
        }
      ],
      "source": [
        "t.index(1, 0,2) # to find the index of value present in tuple index(value, startindeex, endindex)"
      ]
    },
    {
      "cell_type": "code",
      "execution_count": null,
      "id": "26ac0635-f716-4136-87c5-63949096f86c",
      "metadata": {
        "id": "26ac0635-f716-4136-87c5-63949096f86c",
        "outputId": "a340a794-e780-48ca-fd26-269ee8d6e66e"
      },
      "outputs": [
        {
          "data": {
            "text/plain": [
              "4"
            ]
          },
          "execution_count": 102,
          "metadata": {},
          "output_type": "execute_result"
        }
      ],
      "source": [
        "t = (\"apple\",\"banana\",\"guava\",\"kiwi\",\"apple\")\n",
        "\n",
        "t.index(\"apple\" , 1,5)"
      ]
    },
    {
      "cell_type": "code",
      "execution_count": null,
      "id": "be1364c2-cbf0-4965-8cd9-88b4452c0586",
      "metadata": {
        "id": "be1364c2-cbf0-4965-8cd9-88b4452c0586",
        "outputId": "29f4213d-f1cb-490d-8790-30e4e4234511"
      },
      "outputs": [
        {
          "ename": "TypeError",
          "evalue": "'tuple' object does not support item assignment",
          "output_type": "error",
          "traceback": [
            "\u001b[1;31m---------------------------------------------------------------------------\u001b[0m",
            "\u001b[1;31mTypeError\u001b[0m                                 Traceback (most recent call last)",
            "Cell \u001b[1;32mIn[103], line 1\u001b[0m\n\u001b[1;32m----> 1\u001b[0m \u001b[43mt\u001b[49m\u001b[43m[\u001b[49m\u001b[38;5;241;43m0\u001b[39;49m\u001b[43m]\u001b[49m \u001b[38;5;241m=\u001b[39m \u001b[38;5;124m\"\u001b[39m\u001b[38;5;124mkiwi\u001b[39m\u001b[38;5;124m\"\u001b[39m\n",
            "\u001b[1;31mTypeError\u001b[0m: 'tuple' object does not support item assignment"
          ]
        }
      ],
      "source": [
        "t[0] = \"kiwi\""
      ]
    },
    {
      "cell_type": "code",
      "execution_count": null,
      "id": "f5e514a4-d391-4b91-ba20-26e8b030bd61",
      "metadata": {
        "id": "f5e514a4-d391-4b91-ba20-26e8b030bd61"
      },
      "outputs": [],
      "source": [
        " t=(1,2,2,3,3,4,6)\n"
      ]
    },
    {
      "cell_type": "code",
      "execution_count": null,
      "id": "0bb80a80-b766-4c4f-8610-f22fe18d3108",
      "metadata": {
        "id": "0bb80a80-b766-4c4f-8610-f22fe18d3108",
        "outputId": "d25c271f-e343-41f1-8b35-83d8f277b847"
      },
      "outputs": [
        {
          "data": {
            "text/plain": [
              "(1, 2, 2, 3, 3, 4, 6)"
            ]
          },
          "execution_count": 105,
          "metadata": {},
          "output_type": "execute_result"
        }
      ],
      "source": [
        "t # allow duplicates"
      ]
    },
    {
      "cell_type": "code",
      "execution_count": null,
      "id": "89c091d0-f879-445d-989f-b0cb946a21dc",
      "metadata": {
        "id": "89c091d0-f879-445d-989f-b0cb946a21dc",
        "outputId": "a697b4d2-264d-4e4c-c7ff-c8e5006bea29"
      },
      "outputs": [
        {
          "ename": "TypeError",
          "evalue": "'set' object is not subscriptable",
          "output_type": "error",
          "traceback": [
            "\u001b[1;31m---------------------------------------------------------------------------\u001b[0m",
            "\u001b[1;31mTypeError\u001b[0m                                 Traceback (most recent call last)",
            "Cell \u001b[1;32mIn[106], line 4\u001b[0m\n\u001b[0;32m      2\u001b[0m set1 \u001b[38;5;241m=\u001b[39m {\u001b[38;5;241m1\u001b[39m,\u001b[38;5;241m2\u001b[39m,\u001b[38;5;241m3\u001b[39m,\u001b[38;5;241m4\u001b[39m}\n\u001b[0;32m      3\u001b[0m set2 \u001b[38;5;241m=\u001b[39m {\u001b[38;5;241m3\u001b[39m,\u001b[38;5;241m4\u001b[39m,\u001b[38;5;241m5\u001b[39m,\u001b[38;5;241m6\u001b[39m}\n\u001b[1;32m----> 4\u001b[0m \u001b[43mset1\u001b[49m\u001b[43m[\u001b[49m\u001b[38;5;241;43m0\u001b[39;49m\u001b[43m]\u001b[49m\n",
            "\u001b[1;31mTypeError\u001b[0m: 'set' object is not subscriptable"
          ]
        }
      ],
      "source": [
        "## sets\n",
        "set1 = {1,2,3,4}\n",
        "set2 = {3,4,5,6}\n",
        "set1[0] # does not alllow indeexing to done on any set data structure"
      ]
    },
    {
      "cell_type": "code",
      "execution_count": null,
      "id": "0cb2a41c-5779-4b67-96f9-19f1cf2af486",
      "metadata": {
        "id": "0cb2a41c-5779-4b67-96f9-19f1cf2af486",
        "outputId": "299c1604-3e7d-41a4-8484-3c035de7c9dc"
      },
      "outputs": [
        {
          "ename": "TypeError",
          "evalue": "'set' object is not subscriptable",
          "output_type": "error",
          "traceback": [
            "\u001b[1;31m---------------------------------------------------------------------------\u001b[0m",
            "\u001b[1;31mTypeError\u001b[0m                                 Traceback (most recent call last)",
            "Cell \u001b[1;32mIn[107], line 1\u001b[0m\n\u001b[1;32m----> 1\u001b[0m \u001b[43mset1\u001b[49m\u001b[43m[\u001b[49m\u001b[38;5;241;43m0\u001b[39;49m\u001b[43m:\u001b[49m\u001b[38;5;241;43m2\u001b[39;49m\u001b[43m]\u001b[49m\n",
            "\u001b[1;31mTypeError\u001b[0m: 'set' object is not subscriptable"
          ]
        }
      ],
      "source": [
        "set1[0:2]"
      ]
    },
    {
      "cell_type": "code",
      "execution_count": null,
      "id": "9620ce50-2d95-4fd9-a9c2-a1d05bde9310",
      "metadata": {
        "id": "9620ce50-2d95-4fd9-a9c2-a1d05bde9310"
      },
      "outputs": [],
      "source": [
        "set1.add(6)"
      ]
    },
    {
      "cell_type": "code",
      "execution_count": null,
      "id": "14f3e16d-848d-4f89-8bac-7c700672ec59",
      "metadata": {
        "id": "14f3e16d-848d-4f89-8bac-7c700672ec59",
        "outputId": "be2c3d19-e504-4bf2-f77e-0de04a832824"
      },
      "outputs": [
        {
          "data": {
            "text/plain": [
              "{1, 2, 3, 4, 6}"
            ]
          },
          "execution_count": 109,
          "metadata": {},
          "output_type": "execute_result"
        }
      ],
      "source": [
        "set1"
      ]
    },
    {
      "cell_type": "code",
      "execution_count": null,
      "id": "7e422e59-8176-4ef9-98d5-f26228af15e7",
      "metadata": {
        "id": "7e422e59-8176-4ef9-98d5-f26228af15e7",
        "outputId": "9c744b05-edf6-4de3-d54d-902bcf1cbd16"
      },
      "outputs": [
        {
          "data": {
            "text/plain": [
              "{3, 4, 5}"
            ]
          },
          "execution_count": 110,
          "metadata": {},
          "output_type": "execute_result"
        }
      ],
      "source": [
        "set2.remove(6)\n",
        "set2"
      ]
    },
    {
      "cell_type": "code",
      "execution_count": null,
      "id": "7947a683-660d-4d7f-a684-e842360429b8",
      "metadata": {
        "id": "7947a683-660d-4d7f-a684-e842360429b8",
        "outputId": "5b509b9f-d43a-42b8-a2f8-afc85b44c583"
      },
      "outputs": [
        {
          "name": "stdout",
          "output_type": "stream",
          "text": [
            "Help on set object:\n",
            "\n",
            "class set(object)\n",
            " |  set() -> new empty set object\n",
            " |  set(iterable) -> new set object\n",
            " |\n",
            " |  Build an unordered collection of unique elements.\n",
            " |\n",
            " |  Methods defined here:\n",
            " |\n",
            " |  __and__(self, value, /)\n",
            " |      Return self&value.\n",
            " |\n",
            " |  __contains__(...)\n",
            " |      x.__contains__(y) <==> y in x.\n",
            " |\n",
            " |  __eq__(self, value, /)\n",
            " |      Return self==value.\n",
            " |\n",
            " |  __ge__(self, value, /)\n",
            " |      Return self>=value.\n",
            " |\n",
            " |  __getattribute__(self, name, /)\n",
            " |      Return getattr(self, name).\n",
            " |\n",
            " |  __gt__(self, value, /)\n",
            " |      Return self>value.\n",
            " |\n",
            " |  __iand__(self, value, /)\n",
            " |      Return self&=value.\n",
            " |\n",
            " |  __init__(self, /, *args, **kwargs)\n",
            " |      Initialize self.  See help(type(self)) for accurate signature.\n",
            " |\n",
            " |  __ior__(self, value, /)\n",
            " |      Return self|=value.\n",
            " |\n",
            " |  __isub__(self, value, /)\n",
            " |      Return self-=value.\n",
            " |\n",
            " |  __iter__(self, /)\n",
            " |      Implement iter(self).\n",
            " |\n",
            " |  __ixor__(self, value, /)\n",
            " |      Return self^=value.\n",
            " |\n",
            " |  __le__(self, value, /)\n",
            " |      Return self<=value.\n",
            " |\n",
            " |  __len__(self, /)\n",
            " |      Return len(self).\n",
            " |\n",
            " |  __lt__(self, value, /)\n",
            " |      Return self<value.\n",
            " |\n",
            " |  __ne__(self, value, /)\n",
            " |      Return self!=value.\n",
            " |\n",
            " |  __or__(self, value, /)\n",
            " |      Return self|value.\n",
            " |\n",
            " |  __rand__(self, value, /)\n",
            " |      Return value&self.\n",
            " |\n",
            " |  __reduce__(...)\n",
            " |      Return state information for pickling.\n",
            " |\n",
            " |  __repr__(self, /)\n",
            " |      Return repr(self).\n",
            " |\n",
            " |  __ror__(self, value, /)\n",
            " |      Return value|self.\n",
            " |\n",
            " |  __rsub__(self, value, /)\n",
            " |      Return value-self.\n",
            " |\n",
            " |  __rxor__(self, value, /)\n",
            " |      Return value^self.\n",
            " |\n",
            " |  __sizeof__(...)\n",
            " |      S.__sizeof__() -> size of S in memory, in bytes\n",
            " |\n",
            " |  __sub__(self, value, /)\n",
            " |      Return self-value.\n",
            " |\n",
            " |  __xor__(self, value, /)\n",
            " |      Return self^value.\n",
            " |\n",
            " |  add(...)\n",
            " |      Add an element to a set.\n",
            " |\n",
            " |      This has no effect if the element is already present.\n",
            " |\n",
            " |  clear(...)\n",
            " |      Remove all elements from this set.\n",
            " |\n",
            " |  copy(...)\n",
            " |      Return a shallow copy of a set.\n",
            " |\n",
            " |  difference(...)\n",
            " |      Return the difference of two or more sets as a new set.\n",
            " |\n",
            " |      (i.e. all elements that are in this set but not the others.)\n",
            " |\n",
            " |  difference_update(...)\n",
            " |      Remove all elements of another set from this set.\n",
            " |\n",
            " |  discard(...)\n",
            " |      Remove an element from a set if it is a member.\n",
            " |\n",
            " |      Unlike set.remove(), the discard() method does not raise\n",
            " |      an exception when an element is missing from the set.\n",
            " |\n",
            " |  intersection(...)\n",
            " |      Return the intersection of two sets as a new set.\n",
            " |\n",
            " |      (i.e. all elements that are in both sets.)\n",
            " |\n",
            " |  intersection_update(...)\n",
            " |      Update a set with the intersection of itself and another.\n",
            " |\n",
            " |  isdisjoint(...)\n",
            " |      Return True if two sets have a null intersection.\n",
            " |\n",
            " |  issubset(self, other, /)\n",
            " |      Test whether every element in the set is in other.\n",
            " |\n",
            " |  issuperset(self, other, /)\n",
            " |      Test whether every element in other is in the set.\n",
            " |\n",
            " |  pop(...)\n",
            " |      Remove and return an arbitrary set element.\n",
            " |      Raises KeyError if the set is empty.\n",
            " |\n",
            " |  remove(...)\n",
            " |      Remove an element from a set; it must be a member.\n",
            " |\n",
            " |      If the element is not a member, raise a KeyError.\n",
            " |\n",
            " |  symmetric_difference(...)\n",
            " |      Return the symmetric difference of two sets as a new set.\n",
            " |\n",
            " |      (i.e. all elements that are in exactly one of the sets.)\n",
            " |\n",
            " |  symmetric_difference_update(...)\n",
            " |      Update a set with the symmetric difference of itself and another.\n",
            " |\n",
            " |  union(...)\n",
            " |      Return the union of sets as a new set.\n",
            " |\n",
            " |      (i.e. all elements that are in either set.)\n",
            " |\n",
            " |  update(...)\n",
            " |      Update a set with the union of itself and others.\n",
            " |\n",
            " |  ----------------------------------------------------------------------\n",
            " |  Class methods defined here:\n",
            " |\n",
            " |  __class_getitem__(...)\n",
            " |      See PEP 585\n",
            " |\n",
            " |  ----------------------------------------------------------------------\n",
            " |  Static methods defined here:\n",
            " |\n",
            " |  __new__(*args, **kwargs)\n",
            " |      Create and return a new object.  See help(type) for accurate signature.\n",
            " |\n",
            " |  ----------------------------------------------------------------------\n",
            " |  Data and other attributes defined here:\n",
            " |\n",
            " |  __hash__ = None\n",
            "\n"
          ]
        }
      ],
      "source": [
        "help(set1)"
      ]
    },
    {
      "cell_type": "code",
      "execution_count": null,
      "id": "827b3729-69d5-4cff-9ace-b044644d61eb",
      "metadata": {
        "id": "827b3729-69d5-4cff-9ace-b044644d61eb"
      },
      "outputs": [],
      "source": [
        "set3 = set1.copy()"
      ]
    },
    {
      "cell_type": "code",
      "execution_count": null,
      "id": "bec2d7c3-694d-4eac-8717-23faf4993c72",
      "metadata": {
        "id": "bec2d7c3-694d-4eac-8717-23faf4993c72",
        "outputId": "9d791c99-8cda-4a3f-a48f-7fecd6cbcf66"
      },
      "outputs": [
        {
          "data": {
            "text/plain": [
              "{1, 2, 3, 4, 6}"
            ]
          },
          "execution_count": 117,
          "metadata": {},
          "output_type": "execute_result"
        }
      ],
      "source": [
        "set3"
      ]
    },
    {
      "cell_type": "code",
      "execution_count": null,
      "id": "701d64b6-1c91-4d6c-b039-ede34409752c",
      "metadata": {
        "id": "701d64b6-1c91-4d6c-b039-ede34409752c"
      },
      "outputs": [],
      "source": [
        "set1.discard(6)"
      ]
    },
    {
      "cell_type": "markdown",
      "id": "30e4e9c4-ee81-4c32-b5bf-0f59a2dd8e79",
      "metadata": {
        "id": "30e4e9c4-ee81-4c32-b5bf-0f59a2dd8e79"
      },
      "source": [
        "discard and remove method\n",
        "discard method does not give any exception if elemeent is not present in the set\n",
        "removee method gives error if required value is not present in the set"
      ]
    },
    {
      "cell_type": "code",
      "execution_count": null,
      "id": "237534ba-5ab1-4b7f-86c7-e66ff87adf70",
      "metadata": {
        "id": "237534ba-5ab1-4b7f-86c7-e66ff87adf70"
      },
      "outputs": [],
      "source": [
        "set1.discard(6)"
      ]
    },
    {
      "cell_type": "code",
      "execution_count": null,
      "id": "1b4512de-ca87-4b26-b0d3-de6375caded7",
      "metadata": {
        "id": "1b4512de-ca87-4b26-b0d3-de6375caded7",
        "outputId": "799c2b8c-aa32-4981-8310-336d2392268b"
      },
      "outputs": [
        {
          "data": {
            "text/plain": [
              "{1, 2, 3, 4}"
            ]
          },
          "execution_count": 119,
          "metadata": {},
          "output_type": "execute_result"
        }
      ],
      "source": [
        "set1"
      ]
    },
    {
      "cell_type": "code",
      "execution_count": null,
      "id": "564ca725-8a64-4a32-9155-bf430f2ed908",
      "metadata": {
        "id": "564ca725-8a64-4a32-9155-bf430f2ed908",
        "outputId": "51b49419-a57f-4d96-ee93-2b963e1153b8"
      },
      "outputs": [
        {
          "data": {
            "text/plain": [
              "{3, 4, 5}"
            ]
          },
          "execution_count": 124,
          "metadata": {},
          "output_type": "execute_result"
        }
      ],
      "source": [
        "set2"
      ]
    },
    {
      "cell_type": "code",
      "execution_count": null,
      "id": "a4fb1ca0-898d-4eed-bc37-88c6dc65cbab",
      "metadata": {
        "id": "a4fb1ca0-898d-4eed-bc37-88c6dc65cbab",
        "outputId": "1bea1479-9957-4e3f-a571-0eabe5f34140"
      },
      "outputs": [
        {
          "name": "stdout",
          "output_type": "stream",
          "text": [
            "{3, 4}\n"
          ]
        }
      ],
      "source": [
        "print(set1 & set2) # logical operator to perform all the set operations\n",
        "print(set1.intersection(set2))"
      ]
    },
    {
      "cell_type": "code",
      "execution_count": null,
      "id": "1179ffa9-ba39-4e4b-a709-c5012a3ce9f4",
      "metadata": {
        "id": "1179ffa9-ba39-4e4b-a709-c5012a3ce9f4",
        "outputId": "f893c226-02dc-4a35-9351-ca576a6226b5"
      },
      "outputs": [
        {
          "name": "stdout",
          "output_type": "stream",
          "text": [
            "{1, 2, 3, 4, 5}\n",
            "{1, 2, 3, 4, 5}\n"
          ]
        }
      ],
      "source": [
        "print(set1.union(set2))\n",
        "print(set1 | set2)"
      ]
    },
    {
      "cell_type": "code",
      "execution_count": null,
      "id": "d48a8b7a-0fcb-4b4a-8127-28e60eca344e",
      "metadata": {
        "id": "d48a8b7a-0fcb-4b4a-8127-28e60eca344e",
        "outputId": "522c7fb4-845d-4a61-ee4c-fa2da437ddf6"
      },
      "outputs": [
        {
          "name": "stdout",
          "output_type": "stream",
          "text": [
            "{1, 2}\n",
            "{1, 2}\n"
          ]
        }
      ],
      "source": [
        "print(set1.difference(set2))  set1 1,2,3,4   set2 3,4,5\n",
        "print(set1 - set2)"
      ]
    },
    {
      "cell_type": "code",
      "execution_count": null,
      "id": "9784ea91-57ff-4d96-9362-7fea22a140c8",
      "metadata": {
        "id": "9784ea91-57ff-4d96-9362-7fea22a140c8",
        "outputId": "96c8ce33-6425-4904-c3a7-16ab460e191c"
      },
      "outputs": [
        {
          "name": "stdout",
          "output_type": "stream",
          "text": [
            "{1, 2, 5}\n"
          ]
        }
      ],
      "source": [
        "print(set1.symmetric_difference(set2))"
      ]
    },
    {
      "cell_type": "code",
      "execution_count": null,
      "id": "326c12b9-6e1b-47f1-9db4-9e713dcb24f3",
      "metadata": {
        "id": "326c12b9-6e1b-47f1-9db4-9e713dcb24f3",
        "outputId": "c7f781c8-bba3-4ea3-d8f8-7dc9aab617e9"
      },
      "outputs": [
        {
          "data": {
            "text/plain": [
              "2"
            ]
          },
          "execution_count": 137,
          "metadata": {},
          "output_type": "execute_result"
        }
      ],
      "source": [
        "l1 = [\"123\",\"123\"]\n",
        "len(l1)"
      ]
    }
  ],
  "metadata": {
    "kernelspec": {
      "display_name": "Python 3 (ipykernel)",
      "language": "python",
      "name": "python3"
    },
    "language_info": {
      "codemirror_mode": {
        "name": "ipython",
        "version": 3
      },
      "file_extension": ".py",
      "mimetype": "text/x-python",
      "name": "python",
      "nbconvert_exporter": "python",
      "pygments_lexer": "ipython3",
      "version": "3.12.5"
    },
    "colab": {
      "provenance": [],
      "include_colab_link": true
    }
  },
  "nbformat": 4,
  "nbformat_minor": 5
}