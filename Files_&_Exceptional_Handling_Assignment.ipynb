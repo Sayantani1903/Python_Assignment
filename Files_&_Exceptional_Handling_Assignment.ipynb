{
  "nbformat": 4,
  "nbformat_minor": 0,
  "metadata": {
    "colab": {
      "provenance": [],
      "authorship_tag": "ABX9TyPBqg5FaN8cVwCDiwOUYSm+",
      "include_colab_link": true
    },
    "kernelspec": {
      "name": "python3",
      "display_name": "Python 3"
    },
    "language_info": {
      "name": "python"
    }
  },
  "cells": [
    {
      "cell_type": "markdown",
      "metadata": {
        "id": "view-in-github",
        "colab_type": "text"
      },
      "source": [
        "<a href=\"https://colab.research.google.com/github/Sayantani1903/Python_Assignment/blob/main/Files_%26_Exceptional_Handling_Assignment.ipynb\" target=\"_parent\"><img src=\"https://colab.research.google.com/assets/colab-badge.svg\" alt=\"Open In Colab\"/></a>"
      ]
    },
    {
      "cell_type": "markdown",
      "source": [
        "**1.Q1 Discuss the scenarios where multithreading is preferable to multiprocessing and scenarios where\n",
        "multiprocessing is a better choice.**\n",
        "                                                                      \n",
        "**Answer:**\n",
        "\n",
        "Multithreading\n",
        "\n",
        "Multithreading executes multiple threads within a single process, sharing memory space.\n",
        "\n",
        "Preferable Scenarios\n",
        "\n",
        "1. I/O-bound operations: Multithreading excels at handling concurrent I/O-bound tasks, such as network requests, database queries or file operations, where waiting for I/O operations is a significant portion of the task.\n",
        "2. GUI applications: Multithreading helps maintain responsive graphical user interfaces by performing time-consuming tasks in background threads.\n",
        "3. Real-time systems: Multithreading is suitable for real-time systems requiring quick responses to events.\n",
        "4. Memory-intensive applications: Sharing memory reduces memory usage.\n",
        "\n",
        "Limitations\n",
        "\n",
        "1. Global Interpreter Lock (GIL): In languages like Python, GIL prevents true parallel execution of threads, limiting performance.\n",
        "2. Synchronization complexity: Managing shared resources increases complexity.\n",
        "3. Debugging challenges: Multithreaded programs can be difficult to debug.\n",
        "\n",
        "Multiprocessing\n",
        "\n",
        "Multiprocessing executes multiple processes, each with its own memory space.\n",
        "\n",
        "Preferable Scenarios\n",
        "\n",
        "1. CPU-bound operations: Multiprocessing is ideal for CPU-intensive tasks like scientific computing, data compression or encryption.\n",
        "2. Parallel computation: Independent tasks benefit from true parallel execution.\n",
        "3. Large-scale computations: Breaking tasks into smaller processes aids distributed computing.\n",
        "4. Avoiding GIL limitations: Languages with GIL, like Python, benefit from multiprocessing for CPU-bound tasks.\n",
        "\n",
        "Limitations\n",
        "\n",
        "1. Inter-process communication (IPC) overhead: Sharing data between processes is costly.\n",
        "2. Higher memory usage: Each process requires separate memory.\n",
        "3. Process creation overhead: Starting processes is slower than threads.\n",
        "\n",
        "Key Considerations\n",
        "\n",
        "1. Task independence: If tasks are highly independent, multiprocessing might be better. For tasks sharing resources, multithreading could be preferred.\n",
        "2. Resource constraints: Multithreading conserves memory; multiprocessing may require more.\n",
        "3. Language and framework support: Choose based on language capabilities and libraries available.\n",
        "4. Debugging and complexity: Multithreading can be more complex; multiprocessing might simplify debugging\n"
      ],
      "metadata": {
        "id": "-MEuffbVZGjG"
      }
    },
    {
      "cell_type": "markdown",
      "source": [
        "**2.Describe what a process pool is and how it helps in managing multiple processes efficiently**\n",
        "\n",
        "**Answer**\n",
        "Process Pool Overview\n",
        "\n",
        "A process pool is a design pattern that manages multiple processes efficiently by reusing existing processes, reducing creation overhead and improving resource utilization. It's a container for a group of worker processes, allowing tasks to be executed concurrently.\n",
        "\n",
        "Key Benefits\n",
        "\n",
        "Efficient resource utilization: Reduces memory usage and minimizes process creation overhead.\n",
        "Improved responsiveness: Faster task execution due to reused processes.\n",
        "Better fault tolerance: Isolated worker processes prevent single-task failures from affecting the entire pool.\n",
        "Simplified task management: Centralized control for task distribution, monitoring and error handling.\n",
        "Process Pool Components\n",
        "\n",
        "Worker processes: Execute tasks from the pool's task queue.\n",
        "Task queue: Holds tasks waiting for execution.\n",
        "Pool manager: Supervises worker processes, task distribution and pool configuration.\n",
        "Process Pool Workflow\n",
        "\n",
        "Task submission: Tasks are added to the task queue.\n",
        "Worker selection: Available worker processes are selected.\n",
        "Task execution: Selected worker processes execute tasks.\n",
        "Result retrieval: Task results are collected and returned.\n",
        "Worker reuse: Worker processes return to the pool for reuse.\n",
        "Implementation Examples\n",
        "\n",
        "Python's multiprocessing.Pool: Provides a process pool implementation.\n",
        "Concurrent.futures.ProcessPoolExecutor: Offers a high-level interface for process pools.\n",
        "Best Practices\n",
        "\n",
        "Optimize pool size: Balance pool size with available resources.\n",
        "Monitor task queue: Prevent overflow and adjust pool size accordingly.\n",
        "Implement error handling: Handle worker process failures gracefully.\n",
        "Use inter-process communication: Efficiently exchange data between worker processes."
      ],
      "metadata": {
        "id": "1OHVrGR1bKm6"
      }
    },
    {
      "cell_type": "markdown",
      "source": [
        "**3.Explain what multiprocessing is and why it is used in Python programs**"
      ],
      "metadata": {
        "id": "UrYlBufKiWs1"
      }
    },
    {
      "cell_type": "code",
      "source": [
        "#Multiprocessing in Python\n",
        "\n",
        "'''Multiprocessing is a programming technique where multiple processes are executed concurrently,\n",
        "improving responsiveness, efficiency and system utilization.'''\n",
        "\n",
        "#What is Multiprocessing?\n",
        "\n",
        "'''Multiprocessing involves creating multiple operating system-level processes to execute tasks independently.\n",
        "Each process has its own memory space, and communication between processes requires inter-process communication (IPC) mechanisms.'''\n",
        "\n",
        "#Why Use Multiprocessing in Python?\n",
        "\n",
        "'''CPU-bound tasks: Multiprocessing bypasses Python's Global Interpreter Lock (GIL), allowing true parallel execution of CPU-intensive tasks.\n",
        "Concurrency: Improves responsiveness by executing tasks concurrently.\n",
        "Scalability: Utilizes multiple CPU cores for computation-intensive tasks.\n",
        "Fault tolerance: Isolated processes prevent single-task failures from affecting the entire program.\n",
        "Multiprocessing in Python: Key Modules'''\n",
        "\n",
        "#multiprocessing:\n",
        "'''Provides basic multiprocessing functionality.\n",
        "concurrent.futures (ProcessPoolExecutor): Offers high-level interface for multiprocessing.'''\n",
        "#Example Usage\n",
        "\n",
        "\n",
        "import multiprocessing\n",
        "import time\n",
        "\n",
        "def worker(num):\n",
        "    print(f\"Worker {num} started\")\n",
        "    time.sleep(2)\n",
        "    print(f\"Worker {num} finished\")\n",
        "\n",
        "if __name__ == \"__main__\":\n",
        "    processes = []\n",
        "    for i in range(5):\n",
        "        p = multiprocessing.Process(target=worker, args=(i,))\n",
        "        processes.append(p)\n",
        "        p.start()\n",
        "\n",
        "    for p in processes:\n",
        "        p.join()\n",
        "#Best Practices\n",
        "\n",
        "'''Protect entry point: Use if name == \"main\" to prevent child processes from executing the same code.\n",
        "Manage inter-process communication: Use queues, pipes or shared memory for IPC.\n",
        "Optimize process count: Balance process count with available CPU cores.\n",
        "Handle process failures: Implement error handling mechanisms.'''\n",
        "\n",
        "#Advantages\n",
        "\n",
        "'''Improved performance\n",
        "Enhanced responsiveness\n",
        "Better resource utilization'''"
      ],
      "metadata": {
        "colab": {
          "base_uri": "https://localhost:8080/",
          "height": 209
        },
        "id": "jsesqBRljBAV",
        "outputId": "4e19af3d-ac72-4f34-ad4a-9e40b71fec2f"
      },
      "execution_count": 3,
      "outputs": [
        {
          "output_type": "stream",
          "name": "stdout",
          "text": [
            "Worker 0 started\n",
            "Worker 1 started\n",
            "Worker 2 started\n",
            "Worker 3 started\n",
            "Worker 4 started\n",
            "Worker 0 finished\n",
            "Worker 1 finished\n",
            "Worker 2 finished\n",
            "Worker 3 finishedWorker 4 finished\n",
            "\n"
          ]
        },
        {
          "output_type": "execute_result",
          "data": {
            "text/plain": [
              "'Improved performance\\nEnhanced responsiveness\\nBetter resource utilization'"
            ],
            "application/vnd.google.colaboratory.intrinsic+json": {
              "type": "string"
            }
          },
          "metadata": {},
          "execution_count": 3
        }
      ]
    },
    {
      "cell_type": "markdown",
      "source": [
        "**4.Write a Python program using multithreading where one thread adds numbers to a list, and another thread removes numbers from the list. Implement a mechanism to avoid race conditions using threading Lock**"
      ],
      "metadata": {
        "id": "Ex8yraD7kPQb"
      }
    },
    {
      "cell_type": "code",
      "source": [
        "import threading\n",
        "import random\n",
        "import time\n",
        "\n",
        "# Shared list\n",
        "numbers = []\n",
        "\n",
        "# Lock for thread synchronization\n",
        "lock = threading.Lock()\n",
        "\n",
        "# Thread 1: Adds numbers to the list\n",
        "def add_numbers():\n",
        "    for _ in range(10):\n",
        "        with lock:  # Acquire lock\n",
        "            num = random.randint(1, 100)\n",
        "            numbers.append(num)\n",
        "            print(f\"Added: {num}\")\n",
        "        time.sleep(0.5)  # Simulate work\n",
        "\n",
        "# Thread 2: Removes numbers from the list\n",
        "def remove_numbers():\n",
        "    for _ in range(10):\n",
        "        with lock:  # Acquire lock\n",
        "            if numbers:\n",
        "                num = numbers.pop(0)\n",
        "                print(f\"Removed: {num}\")\n",
        "            else:\n",
        "                print(\"List empty\")\n",
        "        time.sleep(0.7)  # Simulate work\n",
        "\n",
        "# Create threads\n",
        "add_thread = threading.Thread(target=add_numbers)\n",
        "remove_thread = threading.Thread(target=remove_numbers)\n",
        "\n",
        "# Start threads\n",
        "add_thread.start()\n",
        "remove_thread.start()\n",
        "\n",
        "# Wait for threads to finish\n",
        "add_thread.join()\n",
        "remove_thread.join()\n",
        "\n",
        "print(\"Final List:\", numbers)"
      ],
      "metadata": {
        "colab": {
          "base_uri": "https://localhost:8080/"
        },
        "id": "72szrVpfk4U-",
        "outputId": "e5057a06-e631-4878-ac29-6fba5cc04cc2"
      },
      "execution_count": 4,
      "outputs": [
        {
          "output_type": "stream",
          "name": "stdout",
          "text": [
            "Added: 13\n",
            "Removed: 13\n",
            "Added: 11\n",
            "Removed: 11\n",
            "Added: 61\n",
            "Removed: 61\n",
            "Added: 47\n",
            "Added: 60\n",
            "Removed: 47\n",
            "Added: 47\n",
            "Removed: 60\n",
            "Added: 59\n",
            "Added: 3\n",
            "Removed: 47\n",
            "Added: 35\n",
            "Removed: 59\n",
            "Added: 83\n",
            "Removed: 3\n",
            "Removed: 35\n",
            "Removed: 83\n",
            "Final List: []\n"
          ]
        }
      ]
    },
    {
      "cell_type": "markdown",
      "source": [
        " **5.Describe the methods and tools available in Python for safely sharing data between threads and processes**\n",
        "\n",
        " **Answer**\n",
        " Thread-Safe Data Sharing\n",
        "\n",
        "threading.Lock: Exclusive access to shared resources.\n",
        "threading.RLock: Reentrant lock for nested access.\n",
        "threading.Semaphore: Limit concurrent access.\n",
        "queue.Queue: Thread-safe queue for producer-consumer patterns.\n",
        "threading.Event: Coordinate threads with events.\n",
        "Process-Safe Data Sharing\n",
        "\n",
        "multiprocessing.Pipe: Inter-process communication (IPC) pipe.\n",
        "multiprocessing.Queue: Process-safe queue.\n",
        "multiprocessing.Manager: Shared data structures (e.g., lists, dictionaries).\n",
        "multiprocessing.SharedMemory: Shared memory blocks.\n",
        "concurrent.futures.ProcessPoolExecutor: High-level process management.\n",
        "Data Structures\n",
        "\n",
        "threading.local: Thread-local storage.\n",
        "multiprocessing.Manager().dict(): Shared dictionary.\n",
        "multiprocessing.Manager().list(): Shared list.\n",
        "Best Practices\n",
        "\n",
        "Minimize shared data.\n",
        "Use locks and semaphores judiciously.\n",
        "Avoid shared state when possible.\n",
        "Use high-level concurrency libraries.\n",
        "Document shared data access.\n",
        "Recommended Libraries\n",
        "\n",
        "concurrent.futures\n",
        "multiprocessing\n",
        "threading\n",
        "queue\n",
        "numpy (for shared memory arrays)\n",
        "Additional Resources\n",
        "\n",
        "Python documentation: \"Concurrency\"\n",
        "\"Python Concurrency Essentials\" by Matt A. Wood\n",
        "\"Concurrency in Python\" tutorial by Real Python"
      ],
      "metadata": {
        "id": "gRy0JyLxlce0"
      }
    },
    {
      "cell_type": "markdown",
      "source": [
        "**6.Discuss why it’s crucial to handle exceptions in concurrent programs and the techniques available for doing so**"
      ],
      "metadata": {
        "id": "aWa6muLJl3e0"
      }
    },
    {
      "cell_type": "code",
      "source": [
        "#Importance of Exception Handling\n",
        "\n",
        "'''Preventing Program Termination: Unhandled exceptions can terminate the entire program, including all threads or processes.\n",
        "Maintaining Data Integrity: Exceptions can lead to inconsistent data states, especially in shared resources.\n",
        "Ensuring Responsiveness: Unhandled exceptions can cause deadlock or livelock situations.\n",
        "Improving Debuggability: Proper exception handling aids in identifying and resolving concurrency issues.'''\n",
        "\n",
        "#Techniques for Exception Handling\n",
        "\n",
        "#Thread-Level Exception Handling\n",
        "\n",
        "'''try-except blocks: Wrap thread code to catch and handle exceptions.\n",
        "threading.excepthook: Custom exception handling for threads.\n",
        "Thread-specific exception handling: Use threading.Thread subclassing.\n",
        "Process-Level Exception Handling\n",
        "\n",
        "try-except blocks: Wrap process code to catch and handle exceptions.\n",
        "multiprocessing.Process subclassing: Customize exception handling.\n",
        "Queue-based exception handling: Use multiprocessing.Queue for error reporting.\n",
        "High-Level Concurrency Libraries\n",
        "\n",
        "concurrent.futures: Built-in exception handling mechanisms.\n",
        "asyncio: Support for asynchronous exception handling.'''\n",
        "\n",
        "#Best Practices\n",
        "\n",
        "'''Centralize exception handling: Use a single handler for all threads or processes.\n",
        "Log exceptions: Record exceptions for post-mortem analysis.\n",
        "Test thoroughly: Ensure exception handling works correctly.\n",
        "Document exception handling: Clarify exception handling strategies.'''\n",
        "\n",
        "#Common Pitfalls\n",
        "\n",
        "'''Swallowing exceptions: Avoid hiding exceptions without proper handling.\n",
        "Uncaught exceptions: Ensure all exceptions are caught and handled.\n",
        "Deadlock risk: Avoid locking mechanisms that can lead to deadlocks.'''\n",
        "\n",
        "#Additional Resources\n",
        "\n",
        "#Python documentation: \"Concurrency\" and \"Exceptions\"\n",
        "#\"Python Concurrency Essentials\" by Matt A. Wood\n",
        "#\"Concurrency in Python\" tutorial by Real Python\n",
        "\n",
        "#Example code for exception handling in concurrent programs:\n",
        "\n",
        "\n",
        "import threading\n",
        "import concurrent.futures\n",
        "\n",
        "def thread_func():\n",
        "    try:\n",
        "        # Code that may raise exceptions\n",
        "        1 / 0\n",
        "    except ZeroDivisionError:\n",
        "        print(\"Handled ZeroDivisionError\")\n",
        "\n",
        "# Thread-level exception handling\n",
        "thread = threading.Thread(target=thread_func)\n",
        "thread.start()\n",
        "thread.join()\n",
        "\n",
        "# Process-level exception handling with concurrent.futures\n",
        "def process_func():\n",
        "    try:\n",
        "        1 / 0\n",
        "    except ZeroDivisionError:\n",
        "        print(\"Handled ZeroDivisionError\")\n",
        "\n",
        "with concurrent.futures.ProcessPoolExecutor() as executor:\n",
        "    future = executor.submit(process_func)\n",
        "    future.result()"
      ],
      "metadata": {
        "colab": {
          "base_uri": "https://localhost:8080/"
        },
        "id": "VKPZDJ0Yl_u0",
        "outputId": "0d0f8cf8-31bf-4cd2-90e4-820fd3e2ef36"
      },
      "execution_count": 5,
      "outputs": [
        {
          "output_type": "stream",
          "name": "stdout",
          "text": [
            "Handled ZeroDivisionError\n",
            "Handled ZeroDivisionError\n"
          ]
        }
      ]
    },
    {
      "cell_type": "markdown",
      "source": [
        "**7.Create a program that uses a thread pool to calculate the factorial of numbers from 1 to 10 concurrently. Use concurrent.futures.ThreadPoolExecutor to manage the threads.**"
      ],
      "metadata": {
        "id": "hsUQxbR6mzPT"
      }
    },
    {
      "cell_type": "code",
      "source": [
        "import concurrent.futures\n",
        "import math\n",
        "\n",
        "def calculate_factorial(n):\n",
        "    \"\"\"Calculate factorial of n\"\"\"\n",
        "    result = math.factorial(n)\n",
        "    print(f\"Factorial of {n}: {result}\")\n",
        "    return result\n",
        "\n",
        "def main():\n",
        "    # Create thread pool with 5 worker threads\n",
        "    with concurrent.futures.ThreadPoolExecutor(max_workers=5) as executor:\n",
        "        # Submit tasks to thread pool\n",
        "        futures = {executor.submit(calculate_factorial, i): i for i in range(1, 11)}\n",
        "\n",
        "        # Monitor task completion\n",
        "        for future in concurrent.futures.as_completed(futures):\n",
        "            idx = futures[future]\n",
        "            try:\n",
        "                future.result()  # Ensure task completed successfully\n",
        "            except Exception as e:\n",
        "              print(f\"Error calculating factorial of {idx}: {str(e)}\")\n",
        "\n",
        "if __name__ == \"__main__\":\n",
        "    main()"
      ],
      "metadata": {
        "colab": {
          "base_uri": "https://localhost:8080/"
        },
        "id": "5ZVZZOsWm7_W",
        "outputId": "e74148c6-fa99-4356-c060-af402e98481b"
      },
      "execution_count": 6,
      "outputs": [
        {
          "output_type": "stream",
          "name": "stdout",
          "text": [
            "Factorial of 1: 1\n",
            "Factorial of 2: 2\n",
            "Factorial of 3: 6\n",
            "Factorial of 4: 24\n",
            "Factorial of 5: 120\n",
            "Factorial of 6: 720Factorial of 7: 5040\n",
            "Factorial of 8: 40320\n",
            "Factorial of 9: 362880\n",
            "\n",
            "Factorial of 10: 3628800\n"
          ]
        }
      ]
    },
    {
      "cell_type": "markdown",
      "source": [
        "**8.Create a Python program that uses multiprocessing.Pool to compute the square of numbers from 1 to 10 in parallel. Measure the time taken to perform this computation using a pool of different sizes (e.g., 2, 4, 8 processes)**"
      ],
      "metadata": {
        "id": "vl0bNWU6nJRP"
      }
    },
    {
      "cell_type": "code",
      "source": [
        "import multiprocessing\n",
        "import time\n",
        "\n",
        "def square(x):\n",
        "    \"\"\"Calculate square of x\"\"\"\n",
        "    return x * x\n",
        "\n",
        "def parallel_computation(pool_size):\n",
        "    numbers = range(1, 11)\n",
        "    start_time = time.time()\n",
        "\n",
        "    with multiprocessing.Pool(pool_size) as pool:\n",
        "        results = pool.map(square, numbers)\n",
        "\n",
        "    end_time = time.time()\n",
        "    elapsed_time = end_time - start_time\n",
        "\n",
        "    print(f\"Pool size: {pool_size}, Time taken: {elapsed_time:.4f} seconds\")\n",
        "    return results\n",
        "\n",
        "if __name__ == \"__main__\":\n",
        "    pool_sizes = [1, 2, 4, 8]\n",
        "    for size in pool_sizes:\n",
        "        parallel_computation(size)"
      ],
      "metadata": {
        "colab": {
          "base_uri": "https://localhost:8080/"
        },
        "id": "T5P_y3VnnSYE",
        "outputId": "f47dcc9e-6ded-4882-8a2b-c55af76700e6"
      },
      "execution_count": 7,
      "outputs": [
        {
          "output_type": "stream",
          "name": "stdout",
          "text": [
            "Pool size: 1, Time taken: 0.0223 seconds\n",
            "Pool size: 2, Time taken: 0.0291 seconds\n",
            "Pool size: 4, Time taken: 0.0514 seconds\n",
            "Pool size: 8, Time taken: 0.1007 seconds\n"
          ]
        }
      ]
    }
  ]
}